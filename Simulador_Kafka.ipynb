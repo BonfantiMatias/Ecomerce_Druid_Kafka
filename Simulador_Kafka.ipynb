{
 "cells": [
  {
   "cell_type": "markdown",
   "id": "ca08beaf",
   "metadata": {},
   "source": [
    "# Librerias"
   ]
  },
  {
   "cell_type": "code",
   "execution_count": 1,
   "id": "9597008f",
   "metadata": {
    "tags": []
   },
   "outputs": [
    {
     "name": "stdout",
     "output_type": "stream",
     "text": [
      "Requirement already satisfied: kafka-python in /opt/conda/lib/python3.10/site-packages (2.0.2)\n",
      "Requirement already satisfied: confluent-kafka in /opt/conda/lib/python3.10/site-packages (2.1.1)\n"
     ]
    }
   ],
   "source": [
    "!pip install kafka-python\n",
    "!pip install confluent-kafka"
   ]
  },
  {
   "cell_type": "code",
   "execution_count": 2,
   "id": "33d1dab6",
   "metadata": {
    "tags": []
   },
   "outputs": [],
   "source": [
    "import pandas as pd \n",
    "import json\n",
    "import random \n",
    "import time\n",
    "import hashlib\n",
    "\n",
    "\n",
    "from kafka import KafkaProducer\n",
    "from confluent_kafka import Producer\n",
    "import socket\n",
    "import json\n",
    "import os\n",
    "\n",
    "from kafka_auth import conf\n",
    "\n"
   ]
  },
  {
   "cell_type": "code",
   "execution_count": 3,
   "id": "cb166194",
   "metadata": {
    "tags": []
   },
   "outputs": [],
   "source": [
    "ciudades = ['Capital_Federal','Cordoba','Rosario','Resistencia','Posadas']\n",
    "pago_en_linea = ['Tarjeta_de_credito','Mercado_Pago']\n",
    "pago_en_tienda = ['Efectivo','Tarjeta_de_credito','Mercado_Pago']\n",
    "origen = ['Facebook','Instagram','Organic','Twitter','Influencer_1','Influencer_2','Influencer_3','Influencer_4']\n",
    "estado_compra = ['COMPLETADO','PAGO_FALLIDO','FALLO_RESPUESTA_API','FONDOS_INSUFICIENTES','COMPLETADO','COMPLETADO','COMPLETADO','COMPLETADO','COMPLETADO','COMPLETADO','FALLO_RESPUESTA_API','FONDOS_INSUFICIENTES','ERROR_USUARIO','FRAUDE','COMPLETADO','COMPLETADO','COMPLETADO']"
   ]
  },
  {
   "cell_type": "code",
   "execution_count": 4,
   "id": "01716849",
   "metadata": {
    "tags": []
   },
   "outputs": [],
   "source": [
    "cap_coords = [\n",
    "    (-34.588571, -58.411379),\n",
    "    (-34.603738, -58.375216),\n",
    "    (-34.606232, -58.409714)]\n",
    "cor_coords = [\n",
    "    (-31.418623, -64.190728),\n",
    "    (-31.436559, -64.183577),\n",
    "    (-31.405747, -64.195188)\n",
    "]\n",
    "ros_coords = [\n",
    "    (-32.956032, -60.646908),\n",
    "    (-32.947581, -60.641690),\n",
    "    (-32.957750, -60.641780)\n",
    "]\n",
    "res_coords = [\n",
    "    (-27.451214, -58.986389),\n",
    "    (-27.445978, -58.978493),\n",
    "    (-27.446658, -58.985378)\n",
    "]\n",
    "pos_coords = [\n",
    "    (-27.369140, -55.907111),\n",
    "    (-27.362986, -55.907959),\n",
    "    (-27.366249, -55.906467)\n",
    "]"
   ]
  },
  {
   "cell_type": "code",
   "execution_count": 5,
   "id": "002f744b-b60f-4663-ba57-7ddc08c223c3",
   "metadata": {
    "tags": []
   },
   "outputs": [],
   "source": [
    "def obtener_metodo_pago(origen, estado_compra, pago_en_linea, pago_en_tienda):\n",
    "    \n",
    "    if origen == 'Orgánico':\n",
    "        \n",
    "        pago = random.choice(pago_en_tienda)\n",
    "        estado = 'COMPLETADO'\n",
    "        tipo_orden = 'TIENDA'\n",
    "        \n",
    "    elif origen != 'Orgánico':\n",
    "        \n",
    "        pago = random.choice(pago_en_linea)\n",
    "        estado = random.choice(estado_compra)\n",
    "        tipo_orden = 'EN LÍNEA'\n",
    "    \n",
    "    return pago, estado, tipo_orden\n",
    "\n",
    "\n",
    "def obtener_coordenadas(ciudad):\n",
    "    coords = None\n",
    "    \n",
    "    if ciudad == 'Capital_Federal':\n",
    "        coords = random.choice(cap_coords)\n",
    "    elif ciudad == 'Cordoba':\n",
    "        coords = random.choice(cor_coords)\n",
    "    elif ciudad == 'Rosario':\n",
    "        coords = random.choice(ros_coords)\n",
    "    elif ciudad == 'Resistencia':\n",
    "        coords = random.choice(res_coords)\n",
    "    elif ciudad == 'Posadas':\n",
    "        coords = random.choice(pos_coords)\n",
    "        \n",
    "    return coords\n",
    "\n"
   ]
  },
  {
   "cell_type": "code",
   "execution_count": 6,
   "id": "55d38a2a-de04-47d9-bd6d-949e9f6e7855",
   "metadata": {
    "tags": []
   },
   "outputs": [
    {
     "name": "stdout",
     "output_type": "stream",
     "text": [
      "('Tarjeta_de_credito', 'COMPLETADO', 'EN LÍNEA')\n"
     ]
    }
   ],
   "source": [
    "pago = obtener_metodo_pago(origen, estado_compra, pago_en_linea, pago_en_tienda)\n",
    "print(pago)"
   ]
  },
  {
   "cell_type": "code",
   "execution_count": 7,
   "id": "703f4b06",
   "metadata": {
    "tags": []
   },
   "outputs": [
    {
     "data": {
      "text/plain": [
       "'Tarjeta_de_credito'"
      ]
     },
     "execution_count": 7,
     "metadata": {},
     "output_type": "execute_result"
    }
   ],
   "source": [
    "pago[0]"
   ]
  },
  {
   "cell_type": "code",
   "execution_count": 8,
   "id": "027b9707",
   "metadata": {
    "tags": []
   },
   "outputs": [
    {
     "data": {
      "text/plain": [
       "'COMPLETADO'"
      ]
     },
     "execution_count": 8,
     "metadata": {},
     "output_type": "execute_result"
    }
   ],
   "source": [
    "pago[1]"
   ]
  },
  {
   "cell_type": "code",
   "execution_count": 9,
   "id": "79953b60",
   "metadata": {
    "tags": []
   },
   "outputs": [
    {
     "data": {
      "text/plain": [
       "'Capital_Federal'"
      ]
     },
     "execution_count": 9,
     "metadata": {},
     "output_type": "execute_result"
    }
   ],
   "source": [
    "random.choice(ciudades)"
   ]
  },
  {
   "cell_type": "code",
   "execution_count": 10,
   "id": "e314fe89",
   "metadata": {
    "tags": []
   },
   "outputs": [
    {
     "name": "stdout",
     "output_type": "stream",
     "text": [
      " Ciudad  >> Resistencia\n",
      " Coordenadas >> (-27.446658, -58.985378)\n"
     ]
    }
   ],
   "source": [
    "prueba = random.choice(ciudades)\n",
    "print(f' Ciudad  >> {prueba}')\n",
    "print(f' Coordenadas >> {obtener_coordenadas(prueba)}')"
   ]
  },
  {
   "cell_type": "code",
   "execution_count": 11,
   "id": "ad79b380",
   "metadata": {
    "tags": []
   },
   "outputs": [],
   "source": [
    "df = pd.read_excel('ecomerce_datexland.xlsx')"
   ]
  },
  {
   "cell_type": "code",
   "execution_count": 12,
   "id": "b762bd20",
   "metadata": {
    "tags": []
   },
   "outputs": [
    {
     "data": {
      "text/html": [
       "<div>\n",
       "<style scoped>\n",
       "    .dataframe tbody tr th:only-of-type {\n",
       "        vertical-align: middle;\n",
       "    }\n",
       "\n",
       "    .dataframe tbody tr th {\n",
       "        vertical-align: top;\n",
       "    }\n",
       "\n",
       "    .dataframe thead th {\n",
       "        text-align: right;\n",
       "    }\n",
       "</style>\n",
       "<table border=\"1\" class=\"dataframe\">\n",
       "  <thead>\n",
       "    <tr style=\"text-align: right;\">\n",
       "      <th></th>\n",
       "      <th>NOMBRE_PRODUCTO</th>\n",
       "      <th>PRECIO</th>\n",
       "      <th>COMISION</th>\n",
       "      <th>MARCA</th>\n",
       "      <th>CATEGORIA</th>\n",
       "    </tr>\n",
       "  </thead>\n",
       "  <tbody>\n",
       "    <tr>\n",
       "      <th>0</th>\n",
       "      <td>Laptop_Brand1_4GB</td>\n",
       "      <td>135000</td>\n",
       "      <td>0.20</td>\n",
       "      <td>Brand1</td>\n",
       "      <td>LAPTOPS</td>\n",
       "    </tr>\n",
       "    <tr>\n",
       "      <th>1</th>\n",
       "      <td>Laptop_Brand1_8GB</td>\n",
       "      <td>255000</td>\n",
       "      <td>0.25</td>\n",
       "      <td>Brand1</td>\n",
       "      <td>LAPTOPS</td>\n",
       "    </tr>\n",
       "    <tr>\n",
       "      <th>2</th>\n",
       "      <td>Laptop_Brand1_16GB</td>\n",
       "      <td>350000</td>\n",
       "      <td>0.30</td>\n",
       "      <td>Brand1</td>\n",
       "      <td>LAPTOPS</td>\n",
       "    </tr>\n",
       "    <tr>\n",
       "      <th>3</th>\n",
       "      <td>Laptop_Brand1_32GB</td>\n",
       "      <td>480000</td>\n",
       "      <td>0.35</td>\n",
       "      <td>Brand1</td>\n",
       "      <td>GAMING</td>\n",
       "    </tr>\n",
       "    <tr>\n",
       "      <th>4</th>\n",
       "      <td>Laptop_Brand2_4GB</td>\n",
       "      <td>115000</td>\n",
       "      <td>0.15</td>\n",
       "      <td>Brand2</td>\n",
       "      <td>LAPTOPS</td>\n",
       "    </tr>\n",
       "    <tr>\n",
       "      <th>5</th>\n",
       "      <td>Laptop_Brand2_8GB</td>\n",
       "      <td>185000</td>\n",
       "      <td>0.18</td>\n",
       "      <td>Brand2</td>\n",
       "      <td>LAPTOPS</td>\n",
       "    </tr>\n",
       "    <tr>\n",
       "      <th>6</th>\n",
       "      <td>Laptop_Brand2_16GB</td>\n",
       "      <td>389000</td>\n",
       "      <td>0.20</td>\n",
       "      <td>Brand2</td>\n",
       "      <td>LAPTOPS</td>\n",
       "    </tr>\n",
       "    <tr>\n",
       "      <th>7</th>\n",
       "      <td>Laptop_Brand2_32GB</td>\n",
       "      <td>699000</td>\n",
       "      <td>0.25</td>\n",
       "      <td>Brand2</td>\n",
       "      <td>GAMING</td>\n",
       "    </tr>\n",
       "    <tr>\n",
       "      <th>8</th>\n",
       "      <td>Laptop_Brand3_4GB</td>\n",
       "      <td>185000</td>\n",
       "      <td>0.20</td>\n",
       "      <td>Brand3</td>\n",
       "      <td>LAPTOPS</td>\n",
       "    </tr>\n",
       "    <tr>\n",
       "      <th>9</th>\n",
       "      <td>Laptop_Brand3_8GB</td>\n",
       "      <td>319900</td>\n",
       "      <td>0.28</td>\n",
       "      <td>Brand3</td>\n",
       "      <td>LAPTOPS</td>\n",
       "    </tr>\n",
       "    <tr>\n",
       "      <th>10</th>\n",
       "      <td>Laptop_Brand3_16GB</td>\n",
       "      <td>465900</td>\n",
       "      <td>0.30</td>\n",
       "      <td>Brand3</td>\n",
       "      <td>LAPTOPS</td>\n",
       "    </tr>\n",
       "    <tr>\n",
       "      <th>11</th>\n",
       "      <td>Laptop_Brand3_32GB</td>\n",
       "      <td>1899900</td>\n",
       "      <td>0.40</td>\n",
       "      <td>Brand3</td>\n",
       "      <td>GAMING</td>\n",
       "    </tr>\n",
       "    <tr>\n",
       "      <th>12</th>\n",
       "      <td>Console_Xbox</td>\n",
       "      <td>314000</td>\n",
       "      <td>0.15</td>\n",
       "      <td>X_Box</td>\n",
       "      <td>VIDEO GAMES</td>\n",
       "    </tr>\n",
       "    <tr>\n",
       "      <th>13</th>\n",
       "      <td>Console_PS5</td>\n",
       "      <td>400000</td>\n",
       "      <td>0.30</td>\n",
       "      <td>PS5</td>\n",
       "      <td>VIDEO GAMES</td>\n",
       "    </tr>\n",
       "    <tr>\n",
       "      <th>14</th>\n",
       "      <td>Console_Switch</td>\n",
       "      <td>320000</td>\n",
       "      <td>0.20</td>\n",
       "      <td>Nintendo</td>\n",
       "      <td>VIDEO GAMES</td>\n",
       "    </tr>\n",
       "  </tbody>\n",
       "</table>\n",
       "</div>"
      ],
      "text/plain": [
       "       NOMBRE_PRODUCTO   PRECIO  COMISION     MARCA    CATEGORIA\n",
       "0    Laptop_Brand1_4GB   135000      0.20    Brand1      LAPTOPS\n",
       "1    Laptop_Brand1_8GB   255000      0.25    Brand1      LAPTOPS\n",
       "2   Laptop_Brand1_16GB   350000      0.30    Brand1      LAPTOPS\n",
       "3   Laptop_Brand1_32GB   480000      0.35    Brand1       GAMING\n",
       "4    Laptop_Brand2_4GB   115000      0.15    Brand2      LAPTOPS\n",
       "5    Laptop_Brand2_8GB   185000      0.18    Brand2      LAPTOPS\n",
       "6   Laptop_Brand2_16GB   389000      0.20    Brand2      LAPTOPS\n",
       "7   Laptop_Brand2_32GB   699000      0.25    Brand2       GAMING\n",
       "8    Laptop_Brand3_4GB   185000      0.20    Brand3      LAPTOPS\n",
       "9    Laptop_Brand3_8GB   319900      0.28    Brand3      LAPTOPS\n",
       "10  Laptop_Brand3_16GB   465900      0.30    Brand3      LAPTOPS\n",
       "11  Laptop_Brand3_32GB  1899900      0.40    Brand3       GAMING\n",
       "12        Console_Xbox   314000      0.15     X_Box  VIDEO GAMES\n",
       "13         Console_PS5   400000      0.30       PS5  VIDEO GAMES\n",
       "14      Console_Switch   320000      0.20  Nintendo  VIDEO GAMES"
      ]
     },
     "execution_count": 12,
     "metadata": {},
     "output_type": "execute_result"
    }
   ],
   "source": [
    "df"
   ]
  },
  {
   "cell_type": "markdown",
   "id": "9415812d",
   "metadata": {},
   "source": [
    "# Configuracion Cluster Kafka"
   ]
  },
  {
   "cell_type": "code",
   "execution_count": 13,
   "id": "8f230c99",
   "metadata": {
    "tags": []
   },
   "outputs": [],
   "source": [
    "# conf = ccloud_lib.read_ccloud_config('librdkafka.config')\n",
    "\n",
    "# # Create Producer instance\n",
    "# producer_conf = ccloud_lib.pop_schema_registry_params_from_config(conf)\n",
    "# producer = Producer(producer_conf)\n",
    "\n",
    "producer = Producer(conf)"
   ]
  },
  {
   "cell_type": "code",
   "execution_count": 14,
   "id": "9ccb6138-4e01-4f4a-ba16-0ec4aa992bc6",
   "metadata": {
    "tags": []
   },
   "outputs": [
    {
     "name": "stdout",
     "output_type": "stream",
     "text": [
      "Producing record: Simulador_Compras\tb'{\"ID_compra\": \"f5616fc423\", \"Nombre_producto\": \"Laptop_Brand3_16GB\", \"Precio\": \"465900\", \"Comision\": \"0.3\", \"Ingresos\": \"139770.0\", \"Metodo_pago\": \"Tarjeta_de_credito\", \"Estado\": \"COMPLETADO\", \"Tipo_orden\": \"EN L\\\\u00cdNEA\", \"Ciudad\": \"Cordoba\", \"Ubicacion\": \"(-31.405747, -64.195188)\", \"Latitud\": \"-31.418623\", \"Longitud\": \"-64.190728\", \"Fuente\": \"Facebook\", \"Marca\": \"Brand3\", \"Categoria\": \"LAPTOPS\", \"Creado_en\": \"2023-05-14 01:05:10\"}'\n",
      "Producing record: Simulador_Compras\tb'{\"ID_compra\": \"40f2a88309\", \"Nombre_producto\": \"Laptop_Brand2_8GB\", \"Precio\": \"185000\", \"Comision\": \"0.18\", \"Ingresos\": \"33300.0\", \"Metodo_pago\": \"Tarjeta_de_credito\", \"Estado\": \"COMPLETADO\", \"Tipo_orden\": \"EN L\\\\u00cdNEA\", \"Ciudad\": \"Capital_Federal\", \"Ubicacion\": \"(-34.588571, -58.411379)\", \"Latitud\": \"-34.603738\", \"Longitud\": \"-58.409714\", \"Fuente\": \"Influencer_1\", \"Marca\": \"Brand2\", \"Categoria\": \"LAPTOPS\", \"Creado_en\": \"2023-05-14 01:05:11\"}'\n",
      "Producing record: Simulador_Compras\tb'{\"ID_compra\": \"bd103d1869\", \"Nombre_producto\": \"Laptop_Brand1_16GB\", \"Precio\": \"350000\", \"Comision\": \"0.3\", \"Ingresos\": \"105000.0\", \"Metodo_pago\": \"Tarjeta_de_credito\", \"Estado\": \"COMPLETADO\", \"Tipo_orden\": \"EN L\\\\u00cdNEA\", \"Ciudad\": \"Posadas\", \"Ubicacion\": \"(-27.362986, -55.907959)\", \"Latitud\": \"-27.362986\", \"Longitud\": \"-55.907959\", \"Fuente\": \"Facebook\", \"Marca\": \"Brand1\", \"Categoria\": \"LAPTOPS\", \"Creado_en\": \"2023-05-14 01:05:12\"}'\n",
      "Producing record: Simulador_Compras\tb'{\"ID_compra\": \"2ec4f3e8d6\", \"Nombre_producto\": \"Laptop_Brand2_32GB\", \"Precio\": \"699000\", \"Comision\": \"0.25\", \"Ingresos\": \"174750.0\", \"Metodo_pago\": \"Mercado_Pago\", \"Estado\": \"COMPLETADO\", \"Tipo_orden\": \"EN L\\\\u00cdNEA\", \"Ciudad\": \"Posadas\", \"Ubicacion\": \"(-27.362986, -55.907959)\", \"Latitud\": \"-27.366249\", \"Longitud\": \"-55.906467\", \"Fuente\": \"Facebook\", \"Marca\": \"Brand2\", \"Categoria\": \"GAMING\", \"Creado_en\": \"2023-05-14 01:05:13\"}'\n",
      "Producing record: Simulador_Compras\tb'{\"ID_compra\": \"8b38af2c01\", \"Nombre_producto\": \"Laptop_Brand3_8GB\", \"Precio\": \"319900\", \"Comision\": \"0.28\", \"Ingresos\": \"89572.0\", \"Metodo_pago\": \"Tarjeta_de_credito\", \"Estado\": \"COMPLETADO\", \"Tipo_orden\": \"EN L\\\\u00cdNEA\", \"Ciudad\": \"Cordoba\", \"Ubicacion\": \"(-31.405747, -64.195188)\", \"Latitud\": \"-31.405747\", \"Longitud\": \"-64.183577\", \"Fuente\": \"Instagram\", \"Marca\": \"Brand3\", \"Categoria\": \"LAPTOPS\", \"Creado_en\": \"2023-05-14 01:05:14\"}'\n",
      "Producing record: Simulador_Compras\tb'{\"ID_compra\": \"b70b814536\", \"Nombre_producto\": \"Laptop_Brand1_8GB\", \"Precio\": \"255000\", \"Comision\": \"0.25\", \"Ingresos\": \"63750.0\", \"Metodo_pago\": \"Mercado_Pago\", \"Estado\": \"COMPLETADO\", \"Tipo_orden\": \"EN L\\\\u00cdNEA\", \"Ciudad\": \"Posadas\", \"Ubicacion\": \"(-27.362986, -55.907959)\", \"Latitud\": \"-27.36914\", \"Longitud\": \"-55.906467\", \"Fuente\": \"Influencer_1\", \"Marca\": \"Brand1\", \"Categoria\": \"LAPTOPS\", \"Creado_en\": \"2023-05-14 01:05:15\"}'\n",
      "Producing record: Simulador_Compras\tb'{\"ID_compra\": \"3042ce65d3\", \"Nombre_producto\": \"Laptop_Brand3_32GB\", \"Precio\": \"1899900\", \"Comision\": \"0.4\", \"Ingresos\": \"759960.0\", \"Metodo_pago\": \"Mercado_Pago\", \"Estado\": \"COMPLETADO\", \"Tipo_orden\": \"EN L\\\\u00cdNEA\", \"Ciudad\": \"Rosario\", \"Ubicacion\": \"(-32.95775, -60.64178)\", \"Latitud\": \"-32.947581\", \"Longitud\": \"-60.64169\", \"Fuente\": \"Twitter\", \"Marca\": \"Brand3\", \"Categoria\": \"GAMING\", \"Creado_en\": \"2023-05-14 01:05:17\"}'\n",
      "Producing record: Simulador_Compras\tb'{\"ID_compra\": \"97e3bf435d\", \"Nombre_producto\": \"Console_Xbox\", \"Precio\": \"314000\", \"Comision\": \"0.15\", \"Ingresos\": \"47100.0\", \"Metodo_pago\": \"Mercado_Pago\", \"Estado\": \"FALLO_RESPUESTA_API\", \"Tipo_orden\": \"EN L\\\\u00cdNEA\", \"Ciudad\": \"Posadas\", \"Ubicacion\": \"(-27.362986, -55.907959)\", \"Latitud\": \"-27.36914\", \"Longitud\": \"-55.907111\", \"Fuente\": \"Influencer_2\", \"Marca\": \"X_Box\", \"Categoria\": \"VIDEO GAMES\", \"Creado_en\": \"2023-05-14 01:05:18\"}'\n",
      "Producing record: Simulador_Compras\tb'{\"ID_compra\": \"d0bca6fcd8\", \"Nombre_producto\": \"Laptop_Brand2_4GB\", \"Precio\": \"115000\", \"Comision\": \"0.15\", \"Ingresos\": \"17250.0\", \"Metodo_pago\": \"Mercado_Pago\", \"Estado\": \"FONDOS_INSUFICIENTES\", \"Tipo_orden\": \"EN L\\\\u00cdNEA\", \"Ciudad\": \"Cordoba\", \"Ubicacion\": \"(-31.405747, -64.195188)\", \"Latitud\": \"-31.405747\", \"Longitud\": \"-64.183577\", \"Fuente\": \"Facebook\", \"Marca\": \"Brand2\", \"Categoria\": \"LAPTOPS\", \"Creado_en\": \"2023-05-14 01:05:19\"}'\n",
      "Producing record: Simulador_Compras\tb'{\"ID_compra\": \"c8251a6e6a\", \"Nombre_producto\": \"Laptop_Brand2_8GB\", \"Precio\": \"185000\", \"Comision\": \"0.18\", \"Ingresos\": \"33300.0\", \"Metodo_pago\": \"Tarjeta_de_credito\", \"Estado\": \"ERROR_USUARIO\", \"Tipo_orden\": \"EN L\\\\u00cdNEA\", \"Ciudad\": \"Cordoba\", \"Ubicacion\": \"(-31.436559, -64.183577)\", \"Latitud\": \"-31.405747\", \"Longitud\": \"-64.183577\", \"Fuente\": \"Influencer_2\", \"Marca\": \"Brand2\", \"Categoria\": \"LAPTOPS\", \"Creado_en\": \"2023-05-14 01:05:20\"}'\n",
      "Producing record: Simulador_Compras\tb'{\"ID_compra\": \"7907b736e8\", \"Nombre_producto\": \"Laptop_Brand2_8GB\", \"Precio\": \"185000\", \"Comision\": \"0.18\", \"Ingresos\": \"33300.0\", \"Metodo_pago\": \"Mercado_Pago\", \"Estado\": \"FALLO_RESPUESTA_API\", \"Tipo_orden\": \"EN L\\\\u00cdNEA\", \"Ciudad\": \"Cordoba\", \"Ubicacion\": \"(-31.436559, -64.183577)\", \"Latitud\": \"-31.418623\", \"Longitud\": \"-64.183577\", \"Fuente\": \"Twitter\", \"Marca\": \"Brand2\", \"Categoria\": \"LAPTOPS\", \"Creado_en\": \"2023-05-14 01:05:21\"}'\n",
      "Producing record: Simulador_Compras\tb'{\"ID_compra\": \"367a5645de\", \"Nombre_producto\": \"Laptop_Brand1_4GB\", \"Precio\": \"135000\", \"Comision\": \"0.2\", \"Ingresos\": \"27000.0\", \"Metodo_pago\": \"Tarjeta_de_credito\", \"Estado\": \"COMPLETADO\", \"Tipo_orden\": \"EN L\\\\u00cdNEA\", \"Ciudad\": \"Rosario\", \"Ubicacion\": \"(-32.95775, -60.64178)\", \"Latitud\": \"-32.947581\", \"Longitud\": \"-60.64169\", \"Fuente\": \"Facebook\", \"Marca\": \"Brand1\", \"Categoria\": \"LAPTOPS\", \"Creado_en\": \"2023-05-14 01:05:23\"}'\n",
      "Producing record: Simulador_Compras\tb'{\"ID_compra\": \"2898dc25b8\", \"Nombre_producto\": \"Console_Xbox\", \"Precio\": \"314000\", \"Comision\": \"0.15\", \"Ingresos\": \"47100.0\", \"Metodo_pago\": \"Tarjeta_de_credito\", \"Estado\": \"PAGO_FALLIDO\", \"Tipo_orden\": \"EN L\\\\u00cdNEA\", \"Ciudad\": \"Posadas\", \"Ubicacion\": \"(-27.362986, -55.907959)\", \"Latitud\": \"-27.366249\", \"Longitud\": \"-55.907959\", \"Fuente\": \"Influencer_1\", \"Marca\": \"X_Box\", \"Categoria\": \"VIDEO GAMES\", \"Creado_en\": \"2023-05-14 01:05:24\"}'\n",
      "Producing record: Simulador_Compras\tb'{\"ID_compra\": \"7bb72fefc9\", \"Nombre_producto\": \"Console_Switch\", \"Precio\": \"320000\", \"Comision\": \"0.2\", \"Ingresos\": \"64000.0\", \"Metodo_pago\": \"Tarjeta_de_credito\", \"Estado\": \"PAGO_FALLIDO\", \"Tipo_orden\": \"EN L\\\\u00cdNEA\", \"Ciudad\": \"Cordoba\", \"Ubicacion\": \"(-31.405747, -64.195188)\", \"Latitud\": \"-31.405747\", \"Longitud\": \"-64.195188\", \"Fuente\": \"Instagram\", \"Marca\": \"Nintendo\", \"Categoria\": \"VIDEO GAMES\", \"Creado_en\": \"2023-05-14 01:05:25\"}'\n",
      "Producing record: Simulador_Compras\tb'{\"ID_compra\": \"ff72c2efcf\", \"Nombre_producto\": \"Console_Xbox\", \"Precio\": \"314000\", \"Comision\": \"0.15\", \"Ingresos\": \"47100.0\", \"Metodo_pago\": \"Mercado_Pago\", \"Estado\": \"COMPLETADO\", \"Tipo_orden\": \"EN L\\\\u00cdNEA\", \"Ciudad\": \"Cordoba\", \"Ubicacion\": \"(-31.405747, -64.195188)\", \"Latitud\": \"-31.405747\", \"Longitud\": \"-64.190728\", \"Fuente\": \"Twitter\", \"Marca\": \"X_Box\", \"Categoria\": \"VIDEO GAMES\", \"Creado_en\": \"2023-05-14 01:05:27\"}'\n",
      "Producing record: Simulador_Compras\tb'{\"ID_compra\": \"a8588e1af7\", \"Nombre_producto\": \"Console_Switch\", \"Precio\": \"320000\", \"Comision\": \"0.2\", \"Ingresos\": \"64000.0\", \"Metodo_pago\": \"Tarjeta_de_credito\", \"Estado\": \"COMPLETADO\", \"Tipo_orden\": \"EN L\\\\u00cdNEA\", \"Ciudad\": \"Posadas\", \"Ubicacion\": \"(-27.366249, -55.906467)\", \"Latitud\": \"-27.362986\", \"Longitud\": \"-55.907111\", \"Fuente\": \"Influencer_3\", \"Marca\": \"Nintendo\", \"Categoria\": \"VIDEO GAMES\", \"Creado_en\": \"2023-05-14 01:05:28\"}'\n",
      "Producing record: Simulador_Compras\tb'{\"ID_compra\": \"d1aa12d0bc\", \"Nombre_producto\": \"Laptop_Brand1_32GB\", \"Precio\": \"480000\", \"Comision\": \"0.35\", \"Ingresos\": \"168000.0\", \"Metodo_pago\": \"Mercado_Pago\", \"Estado\": \"FONDOS_INSUFICIENTES\", \"Tipo_orden\": \"EN L\\\\u00cdNEA\", \"Ciudad\": \"Resistencia\", \"Ubicacion\": \"(-27.451214, -58.986389)\", \"Latitud\": \"-27.446658\", \"Longitud\": \"-58.986389\", \"Fuente\": \"Twitter\", \"Marca\": \"Brand1\", \"Categoria\": \"GAMING\", \"Creado_en\": \"2023-05-14 01:05:29\"}'\n",
      "Producing record: Simulador_Compras\tb'{\"ID_compra\": \"51f248bf83\", \"Nombre_producto\": \"Laptop_Brand3_8GB\", \"Precio\": \"319900\", \"Comision\": \"0.28\", \"Ingresos\": \"89572.0\", \"Metodo_pago\": \"Tarjeta_de_credito\", \"Estado\": \"COMPLETADO\", \"Tipo_orden\": \"EN L\\\\u00cdNEA\", \"Ciudad\": \"Resistencia\", \"Ubicacion\": \"(-27.451214, -58.986389)\", \"Latitud\": \"-27.445978\", \"Longitud\": \"-58.978493\", \"Fuente\": \"Facebook\", \"Marca\": \"Brand3\", \"Categoria\": \"LAPTOPS\", \"Creado_en\": \"2023-05-14 01:05:30\"}'\n",
      "Producing record: Simulador_Compras\tb'{\"ID_compra\": \"dab2ffe178\", \"Nombre_producto\": \"Laptop_Brand2_32GB\", \"Precio\": \"699000\", \"Comision\": \"0.25\", \"Ingresos\": \"174750.0\", \"Metodo_pago\": \"Tarjeta_de_credito\", \"Estado\": \"COMPLETADO\", \"Tipo_orden\": \"EN L\\\\u00cdNEA\", \"Ciudad\": \"Posadas\", \"Ubicacion\": \"(-27.366249, -55.906467)\", \"Latitud\": \"-27.36914\", \"Longitud\": \"-55.907111\", \"Fuente\": \"Influencer_1\", \"Marca\": \"Brand2\", \"Categoria\": \"GAMING\", \"Creado_en\": \"2023-05-14 01:05:31\"}'\n",
      "Producing record: Simulador_Compras\tb'{\"ID_compra\": \"2b4e0ca7f4\", \"Nombre_producto\": \"Laptop_Brand2_4GB\", \"Precio\": \"115000\", \"Comision\": \"0.15\", \"Ingresos\": \"17250.0\", \"Metodo_pago\": \"Tarjeta_de_credito\", \"Estado\": \"COMPLETADO\", \"Tipo_orden\": \"EN L\\\\u00cdNEA\", \"Ciudad\": \"Posadas\", \"Ubicacion\": \"(-27.362986, -55.907959)\", \"Latitud\": \"-27.362986\", \"Longitud\": \"-55.907959\", \"Fuente\": \"Influencer_2\", \"Marca\": \"Brand2\", \"Categoria\": \"LAPTOPS\", \"Creado_en\": \"2023-05-14 01:05:32\"}'\n",
      "Producing record: Simulador_Compras\tb'{\"ID_compra\": \"930c36e51e\", \"Nombre_producto\": \"Laptop_Brand3_8GB\", \"Precio\": \"319900\", \"Comision\": \"0.28\", \"Ingresos\": \"89572.0\", \"Metodo_pago\": \"Mercado_Pago\", \"Estado\": \"COMPLETADO\", \"Tipo_orden\": \"EN L\\\\u00cdNEA\", \"Ciudad\": \"Posadas\", \"Ubicacion\": \"(-27.366249, -55.906467)\", \"Latitud\": \"-27.362986\", \"Longitud\": \"-55.907959\", \"Fuente\": \"Instagram\", \"Marca\": \"Brand3\", \"Categoria\": \"LAPTOPS\", \"Creado_en\": \"2023-05-14 01:05:33\"}'\n",
      "Producing record: Simulador_Compras\tb'{\"ID_compra\": \"a34ab1c8d9\", \"Nombre_producto\": \"Laptop_Brand3_16GB\", \"Precio\": \"465900\", \"Comision\": \"0.3\", \"Ingresos\": \"139770.0\", \"Metodo_pago\": \"Mercado_Pago\", \"Estado\": \"COMPLETADO\", \"Tipo_orden\": \"EN L\\\\u00cdNEA\", \"Ciudad\": \"Posadas\", \"Ubicacion\": \"(-27.366249, -55.906467)\", \"Latitud\": \"-27.36914\", \"Longitud\": \"-55.907111\", \"Fuente\": \"Influencer_1\", \"Marca\": \"Brand3\", \"Categoria\": \"LAPTOPS\", \"Creado_en\": \"2023-05-14 01:05:35\"}'\n",
      "Producing record: Simulador_Compras\tb'{\"ID_compra\": \"a00e26b437\", \"Nombre_producto\": \"Laptop_Brand3_8GB\", \"Precio\": \"319900\", \"Comision\": \"0.28\", \"Ingresos\": \"89572.0\", \"Metodo_pago\": \"Tarjeta_de_credito\", \"Estado\": \"FRAUDE\", \"Tipo_orden\": \"EN L\\\\u00cdNEA\", \"Ciudad\": \"Posadas\", \"Ubicacion\": \"(-27.36914, -55.907111)\", \"Latitud\": \"-27.36914\", \"Longitud\": \"-55.906467\", \"Fuente\": \"Organic\", \"Marca\": \"Brand3\", \"Categoria\": \"LAPTOPS\", \"Creado_en\": \"2023-05-14 01:05:36\"}'\n",
      "Producing record: Simulador_Compras\tb'{\"ID_compra\": \"8bccdd0b08\", \"Nombre_producto\": \"Laptop_Brand2_4GB\", \"Precio\": \"115000\", \"Comision\": \"0.15\", \"Ingresos\": \"17250.0\", \"Metodo_pago\": \"Mercado_Pago\", \"Estado\": \"FALLO_RESPUESTA_API\", \"Tipo_orden\": \"EN L\\\\u00cdNEA\", \"Ciudad\": \"Rosario\", \"Ubicacion\": \"(-32.95775, -60.64178)\", \"Latitud\": \"-32.95775\", \"Longitud\": \"-60.64169\", \"Fuente\": \"Instagram\", \"Marca\": \"Brand2\", \"Categoria\": \"LAPTOPS\", \"Creado_en\": \"2023-05-14 01:05:38\"}'\n",
      "Producing record: Simulador_Compras\tb'{\"ID_compra\": \"526a8c0eae\", \"Nombre_producto\": \"Laptop_Brand2_8GB\", \"Precio\": \"185000\", \"Comision\": \"0.18\", \"Ingresos\": \"33300.0\", \"Metodo_pago\": \"Tarjeta_de_credito\", \"Estado\": \"COMPLETADO\", \"Tipo_orden\": \"EN L\\\\u00cdNEA\", \"Ciudad\": \"Resistencia\", \"Ubicacion\": \"(-27.446658, -58.985378)\", \"Latitud\": \"-27.445978\", \"Longitud\": \"-58.986389\", \"Fuente\": \"Instagram\", \"Marca\": \"Brand2\", \"Categoria\": \"LAPTOPS\", \"Creado_en\": \"2023-05-14 01:05:39\"}'\n",
      "Producing record: Simulador_Compras\tb'{\"ID_compra\": \"b9f9099188\", \"Nombre_producto\": \"Laptop_Brand1_8GB\", \"Precio\": \"255000\", \"Comision\": \"0.25\", \"Ingresos\": \"63750.0\", \"Metodo_pago\": \"Tarjeta_de_credito\", \"Estado\": \"ERROR_USUARIO\", \"Tipo_orden\": \"EN L\\\\u00cdNEA\", \"Ciudad\": \"Capital_Federal\", \"Ubicacion\": \"(-34.588571, -58.411379)\", \"Latitud\": \"-34.603738\", \"Longitud\": \"-58.409714\", \"Fuente\": \"Influencer_3\", \"Marca\": \"Brand1\", \"Categoria\": \"LAPTOPS\", \"Creado_en\": \"2023-05-14 01:05:41\"}'\n",
      "Producing record: Simulador_Compras\tb'{\"ID_compra\": \"62936e649e\", \"Nombre_producto\": \"Laptop_Brand3_16GB\", \"Precio\": \"465900\", \"Comision\": \"0.3\", \"Ingresos\": \"139770.0\", \"Metodo_pago\": \"Mercado_Pago\", \"Estado\": \"FALLO_RESPUESTA_API\", \"Tipo_orden\": \"EN L\\\\u00cdNEA\", \"Ciudad\": \"Capital_Federal\", \"Ubicacion\": \"(-34.588571, -58.411379)\", \"Latitud\": \"-34.588571\", \"Longitud\": \"-58.375216\", \"Fuente\": \"Influencer_3\", \"Marca\": \"Brand3\", \"Categoria\": \"LAPTOPS\", \"Creado_en\": \"2023-05-14 01:05:42\"}'\n",
      "Producing record: Simulador_Compras\tb'{\"ID_compra\": \"ab0e65c22a\", \"Nombre_producto\": \"Laptop_Brand2_32GB\", \"Precio\": \"699000\", \"Comision\": \"0.25\", \"Ingresos\": \"174750.0\", \"Metodo_pago\": \"Tarjeta_de_credito\", \"Estado\": \"FONDOS_INSUFICIENTES\", \"Tipo_orden\": \"EN L\\\\u00cdNEA\", \"Ciudad\": \"Rosario\", \"Ubicacion\": \"(-32.956032, -60.646908)\", \"Latitud\": \"-32.95775\", \"Longitud\": \"-60.646908\", \"Fuente\": \"Influencer_4\", \"Marca\": \"Brand2\", \"Categoria\": \"GAMING\", \"Creado_en\": \"2023-05-14 01:05:43\"}'\n",
      "Producing record: Simulador_Compras\tb'{\"ID_compra\": \"b86e3b3e18\", \"Nombre_producto\": \"Laptop_Brand3_16GB\", \"Precio\": \"465900\", \"Comision\": \"0.3\", \"Ingresos\": \"139770.0\", \"Metodo_pago\": \"Tarjeta_de_credito\", \"Estado\": \"COMPLETADO\", \"Tipo_orden\": \"EN L\\\\u00cdNEA\", \"Ciudad\": \"Posadas\", \"Ubicacion\": \"(-27.36914, -55.907111)\", \"Latitud\": \"-27.366249\", \"Longitud\": \"-55.907959\", \"Fuente\": \"Twitter\", \"Marca\": \"Brand3\", \"Categoria\": \"LAPTOPS\", \"Creado_en\": \"2023-05-14 01:05:45\"}'\n",
      "Producing record: Simulador_Compras\tb'{\"ID_compra\": \"49bf6ebd37\", \"Nombre_producto\": \"Laptop_Brand3_16GB\", \"Precio\": \"465900\", \"Comision\": \"0.3\", \"Ingresos\": \"139770.0\", \"Metodo_pago\": \"Mercado_Pago\", \"Estado\": \"ERROR_USUARIO\", \"Tipo_orden\": \"EN L\\\\u00cdNEA\", \"Ciudad\": \"Capital_Federal\", \"Ubicacion\": \"(-34.603738, -58.375216)\", \"Latitud\": \"-34.606232\", \"Longitud\": \"-58.411379\", \"Fuente\": \"Influencer_2\", \"Marca\": \"Brand3\", \"Categoria\": \"LAPTOPS\", \"Creado_en\": \"2023-05-14 01:05:46\"}'\n",
      "Producing record: Simulador_Compras\tb'{\"ID_compra\": \"b67e9bb736\", \"Nombre_producto\": \"Laptop_Brand1_16GB\", \"Precio\": \"350000\", \"Comision\": \"0.3\", \"Ingresos\": \"105000.0\", \"Metodo_pago\": \"Tarjeta_de_credito\", \"Estado\": \"FONDOS_INSUFICIENTES\", \"Tipo_orden\": \"EN L\\\\u00cdNEA\", \"Ciudad\": \"Rosario\", \"Ubicacion\": \"(-32.947581, -60.64169)\", \"Latitud\": \"-32.95775\", \"Longitud\": \"-60.64178\", \"Fuente\": \"Influencer_2\", \"Marca\": \"Brand1\", \"Categoria\": \"LAPTOPS\", \"Creado_en\": \"2023-05-14 01:05:48\"}'\n",
      "Producing record: Simulador_Compras\tb'{\"ID_compra\": \"02c6d73a4c\", \"Nombre_producto\": \"Laptop_Brand3_8GB\", \"Precio\": \"319900\", \"Comision\": \"0.28\", \"Ingresos\": \"89572.0\", \"Metodo_pago\": \"Mercado_Pago\", \"Estado\": \"COMPLETADO\", \"Tipo_orden\": \"EN L\\\\u00cdNEA\", \"Ciudad\": \"Capital_Federal\", \"Ubicacion\": \"(-34.603738, -58.375216)\", \"Latitud\": \"-34.603738\", \"Longitud\": \"-58.409714\", \"Fuente\": \"Influencer_1\", \"Marca\": \"Brand3\", \"Categoria\": \"LAPTOPS\", \"Creado_en\": \"2023-05-14 01:05:49\"}'\n",
      "Producing record: Simulador_Compras\tb'{\"ID_compra\": \"5db40b23e9\", \"Nombre_producto\": \"Console_Switch\", \"Precio\": \"320000\", \"Comision\": \"0.2\", \"Ingresos\": \"64000.0\", \"Metodo_pago\": \"Mercado_Pago\", \"Estado\": \"FALLO_RESPUESTA_API\", \"Tipo_orden\": \"EN L\\\\u00cdNEA\", \"Ciudad\": \"Capital_Federal\", \"Ubicacion\": \"(-34.588571, -58.411379)\", \"Latitud\": \"-34.603738\", \"Longitud\": \"-58.409714\", \"Fuente\": \"Influencer_3\", \"Marca\": \"Nintendo\", \"Categoria\": \"VIDEO GAMES\", \"Creado_en\": \"2023-05-14 01:05:50\"}'\n",
      "Producing record: Simulador_Compras\tb'{\"ID_compra\": \"5f57045edd\", \"Nombre_producto\": \"Laptop_Brand3_4GB\", \"Precio\": \"185000\", \"Comision\": \"0.2\", \"Ingresos\": \"37000.0\", \"Metodo_pago\": \"Tarjeta_de_credito\", \"Estado\": \"FRAUDE\", \"Tipo_orden\": \"EN L\\\\u00cdNEA\", \"Ciudad\": \"Capital_Federal\", \"Ubicacion\": \"(-34.606232, -58.409714)\", \"Latitud\": \"-34.603738\", \"Longitud\": \"-58.375216\", \"Fuente\": \"Influencer_2\", \"Marca\": \"Brand3\", \"Categoria\": \"LAPTOPS\", \"Creado_en\": \"2023-05-14 01:05:52\"}'\n",
      "Producing record: Simulador_Compras\tb'{\"ID_compra\": \"551f987b1d\", \"Nombre_producto\": \"Laptop_Brand3_32GB\", \"Precio\": \"1899900\", \"Comision\": \"0.4\", \"Ingresos\": \"759960.0\", \"Metodo_pago\": \"Tarjeta_de_credito\", \"Estado\": \"FONDOS_INSUFICIENTES\", \"Tipo_orden\": \"EN L\\\\u00cdNEA\", \"Ciudad\": \"Rosario\", \"Ubicacion\": \"(-32.95775, -60.64178)\", \"Latitud\": \"-32.956032\", \"Longitud\": \"-60.64169\", \"Fuente\": \"Organic\", \"Marca\": \"Brand3\", \"Categoria\": \"GAMING\", \"Creado_en\": \"2023-05-14 01:05:53\"}'\n",
      "Producing record: Simulador_Compras\tb'{\"ID_compra\": \"9ab93d090b\", \"Nombre_producto\": \"Console_Switch\", \"Precio\": \"320000\", \"Comision\": \"0.2\", \"Ingresos\": \"64000.0\", \"Metodo_pago\": \"Tarjeta_de_credito\", \"Estado\": \"COMPLETADO\", \"Tipo_orden\": \"EN L\\\\u00cdNEA\", \"Ciudad\": \"Rosario\", \"Ubicacion\": \"(-32.95775, -60.64178)\", \"Latitud\": \"-32.956032\", \"Longitud\": \"-60.64169\", \"Fuente\": \"Twitter\", \"Marca\": \"Nintendo\", \"Categoria\": \"VIDEO GAMES\", \"Creado_en\": \"2023-05-14 01:05:55\"}'\n",
      "Producing record: Simulador_Compras\tb'{\"ID_compra\": \"583880218a\", \"Nombre_producto\": \"Console_Xbox\", \"Precio\": \"314000\", \"Comision\": \"0.15\", \"Ingresos\": \"47100.0\", \"Metodo_pago\": \"Mercado_Pago\", \"Estado\": \"FONDOS_INSUFICIENTES\", \"Tipo_orden\": \"EN L\\\\u00cdNEA\", \"Ciudad\": \"Resistencia\", \"Ubicacion\": \"(-27.445978, -58.978493)\", \"Latitud\": \"-27.445978\", \"Longitud\": \"-58.985378\", \"Fuente\": \"Influencer_4\", \"Marca\": \"X_Box\", \"Categoria\": \"VIDEO GAMES\", \"Creado_en\": \"2023-05-14 01:05:56\"}'\n",
      "Producing record: Simulador_Compras\tb'{\"ID_compra\": \"fce7f3b8f8\", \"Nombre_producto\": \"Laptop_Brand3_16GB\", \"Precio\": \"465900\", \"Comision\": \"0.3\", \"Ingresos\": \"139770.0\", \"Metodo_pago\": \"Tarjeta_de_credito\", \"Estado\": \"COMPLETADO\", \"Tipo_orden\": \"EN L\\\\u00cdNEA\", \"Ciudad\": \"Cordoba\", \"Ubicacion\": \"(-31.418623, -64.190728)\", \"Latitud\": \"-31.436559\", \"Longitud\": \"-64.190728\", \"Fuente\": \"Facebook\", \"Marca\": \"Brand3\", \"Categoria\": \"LAPTOPS\", \"Creado_en\": \"2023-05-14 01:05:57\"}'\n",
      "Producing record: Simulador_Compras\tb'{\"ID_compra\": \"defab62f0d\", \"Nombre_producto\": \"Laptop_Brand2_32GB\", \"Precio\": \"699000\", \"Comision\": \"0.25\", \"Ingresos\": \"174750.0\", \"Metodo_pago\": \"Tarjeta_de_credito\", \"Estado\": \"PAGO_FALLIDO\", \"Tipo_orden\": \"EN L\\\\u00cdNEA\", \"Ciudad\": \"Capital_Federal\", \"Ubicacion\": \"(-34.588571, -58.411379)\", \"Latitud\": \"-34.588571\", \"Longitud\": \"-58.409714\", \"Fuente\": \"Influencer_3\", \"Marca\": \"Brand2\", \"Categoria\": \"GAMING\", \"Creado_en\": \"2023-05-14 01:05:59\"}'\n",
      "Producing record: Simulador_Compras\tb'{\"ID_compra\": \"0fb5152181\", \"Nombre_producto\": \"Laptop_Brand3_4GB\", \"Precio\": \"185000\", \"Comision\": \"0.2\", \"Ingresos\": \"37000.0\", \"Metodo_pago\": \"Mercado_Pago\", \"Estado\": \"PAGO_FALLIDO\", \"Tipo_orden\": \"EN L\\\\u00cdNEA\", \"Ciudad\": \"Cordoba\", \"Ubicacion\": \"(-31.436559, -64.183577)\", \"Latitud\": \"-31.436559\", \"Longitud\": \"-64.190728\", \"Fuente\": \"Influencer_4\", \"Marca\": \"Brand3\", \"Categoria\": \"LAPTOPS\", \"Creado_en\": \"2023-05-14 01:06:00\"}'\n",
      "Producing record: Simulador_Compras\tb'{\"ID_compra\": \"893fcc778a\", \"Nombre_producto\": \"Console_Switch\", \"Precio\": \"320000\", \"Comision\": \"0.2\", \"Ingresos\": \"64000.0\", \"Metodo_pago\": \"Tarjeta_de_credito\", \"Estado\": \"COMPLETADO\", \"Tipo_orden\": \"EN L\\\\u00cdNEA\", \"Ciudad\": \"Resistencia\", \"Ubicacion\": \"(-27.451214, -58.986389)\", \"Latitud\": \"-27.445978\", \"Longitud\": \"-58.985378\", \"Fuente\": \"Twitter\", \"Marca\": \"Nintendo\", \"Categoria\": \"VIDEO GAMES\", \"Creado_en\": \"2023-05-14 01:06:01\"}'\n",
      "Producing record: Simulador_Compras\tb'{\"ID_compra\": \"dd07ab763d\", \"Nombre_producto\": \"Laptop_Brand2_32GB\", \"Precio\": \"699000\", \"Comision\": \"0.25\", \"Ingresos\": \"174750.0\", \"Metodo_pago\": \"Mercado_Pago\", \"Estado\": \"COMPLETADO\", \"Tipo_orden\": \"EN L\\\\u00cdNEA\", \"Ciudad\": \"Resistencia\", \"Ubicacion\": \"(-27.446658, -58.985378)\", \"Latitud\": \"-27.451214\", \"Longitud\": \"-58.985378\", \"Fuente\": \"Organic\", \"Marca\": \"Brand2\", \"Categoria\": \"GAMING\", \"Creado_en\": \"2023-05-14 01:06:03\"}'\n",
      "Producing record: Simulador_Compras\tb'{\"ID_compra\": \"30a7b788b2\", \"Nombre_producto\": \"Laptop_Brand1_32GB\", \"Precio\": \"480000\", \"Comision\": \"0.35\", \"Ingresos\": \"168000.0\", \"Metodo_pago\": \"Tarjeta_de_credito\", \"Estado\": \"FRAUDE\", \"Tipo_orden\": \"EN L\\\\u00cdNEA\", \"Ciudad\": \"Resistencia\", \"Ubicacion\": \"(-27.451214, -58.986389)\", \"Latitud\": \"-27.446658\", \"Longitud\": \"-58.978493\", \"Fuente\": \"Influencer_2\", \"Marca\": \"Brand1\", \"Categoria\": \"GAMING\", \"Creado_en\": \"2023-05-14 01:06:04\"}'\n",
      "Producing record: Simulador_Compras\tb'{\"ID_compra\": \"982db70b2a\", \"Nombre_producto\": \"Console_Switch\", \"Precio\": \"320000\", \"Comision\": \"0.2\", \"Ingresos\": \"64000.0\", \"Metodo_pago\": \"Mercado_Pago\", \"Estado\": \"FONDOS_INSUFICIENTES\", \"Tipo_orden\": \"EN L\\\\u00cdNEA\", \"Ciudad\": \"Resistencia\", \"Ubicacion\": \"(-27.446658, -58.985378)\", \"Latitud\": \"-27.446658\", \"Longitud\": \"-58.978493\", \"Fuente\": \"Organic\", \"Marca\": \"Nintendo\", \"Categoria\": \"VIDEO GAMES\", \"Creado_en\": \"2023-05-14 01:06:05\"}'\n",
      "Producing record: Simulador_Compras\tb'{\"ID_compra\": \"78acb41d7e\", \"Nombre_producto\": \"Laptop_Brand2_4GB\", \"Precio\": \"115000\", \"Comision\": \"0.15\", \"Ingresos\": \"17250.0\", \"Metodo_pago\": \"Mercado_Pago\", \"Estado\": \"FONDOS_INSUFICIENTES\", \"Tipo_orden\": \"EN L\\\\u00cdNEA\", \"Ciudad\": \"Capital_Federal\", \"Ubicacion\": \"(-34.603738, -58.375216)\", \"Latitud\": \"-34.603738\", \"Longitud\": \"-58.409714\", \"Fuente\": \"Organic\", \"Marca\": \"Brand2\", \"Categoria\": \"LAPTOPS\", \"Creado_en\": \"2023-05-14 01:06:06\"}'\n",
      "Producing record: Simulador_Compras\tb'{\"ID_compra\": \"869fadb2e3\", \"Nombre_producto\": \"Laptop_Brand2_32GB\", \"Precio\": \"699000\", \"Comision\": \"0.25\", \"Ingresos\": \"174750.0\", \"Metodo_pago\": \"Mercado_Pago\", \"Estado\": \"FALLO_RESPUESTA_API\", \"Tipo_orden\": \"EN L\\\\u00cdNEA\", \"Ciudad\": \"Rosario\", \"Ubicacion\": \"(-32.947581, -60.64169)\", \"Latitud\": \"-32.956032\", \"Longitud\": \"-60.64169\", \"Fuente\": \"Facebook\", \"Marca\": \"Brand2\", \"Categoria\": \"GAMING\", \"Creado_en\": \"2023-05-14 01:06:07\"}'\n",
      "Producing record: Simulador_Compras\tb'{\"ID_compra\": \"c614e07aad\", \"Nombre_producto\": \"Laptop_Brand1_16GB\", \"Precio\": \"350000\", \"Comision\": \"0.3\", \"Ingresos\": \"105000.0\", \"Metodo_pago\": \"Mercado_Pago\", \"Estado\": \"FONDOS_INSUFICIENTES\", \"Tipo_orden\": \"EN L\\\\u00cdNEA\", \"Ciudad\": \"Capital_Federal\", \"Ubicacion\": \"(-34.588571, -58.411379)\", \"Latitud\": \"-34.606232\", \"Longitud\": \"-58.375216\", \"Fuente\": \"Influencer_3\", \"Marca\": \"Brand1\", \"Categoria\": \"LAPTOPS\", \"Creado_en\": \"2023-05-14 01:06:08\"}'\n",
      "Producing record: Simulador_Compras\tb'{\"ID_compra\": \"ee28804cbf\", \"Nombre_producto\": \"Laptop_Brand3_8GB\", \"Precio\": \"319900\", \"Comision\": \"0.28\", \"Ingresos\": \"89572.0\", \"Metodo_pago\": \"Mercado_Pago\", \"Estado\": \"COMPLETADO\", \"Tipo_orden\": \"EN L\\\\u00cdNEA\", \"Ciudad\": \"Rosario\", \"Ubicacion\": \"(-32.956032, -60.646908)\", \"Latitud\": \"-32.947581\", \"Longitud\": \"-60.64169\", \"Fuente\": \"Influencer_2\", \"Marca\": \"Brand3\", \"Categoria\": \"LAPTOPS\", \"Creado_en\": \"2023-05-14 01:06:09\"}'\n",
      "Producing record: Simulador_Compras\tb'{\"ID_compra\": \"8ef56ee3c2\", \"Nombre_producto\": \"Laptop_Brand1_8GB\", \"Precio\": \"255000\", \"Comision\": \"0.25\", \"Ingresos\": \"63750.0\", \"Metodo_pago\": \"Tarjeta_de_credito\", \"Estado\": \"COMPLETADO\", \"Tipo_orden\": \"EN L\\\\u00cdNEA\", \"Ciudad\": \"Cordoba\", \"Ubicacion\": \"(-31.418623, -64.190728)\", \"Latitud\": \"-31.405747\", \"Longitud\": \"-64.190728\", \"Fuente\": \"Instagram\", \"Marca\": \"Brand1\", \"Categoria\": \"LAPTOPS\", \"Creado_en\": \"2023-05-14 01:06:10\"}'\n",
      "Producing record: Simulador_Compras\tb'{\"ID_compra\": \"afa3055fad\", \"Nombre_producto\": \"Laptop_Brand2_8GB\", \"Precio\": \"185000\", \"Comision\": \"0.18\", \"Ingresos\": \"33300.0\", \"Metodo_pago\": \"Tarjeta_de_credito\", \"Estado\": \"COMPLETADO\", \"Tipo_orden\": \"EN L\\\\u00cdNEA\", \"Ciudad\": \"Resistencia\", \"Ubicacion\": \"(-27.446658, -58.985378)\", \"Latitud\": \"-27.451214\", \"Longitud\": \"-58.978493\", \"Fuente\": \"Organic\", \"Marca\": \"Brand2\", \"Categoria\": \"LAPTOPS\", \"Creado_en\": \"2023-05-14 01:06:12\"}'\n",
      "Producing record: Simulador_Compras\tb'{\"ID_compra\": \"0098740ff6\", \"Nombre_producto\": \"Laptop_Brand1_4GB\", \"Precio\": \"135000\", \"Comision\": \"0.2\", \"Ingresos\": \"27000.0\", \"Metodo_pago\": \"Tarjeta_de_credito\", \"Estado\": \"COMPLETADO\", \"Tipo_orden\": \"EN L\\\\u00cdNEA\", \"Ciudad\": \"Capital_Federal\", \"Ubicacion\": \"(-34.588571, -58.411379)\", \"Latitud\": \"-34.606232\", \"Longitud\": \"-58.409714\", \"Fuente\": \"Influencer_4\", \"Marca\": \"Brand1\", \"Categoria\": \"LAPTOPS\", \"Creado_en\": \"2023-05-14 01:06:13\"}'\n",
      "Producing record: Simulador_Compras\tb'{\"ID_compra\": \"d6b83062c5\", \"Nombre_producto\": \"Laptop_Brand2_8GB\", \"Precio\": \"185000\", \"Comision\": \"0.18\", \"Ingresos\": \"33300.0\", \"Metodo_pago\": \"Tarjeta_de_credito\", \"Estado\": \"COMPLETADO\", \"Tipo_orden\": \"EN L\\\\u00cdNEA\", \"Ciudad\": \"Rosario\", \"Ubicacion\": \"(-32.956032, -60.646908)\", \"Latitud\": \"-32.947581\", \"Longitud\": \"-60.646908\", \"Fuente\": \"Instagram\", \"Marca\": \"Brand2\", \"Categoria\": \"LAPTOPS\", \"Creado_en\": \"2023-05-14 01:06:14\"}'\n",
      "Producing record: Simulador_Compras\tb'{\"ID_compra\": \"163dd4cfae\", \"Nombre_producto\": \"Laptop_Brand2_4GB\", \"Precio\": \"115000\", \"Comision\": \"0.15\", \"Ingresos\": \"17250.0\", \"Metodo_pago\": \"Tarjeta_de_credito\", \"Estado\": \"COMPLETADO\", \"Tipo_orden\": \"EN L\\\\u00cdNEA\", \"Ciudad\": \"Cordoba\", \"Ubicacion\": \"(-31.418623, -64.190728)\", \"Latitud\": \"-31.405747\", \"Longitud\": \"-64.183577\", \"Fuente\": \"Organic\", \"Marca\": \"Brand2\", \"Categoria\": \"LAPTOPS\", \"Creado_en\": \"2023-05-14 01:06:16\"}'\n",
      "Producing record: Simulador_Compras\tb'{\"ID_compra\": \"dfb3c5f4f2\", \"Nombre_producto\": \"Laptop_Brand1_4GB\", \"Precio\": \"135000\", \"Comision\": \"0.2\", \"Ingresos\": \"27000.0\", \"Metodo_pago\": \"Tarjeta_de_credito\", \"Estado\": \"COMPLETADO\", \"Tipo_orden\": \"EN L\\\\u00cdNEA\", \"Ciudad\": \"Cordoba\", \"Ubicacion\": \"(-31.418623, -64.190728)\", \"Latitud\": \"-31.418623\", \"Longitud\": \"-64.195188\", \"Fuente\": \"Twitter\", \"Marca\": \"Brand1\", \"Categoria\": \"LAPTOPS\", \"Creado_en\": \"2023-05-14 01:06:17\"}'\n",
      "Producing record: Simulador_Compras\tb'{\"ID_compra\": \"1f19112b4b\", \"Nombre_producto\": \"Laptop_Brand2_8GB\", \"Precio\": \"185000\", \"Comision\": \"0.18\", \"Ingresos\": \"33300.0\", \"Metodo_pago\": \"Tarjeta_de_credito\", \"Estado\": \"COMPLETADO\", \"Tipo_orden\": \"EN L\\\\u00cdNEA\", \"Ciudad\": \"Capital_Federal\", \"Ubicacion\": \"(-34.603738, -58.375216)\", \"Latitud\": \"-34.606232\", \"Longitud\": \"-58.409714\", \"Fuente\": \"Twitter\", \"Marca\": \"Brand2\", \"Categoria\": \"LAPTOPS\", \"Creado_en\": \"2023-05-14 01:06:18\"}'\n",
      "Producing record: Simulador_Compras\tb'{\"ID_compra\": \"45ffe28189\", \"Nombre_producto\": \"Laptop_Brand1_8GB\", \"Precio\": \"255000\", \"Comision\": \"0.25\", \"Ingresos\": \"63750.0\", \"Metodo_pago\": \"Mercado_Pago\", \"Estado\": \"COMPLETADO\", \"Tipo_orden\": \"EN L\\\\u00cdNEA\", \"Ciudad\": \"Rosario\", \"Ubicacion\": \"(-32.947581, -60.64169)\", \"Latitud\": \"-32.95775\", \"Longitud\": \"-60.646908\", \"Fuente\": \"Influencer_4\", \"Marca\": \"Brand1\", \"Categoria\": \"LAPTOPS\", \"Creado_en\": \"2023-05-14 01:06:19\"}'\n",
      "Producing record: Simulador_Compras\tb'{\"ID_compra\": \"f1c622a98d\", \"Nombre_producto\": \"Console_Xbox\", \"Precio\": \"314000\", \"Comision\": \"0.15\", \"Ingresos\": \"47100.0\", \"Metodo_pago\": \"Mercado_Pago\", \"Estado\": \"COMPLETADO\", \"Tipo_orden\": \"EN L\\\\u00cdNEA\", \"Ciudad\": \"Resistencia\", \"Ubicacion\": \"(-27.445978, -58.978493)\", \"Latitud\": \"-27.451214\", \"Longitud\": \"-58.985378\", \"Fuente\": \"Influencer_3\", \"Marca\": \"X_Box\", \"Categoria\": \"VIDEO GAMES\", \"Creado_en\": \"2023-05-14 01:06:21\"}'\n",
      "Producing record: Simulador_Compras\tb'{\"ID_compra\": \"eafbd480ec\", \"Nombre_producto\": \"Laptop_Brand3_32GB\", \"Precio\": \"1899900\", \"Comision\": \"0.4\", \"Ingresos\": \"759960.0\", \"Metodo_pago\": \"Tarjeta_de_credito\", \"Estado\": \"COMPLETADO\", \"Tipo_orden\": \"EN L\\\\u00cdNEA\", \"Ciudad\": \"Rosario\", \"Ubicacion\": \"(-32.95775, -60.64178)\", \"Latitud\": \"-32.956032\", \"Longitud\": \"-60.64178\", \"Fuente\": \"Influencer_1\", \"Marca\": \"Brand3\", \"Categoria\": \"GAMING\", \"Creado_en\": \"2023-05-14 01:06:22\"}'\n",
      "Producing record: Simulador_Compras\tb'{\"ID_compra\": \"f82ac602e3\", \"Nombre_producto\": \"Console_PS5\", \"Precio\": \"400000\", \"Comision\": \"0.3\", \"Ingresos\": \"120000.0\", \"Metodo_pago\": \"Tarjeta_de_credito\", \"Estado\": \"COMPLETADO\", \"Tipo_orden\": \"EN L\\\\u00cdNEA\", \"Ciudad\": \"Resistencia\", \"Ubicacion\": \"(-27.451214, -58.986389)\", \"Latitud\": \"-27.445978\", \"Longitud\": \"-58.985378\", \"Fuente\": \"Influencer_2\", \"Marca\": \"PS5\", \"Categoria\": \"VIDEO GAMES\", \"Creado_en\": \"2023-05-14 01:06:23\"}'\n",
      "Producing record: Simulador_Compras\tb'{\"ID_compra\": \"ebbccd268d\", \"Nombre_producto\": \"Laptop_Brand3_32GB\", \"Precio\": \"1899900\", \"Comision\": \"0.4\", \"Ingresos\": \"759960.0\", \"Metodo_pago\": \"Tarjeta_de_credito\", \"Estado\": \"COMPLETADO\", \"Tipo_orden\": \"EN L\\\\u00cdNEA\", \"Ciudad\": \"Posadas\", \"Ubicacion\": \"(-27.366249, -55.906467)\", \"Latitud\": \"-27.362986\", \"Longitud\": \"-55.907959\", \"Fuente\": \"Influencer_3\", \"Marca\": \"Brand3\", \"Categoria\": \"GAMING\", \"Creado_en\": \"2023-05-14 01:06:25\"}'\n",
      "Producing record: Simulador_Compras\tb'{\"ID_compra\": \"013a83af9f\", \"Nombre_producto\": \"Laptop_Brand2_8GB\", \"Precio\": \"185000\", \"Comision\": \"0.18\", \"Ingresos\": \"33300.0\", \"Metodo_pago\": \"Mercado_Pago\", \"Estado\": \"FRAUDE\", \"Tipo_orden\": \"EN L\\\\u00cdNEA\", \"Ciudad\": \"Posadas\", \"Ubicacion\": \"(-27.362986, -55.907959)\", \"Latitud\": \"-27.366249\", \"Longitud\": \"-55.907959\", \"Fuente\": \"Influencer_1\", \"Marca\": \"Brand2\", \"Categoria\": \"LAPTOPS\", \"Creado_en\": \"2023-05-14 01:06:26\"}'\n",
      "Producing record: Simulador_Compras\tb'{\"ID_compra\": \"23fe91b235\", \"Nombre_producto\": \"Console_Xbox\", \"Precio\": \"314000\", \"Comision\": \"0.15\", \"Ingresos\": \"47100.0\", \"Metodo_pago\": \"Tarjeta_de_credito\", \"Estado\": \"COMPLETADO\", \"Tipo_orden\": \"EN L\\\\u00cdNEA\", \"Ciudad\": \"Resistencia\", \"Ubicacion\": \"(-27.445978, -58.978493)\", \"Latitud\": \"-27.451214\", \"Longitud\": \"-58.978493\", \"Fuente\": \"Facebook\", \"Marca\": \"X_Box\", \"Categoria\": \"VIDEO GAMES\", \"Creado_en\": \"2023-05-14 01:06:27\"}'\n",
      "Producing record: Simulador_Compras\tb'{\"ID_compra\": \"e2643c8812\", \"Nombre_producto\": \"Console_PS5\", \"Precio\": \"400000\", \"Comision\": \"0.3\", \"Ingresos\": \"120000.0\", \"Metodo_pago\": \"Tarjeta_de_credito\", \"Estado\": \"COMPLETADO\", \"Tipo_orden\": \"EN L\\\\u00cdNEA\", \"Ciudad\": \"Posadas\", \"Ubicacion\": \"(-27.366249, -55.906467)\", \"Latitud\": \"-27.36914\", \"Longitud\": \"-55.907959\", \"Fuente\": \"Twitter\", \"Marca\": \"PS5\", \"Categoria\": \"VIDEO GAMES\", \"Creado_en\": \"2023-05-14 01:06:28\"}'\n",
      "Producing record: Simulador_Compras\tb'{\"ID_compra\": \"fc191ff218\", \"Nombre_producto\": \"Laptop_Brand3_16GB\", \"Precio\": \"465900\", \"Comision\": \"0.3\", \"Ingresos\": \"139770.0\", \"Metodo_pago\": \"Tarjeta_de_credito\", \"Estado\": \"COMPLETADO\", \"Tipo_orden\": \"EN L\\\\u00cdNEA\", \"Ciudad\": \"Rosario\", \"Ubicacion\": \"(-32.947581, -60.64169)\", \"Latitud\": \"-32.95775\", \"Longitud\": \"-60.646908\", \"Fuente\": \"Influencer_3\", \"Marca\": \"Brand3\", \"Categoria\": \"LAPTOPS\", \"Creado_en\": \"2023-05-14 01:06:30\"}'\n",
      "Producing record: Simulador_Compras\tb'{\"ID_compra\": \"5cc0df4647\", \"Nombre_producto\": \"Laptop_Brand3_4GB\", \"Precio\": \"185000\", \"Comision\": \"0.2\", \"Ingresos\": \"37000.0\", \"Metodo_pago\": \"Mercado_Pago\", \"Estado\": \"COMPLETADO\", \"Tipo_orden\": \"EN L\\\\u00cdNEA\", \"Ciudad\": \"Resistencia\", \"Ubicacion\": \"(-27.445978, -58.978493)\", \"Latitud\": \"-27.446658\", \"Longitud\": \"-58.978493\", \"Fuente\": \"Influencer_2\", \"Marca\": \"Brand3\", \"Categoria\": \"LAPTOPS\", \"Creado_en\": \"2023-05-14 01:06:31\"}'\n",
      "Producing record: Simulador_Compras\tb'{\"ID_compra\": \"01f0b7fbaa\", \"Nombre_producto\": \"Laptop_Brand2_8GB\", \"Precio\": \"185000\", \"Comision\": \"0.18\", \"Ingresos\": \"33300.0\", \"Metodo_pago\": \"Tarjeta_de_credito\", \"Estado\": \"FRAUDE\", \"Tipo_orden\": \"EN L\\\\u00cdNEA\", \"Ciudad\": \"Resistencia\", \"Ubicacion\": \"(-27.445978, -58.978493)\", \"Latitud\": \"-27.451214\", \"Longitud\": \"-58.978493\", \"Fuente\": \"Influencer_4\", \"Marca\": \"Brand2\", \"Categoria\": \"LAPTOPS\", \"Creado_en\": \"2023-05-14 01:06:33\"}'\n",
      "Producing record: Simulador_Compras\tb'{\"ID_compra\": \"bb490101bf\", \"Nombre_producto\": \"Laptop_Brand1_8GB\", \"Precio\": \"255000\", \"Comision\": \"0.25\", \"Ingresos\": \"63750.0\", \"Metodo_pago\": \"Tarjeta_de_credito\", \"Estado\": \"PAGO_FALLIDO\", \"Tipo_orden\": \"EN L\\\\u00cdNEA\", \"Ciudad\": \"Rosario\", \"Ubicacion\": \"(-32.956032, -60.646908)\", \"Latitud\": \"-32.956032\", \"Longitud\": \"-60.64169\", \"Fuente\": \"Influencer_2\", \"Marca\": \"Brand1\", \"Categoria\": \"LAPTOPS\", \"Creado_en\": \"2023-05-14 01:06:34\"}'\n",
      "Producing record: Simulador_Compras\tb'{\"ID_compra\": \"933ae62fff\", \"Nombre_producto\": \"Console_Xbox\", \"Precio\": \"314000\", \"Comision\": \"0.15\", \"Ingresos\": \"47100.0\", \"Metodo_pago\": \"Mercado_Pago\", \"Estado\": \"COMPLETADO\", \"Tipo_orden\": \"EN L\\\\u00cdNEA\", \"Ciudad\": \"Posadas\", \"Ubicacion\": \"(-27.366249, -55.906467)\", \"Latitud\": \"-27.366249\", \"Longitud\": \"-55.907959\", \"Fuente\": \"Influencer_1\", \"Marca\": \"X_Box\", \"Categoria\": \"VIDEO GAMES\", \"Creado_en\": \"2023-05-14 01:06:35\"}'\n",
      "Producing record: Simulador_Compras\tb'{\"ID_compra\": \"b4df918341\", \"Nombre_producto\": \"Laptop_Brand1_8GB\", \"Precio\": \"255000\", \"Comision\": \"0.25\", \"Ingresos\": \"63750.0\", \"Metodo_pago\": \"Mercado_Pago\", \"Estado\": \"FALLO_RESPUESTA_API\", \"Tipo_orden\": \"EN L\\\\u00cdNEA\", \"Ciudad\": \"Posadas\", \"Ubicacion\": \"(-27.362986, -55.907959)\", \"Latitud\": \"-27.366249\", \"Longitud\": \"-55.907959\", \"Fuente\": \"Facebook\", \"Marca\": \"Brand1\", \"Categoria\": \"LAPTOPS\", \"Creado_en\": \"2023-05-14 01:06:37\"}'\n",
      "Producing record: Simulador_Compras\tb'{\"ID_compra\": \"0aca261696\", \"Nombre_producto\": \"Console_PS5\", \"Precio\": \"400000\", \"Comision\": \"0.3\", \"Ingresos\": \"120000.0\", \"Metodo_pago\": \"Tarjeta_de_credito\", \"Estado\": \"PAGO_FALLIDO\", \"Tipo_orden\": \"EN L\\\\u00cdNEA\", \"Ciudad\": \"Capital_Federal\", \"Ubicacion\": \"(-34.606232, -58.409714)\", \"Latitud\": \"-34.588571\", \"Longitud\": \"-58.375216\", \"Fuente\": \"Twitter\", \"Marca\": \"PS5\", \"Categoria\": \"VIDEO GAMES\", \"Creado_en\": \"2023-05-14 01:06:38\"}'\n",
      "Producing record: Simulador_Compras\tb'{\"ID_compra\": \"40db409744\", \"Nombre_producto\": \"Laptop_Brand1_32GB\", \"Precio\": \"480000\", \"Comision\": \"0.35\", \"Ingresos\": \"168000.0\", \"Metodo_pago\": \"Mercado_Pago\", \"Estado\": \"FALLO_RESPUESTA_API\", \"Tipo_orden\": \"EN L\\\\u00cdNEA\", \"Ciudad\": \"Cordoba\", \"Ubicacion\": \"(-31.436559, -64.183577)\", \"Latitud\": \"-31.418623\", \"Longitud\": \"-64.190728\", \"Fuente\": \"Influencer_3\", \"Marca\": \"Brand1\", \"Categoria\": \"GAMING\", \"Creado_en\": \"2023-05-14 01:06:39\"}'\n",
      "Producing record: Simulador_Compras\tb'{\"ID_compra\": \"c806acc2a3\", \"Nombre_producto\": \"Laptop_Brand3_16GB\", \"Precio\": \"465900\", \"Comision\": \"0.3\", \"Ingresos\": \"139770.0\", \"Metodo_pago\": \"Tarjeta_de_credito\", \"Estado\": \"COMPLETADO\", \"Tipo_orden\": \"EN L\\\\u00cdNEA\", \"Ciudad\": \"Cordoba\", \"Ubicacion\": \"(-31.405747, -64.195188)\", \"Latitud\": \"-31.405747\", \"Longitud\": \"-64.183577\", \"Fuente\": \"Influencer_3\", \"Marca\": \"Brand3\", \"Categoria\": \"LAPTOPS\", \"Creado_en\": \"2023-05-14 01:06:41\"}'\n",
      "Producing record: Simulador_Compras\tb'{\"ID_compra\": \"98774f58c4\", \"Nombre_producto\": \"Laptop_Brand2_16GB\", \"Precio\": \"389000\", \"Comision\": \"0.2\", \"Ingresos\": \"77800.0\", \"Metodo_pago\": \"Mercado_Pago\", \"Estado\": \"COMPLETADO\", \"Tipo_orden\": \"EN L\\\\u00cdNEA\", \"Ciudad\": \"Resistencia\", \"Ubicacion\": \"(-27.451214, -58.986389)\", \"Latitud\": \"-27.451214\", \"Longitud\": \"-58.986389\", \"Fuente\": \"Influencer_2\", \"Marca\": \"Brand2\", \"Categoria\": \"LAPTOPS\", \"Creado_en\": \"2023-05-14 01:06:42\"}'\n",
      "Producing record: Simulador_Compras\tb'{\"ID_compra\": \"d83da788c3\", \"Nombre_producto\": \"Laptop_Brand2_8GB\", \"Precio\": \"185000\", \"Comision\": \"0.18\", \"Ingresos\": \"33300.0\", \"Metodo_pago\": \"Tarjeta_de_credito\", \"Estado\": \"ERROR_USUARIO\", \"Tipo_orden\": \"EN L\\\\u00cdNEA\", \"Ciudad\": \"Cordoba\", \"Ubicacion\": \"(-31.405747, -64.195188)\", \"Latitud\": \"-31.436559\", \"Longitud\": \"-64.190728\", \"Fuente\": \"Facebook\", \"Marca\": \"Brand2\", \"Categoria\": \"LAPTOPS\", \"Creado_en\": \"2023-05-14 01:06:44\"}'\n",
      "Producing record: Simulador_Compras\tb'{\"ID_compra\": \"a397a129b3\", \"Nombre_producto\": \"Laptop_Brand3_16GB\", \"Precio\": \"465900\", \"Comision\": \"0.3\", \"Ingresos\": \"139770.0\", \"Metodo_pago\": \"Tarjeta_de_credito\", \"Estado\": \"COMPLETADO\", \"Tipo_orden\": \"EN L\\\\u00cdNEA\", \"Ciudad\": \"Posadas\", \"Ubicacion\": \"(-27.366249, -55.906467)\", \"Latitud\": \"-27.366249\", \"Longitud\": \"-55.906467\", \"Fuente\": \"Instagram\", \"Marca\": \"Brand3\", \"Categoria\": \"LAPTOPS\", \"Creado_en\": \"2023-05-14 01:06:45\"}'\n",
      "Producing record: Simulador_Compras\tb'{\"ID_compra\": \"9cb6df5b5a\", \"Nombre_producto\": \"Console_Xbox\", \"Precio\": \"314000\", \"Comision\": \"0.15\", \"Ingresos\": \"47100.0\", \"Metodo_pago\": \"Tarjeta_de_credito\", \"Estado\": \"FONDOS_INSUFICIENTES\", \"Tipo_orden\": \"EN L\\\\u00cdNEA\", \"Ciudad\": \"Rosario\", \"Ubicacion\": \"(-32.947581, -60.64169)\", \"Latitud\": \"-32.95775\", \"Longitud\": \"-60.64178\", \"Fuente\": \"Influencer_1\", \"Marca\": \"X_Box\", \"Categoria\": \"VIDEO GAMES\", \"Creado_en\": \"2023-05-14 01:06:46\"}'\n",
      "Producing record: Simulador_Compras\tb'{\"ID_compra\": \"28234982cc\", \"Nombre_producto\": \"Console_PS5\", \"Precio\": \"400000\", \"Comision\": \"0.3\", \"Ingresos\": \"120000.0\", \"Metodo_pago\": \"Mercado_Pago\", \"Estado\": \"FALLO_RESPUESTA_API\", \"Tipo_orden\": \"EN L\\\\u00cdNEA\", \"Ciudad\": \"Resistencia\", \"Ubicacion\": \"(-27.445978, -58.978493)\", \"Latitud\": \"-27.451214\", \"Longitud\": \"-58.978493\", \"Fuente\": \"Instagram\", \"Marca\": \"PS5\", \"Categoria\": \"VIDEO GAMES\", \"Creado_en\": \"2023-05-14 01:06:47\"}'\n",
      "Producing record: Simulador_Compras\tb'{\"ID_compra\": \"84283bbf99\", \"Nombre_producto\": \"Laptop_Brand3_32GB\", \"Precio\": \"1899900\", \"Comision\": \"0.4\", \"Ingresos\": \"759960.0\", \"Metodo_pago\": \"Mercado_Pago\", \"Estado\": \"FALLO_RESPUESTA_API\", \"Tipo_orden\": \"EN L\\\\u00cdNEA\", \"Ciudad\": \"Capital_Federal\", \"Ubicacion\": \"(-34.588571, -58.411379)\", \"Latitud\": \"-34.606232\", \"Longitud\": \"-58.409714\", \"Fuente\": \"Organic\", \"Marca\": \"Brand3\", \"Categoria\": \"GAMING\", \"Creado_en\": \"2023-05-14 01:06:48\"}'\n",
      "Producing record: Simulador_Compras\tb'{\"ID_compra\": \"f01b172acf\", \"Nombre_producto\": \"Console_PS5\", \"Precio\": \"400000\", \"Comision\": \"0.3\", \"Ingresos\": \"120000.0\", \"Metodo_pago\": \"Mercado_Pago\", \"Estado\": \"COMPLETADO\", \"Tipo_orden\": \"EN L\\\\u00cdNEA\", \"Ciudad\": \"Posadas\", \"Ubicacion\": \"(-27.362986, -55.907959)\", \"Latitud\": \"-27.362986\", \"Longitud\": \"-55.906467\", \"Fuente\": \"Instagram\", \"Marca\": \"PS5\", \"Categoria\": \"VIDEO GAMES\", \"Creado_en\": \"2023-05-14 01:06:49\"}'\n",
      "Producing record: Simulador_Compras\tb'{\"ID_compra\": \"8323e62ae6\", \"Nombre_producto\": \"Laptop_Brand3_32GB\", \"Precio\": \"1899900\", \"Comision\": \"0.4\", \"Ingresos\": \"759960.0\", \"Metodo_pago\": \"Mercado_Pago\", \"Estado\": \"COMPLETADO\", \"Tipo_orden\": \"EN L\\\\u00cdNEA\", \"Ciudad\": \"Posadas\", \"Ubicacion\": \"(-27.362986, -55.907959)\", \"Latitud\": \"-27.36914\", \"Longitud\": \"-55.906467\", \"Fuente\": \"Influencer_4\", \"Marca\": \"Brand3\", \"Categoria\": \"GAMING\", \"Creado_en\": \"2023-05-14 01:06:51\"}'\n",
      "Producing record: Simulador_Compras\tb'{\"ID_compra\": \"3459c63d5e\", \"Nombre_producto\": \"Laptop_Brand1_32GB\", \"Precio\": \"480000\", \"Comision\": \"0.35\", \"Ingresos\": \"168000.0\", \"Metodo_pago\": \"Mercado_Pago\", \"Estado\": \"FONDOS_INSUFICIENTES\", \"Tipo_orden\": \"EN L\\\\u00cdNEA\", \"Ciudad\": \"Rosario\", \"Ubicacion\": \"(-32.947581, -60.64169)\", \"Latitud\": \"-32.956032\", \"Longitud\": \"-60.64178\", \"Fuente\": \"Organic\", \"Marca\": \"Brand1\", \"Categoria\": \"GAMING\", \"Creado_en\": \"2023-05-14 01:06:52\"}'\n",
      "Producing record: Simulador_Compras\tb'{\"ID_compra\": \"9091ddf549\", \"Nombre_producto\": \"Console_Switch\", \"Precio\": \"320000\", \"Comision\": \"0.2\", \"Ingresos\": \"64000.0\", \"Metodo_pago\": \"Tarjeta_de_credito\", \"Estado\": \"COMPLETADO\", \"Tipo_orden\": \"EN L\\\\u00cdNEA\", \"Ciudad\": \"Cordoba\", \"Ubicacion\": \"(-31.405747, -64.195188)\", \"Latitud\": \"-31.405747\", \"Longitud\": \"-64.183577\", \"Fuente\": \"Instagram\", \"Marca\": \"Nintendo\", \"Categoria\": \"VIDEO GAMES\", \"Creado_en\": \"2023-05-14 01:06:53\"}'\n",
      "Producing record: Simulador_Compras\tb'{\"ID_compra\": \"b73d00e216\", \"Nombre_producto\": \"Laptop_Brand1_8GB\", \"Precio\": \"255000\", \"Comision\": \"0.25\", \"Ingresos\": \"63750.0\", \"Metodo_pago\": \"Mercado_Pago\", \"Estado\": \"COMPLETADO\", \"Tipo_orden\": \"EN L\\\\u00cdNEA\", \"Ciudad\": \"Rosario\", \"Ubicacion\": \"(-32.947581, -60.64169)\", \"Latitud\": \"-32.956032\", \"Longitud\": \"-60.64178\", \"Fuente\": \"Organic\", \"Marca\": \"Brand1\", \"Categoria\": \"LAPTOPS\", \"Creado_en\": \"2023-05-14 01:06:54\"}'\n",
      "Producing record: Simulador_Compras\tb'{\"ID_compra\": \"f83c1cb322\", \"Nombre_producto\": \"Laptop_Brand3_32GB\", \"Precio\": \"1899900\", \"Comision\": \"0.4\", \"Ingresos\": \"759960.0\", \"Metodo_pago\": \"Tarjeta_de_credito\", \"Estado\": \"FONDOS_INSUFICIENTES\", \"Tipo_orden\": \"EN L\\\\u00cdNEA\", \"Ciudad\": \"Cordoba\", \"Ubicacion\": \"(-31.436559, -64.183577)\", \"Latitud\": \"-31.418623\", \"Longitud\": \"-64.190728\", \"Fuente\": \"Influencer_1\", \"Marca\": \"Brand3\", \"Categoria\": \"GAMING\", \"Creado_en\": \"2023-05-14 01:06:55\"}'\n",
      "Producing record: Simulador_Compras\tb'{\"ID_compra\": \"fe003a4ebd\", \"Nombre_producto\": \"Laptop_Brand3_4GB\", \"Precio\": \"185000\", \"Comision\": \"0.2\", \"Ingresos\": \"37000.0\", \"Metodo_pago\": \"Mercado_Pago\", \"Estado\": \"COMPLETADO\", \"Tipo_orden\": \"EN L\\\\u00cdNEA\", \"Ciudad\": \"Posadas\", \"Ubicacion\": \"(-27.366249, -55.906467)\", \"Latitud\": \"-27.362986\", \"Longitud\": \"-55.907111\", \"Fuente\": \"Twitter\", \"Marca\": \"Brand3\", \"Categoria\": \"LAPTOPS\", \"Creado_en\": \"2023-05-14 01:06:57\"}'\n",
      "Producing record: Simulador_Compras\tb'{\"ID_compra\": \"b10f126b57\", \"Nombre_producto\": \"Laptop_Brand3_4GB\", \"Precio\": \"185000\", \"Comision\": \"0.2\", \"Ingresos\": \"37000.0\", \"Metodo_pago\": \"Tarjeta_de_credito\", \"Estado\": \"COMPLETADO\", \"Tipo_orden\": \"EN L\\\\u00cdNEA\", \"Ciudad\": \"Posadas\", \"Ubicacion\": \"(-27.362986, -55.907959)\", \"Latitud\": \"-27.36914\", \"Longitud\": \"-55.907111\", \"Fuente\": \"Influencer_3\", \"Marca\": \"Brand3\", \"Categoria\": \"LAPTOPS\", \"Creado_en\": \"2023-05-14 01:06:58\"}'\n",
      "Producing record: Simulador_Compras\tb'{\"ID_compra\": \"e46a56e2a0\", \"Nombre_producto\": \"Laptop_Brand2_8GB\", \"Precio\": \"185000\", \"Comision\": \"0.18\", \"Ingresos\": \"33300.0\", \"Metodo_pago\": \"Tarjeta_de_credito\", \"Estado\": \"PAGO_FALLIDO\", \"Tipo_orden\": \"EN L\\\\u00cdNEA\", \"Ciudad\": \"Capital_Federal\", \"Ubicacion\": \"(-34.606232, -58.409714)\", \"Latitud\": \"-34.606232\", \"Longitud\": \"-58.409714\", \"Fuente\": \"Influencer_1\", \"Marca\": \"Brand2\", \"Categoria\": \"LAPTOPS\", \"Creado_en\": \"2023-05-14 01:06:59\"}'\n",
      "Producing record: Simulador_Compras\tb'{\"ID_compra\": \"aba02d8123\", \"Nombre_producto\": \"Laptop_Brand2_4GB\", \"Precio\": \"115000\", \"Comision\": \"0.15\", \"Ingresos\": \"17250.0\", \"Metodo_pago\": \"Tarjeta_de_credito\", \"Estado\": \"COMPLETADO\", \"Tipo_orden\": \"EN L\\\\u00cdNEA\", \"Ciudad\": \"Capital_Federal\", \"Ubicacion\": \"(-34.606232, -58.409714)\", \"Latitud\": \"-34.606232\", \"Longitud\": \"-58.411379\", \"Fuente\": \"Facebook\", \"Marca\": \"Brand2\", \"Categoria\": \"LAPTOPS\", \"Creado_en\": \"2023-05-14 01:07:01\"}'\n",
      "Producing record: Simulador_Compras\tb'{\"ID_compra\": \"3dd152924c\", \"Nombre_producto\": \"Console_Switch\", \"Precio\": \"320000\", \"Comision\": \"0.2\", \"Ingresos\": \"64000.0\", \"Metodo_pago\": \"Mercado_Pago\", \"Estado\": \"COMPLETADO\", \"Tipo_orden\": \"EN L\\\\u00cdNEA\", \"Ciudad\": \"Posadas\", \"Ubicacion\": \"(-27.366249, -55.906467)\", \"Latitud\": \"-27.362986\", \"Longitud\": \"-55.907959\", \"Fuente\": \"Facebook\", \"Marca\": \"Nintendo\", \"Categoria\": \"VIDEO GAMES\", \"Creado_en\": \"2023-05-14 01:07:02\"}'\n",
      "Producing record: Simulador_Compras\tb'{\"ID_compra\": \"f977b1f155\", \"Nombre_producto\": \"Laptop_Brand2_4GB\", \"Precio\": \"115000\", \"Comision\": \"0.15\", \"Ingresos\": \"17250.0\", \"Metodo_pago\": \"Mercado_Pago\", \"Estado\": \"COMPLETADO\", \"Tipo_orden\": \"EN L\\\\u00cdNEA\", \"Ciudad\": \"Posadas\", \"Ubicacion\": \"(-27.36914, -55.907111)\", \"Latitud\": \"-27.362986\", \"Longitud\": \"-55.907111\", \"Fuente\": \"Organic\", \"Marca\": \"Brand2\", \"Categoria\": \"LAPTOPS\", \"Creado_en\": \"2023-05-14 01:07:03\"}'\n",
      "Producing record: Simulador_Compras\tb'{\"ID_compra\": \"ee6d58858e\", \"Nombre_producto\": \"Laptop_Brand3_32GB\", \"Precio\": \"1899900\", \"Comision\": \"0.4\", \"Ingresos\": \"759960.0\", \"Metodo_pago\": \"Mercado_Pago\", \"Estado\": \"COMPLETADO\", \"Tipo_orden\": \"EN L\\\\u00cdNEA\", \"Ciudad\": \"Capital_Federal\", \"Ubicacion\": \"(-34.588571, -58.411379)\", \"Latitud\": \"-34.588571\", \"Longitud\": \"-58.411379\", \"Fuente\": \"Organic\", \"Marca\": \"Brand3\", \"Categoria\": \"GAMING\", \"Creado_en\": \"2023-05-14 01:07:05\"}'\n",
      "Producing record: Simulador_Compras\tb'{\"ID_compra\": \"42a627871f\", \"Nombre_producto\": \"Laptop_Brand2_4GB\", \"Precio\": \"115000\", \"Comision\": \"0.15\", \"Ingresos\": \"17250.0\", \"Metodo_pago\": \"Mercado_Pago\", \"Estado\": \"FONDOS_INSUFICIENTES\", \"Tipo_orden\": \"EN L\\\\u00cdNEA\", \"Ciudad\": \"Cordoba\", \"Ubicacion\": \"(-31.418623, -64.190728)\", \"Latitud\": \"-31.436559\", \"Longitud\": \"-64.190728\", \"Fuente\": \"Twitter\", \"Marca\": \"Brand2\", \"Categoria\": \"LAPTOPS\", \"Creado_en\": \"2023-05-14 01:07:06\"}'\n",
      "Producing record: Simulador_Compras\tb'{\"ID_compra\": \"0aa616de2a\", \"Nombre_producto\": \"Laptop_Brand3_32GB\", \"Precio\": \"1899900\", \"Comision\": \"0.4\", \"Ingresos\": \"759960.0\", \"Metodo_pago\": \"Mercado_Pago\", \"Estado\": \"FALLO_RESPUESTA_API\", \"Tipo_orden\": \"EN L\\\\u00cdNEA\", \"Ciudad\": \"Cordoba\", \"Ubicacion\": \"(-31.418623, -64.190728)\", \"Latitud\": \"-31.405747\", \"Longitud\": \"-64.190728\", \"Fuente\": \"Influencer_4\", \"Marca\": \"Brand3\", \"Categoria\": \"GAMING\", \"Creado_en\": \"2023-05-14 01:07:07\"}'\n",
      "Producing record: Simulador_Compras\tb'{\"ID_compra\": \"e30e826723\", \"Nombre_producto\": \"Laptop_Brand1_8GB\", \"Precio\": \"255000\", \"Comision\": \"0.25\", \"Ingresos\": \"63750.0\", \"Metodo_pago\": \"Tarjeta_de_credito\", \"Estado\": \"COMPLETADO\", \"Tipo_orden\": \"EN L\\\\u00cdNEA\", \"Ciudad\": \"Cordoba\", \"Ubicacion\": \"(-31.405747, -64.195188)\", \"Latitud\": \"-31.405747\", \"Longitud\": \"-64.190728\", \"Fuente\": \"Influencer_1\", \"Marca\": \"Brand1\", \"Categoria\": \"LAPTOPS\", \"Creado_en\": \"2023-05-14 01:07:09\"}'\n",
      "Producing record: Simulador_Compras\tb'{\"ID_compra\": \"b7ea04a114\", \"Nombre_producto\": \"Console_PS5\", \"Precio\": \"400000\", \"Comision\": \"0.3\", \"Ingresos\": \"120000.0\", \"Metodo_pago\": \"Mercado_Pago\", \"Estado\": \"FALLO_RESPUESTA_API\", \"Tipo_orden\": \"EN L\\\\u00cdNEA\", \"Ciudad\": \"Resistencia\", \"Ubicacion\": \"(-27.446658, -58.985378)\", \"Latitud\": \"-27.445978\", \"Longitud\": \"-58.986389\", \"Fuente\": \"Influencer_4\", \"Marca\": \"PS5\", \"Categoria\": \"VIDEO GAMES\", \"Creado_en\": \"2023-05-14 01:07:10\"}'\n",
      "Producing record: Simulador_Compras\tb'{\"ID_compra\": \"a3fc7b6782\", \"Nombre_producto\": \"Laptop_Brand1_16GB\", \"Precio\": \"350000\", \"Comision\": \"0.3\", \"Ingresos\": \"105000.0\", \"Metodo_pago\": \"Tarjeta_de_credito\", \"Estado\": \"FALLO_RESPUESTA_API\", \"Tipo_orden\": \"EN L\\\\u00cdNEA\", \"Ciudad\": \"Resistencia\", \"Ubicacion\": \"(-27.451214, -58.986389)\", \"Latitud\": \"-27.451214\", \"Longitud\": \"-58.978493\", \"Fuente\": \"Instagram\", \"Marca\": \"Brand1\", \"Categoria\": \"LAPTOPS\", \"Creado_en\": \"2023-05-14 01:07:12\"}'\n",
      "Producing record: Simulador_Compras\tb'{\"ID_compra\": \"81904d33d2\", \"Nombre_producto\": \"Laptop_Brand3_8GB\", \"Precio\": \"319900\", \"Comision\": \"0.28\", \"Ingresos\": \"89572.0\", \"Metodo_pago\": \"Tarjeta_de_credito\", \"Estado\": \"COMPLETADO\", \"Tipo_orden\": \"EN L\\\\u00cdNEA\", \"Ciudad\": \"Capital_Federal\", \"Ubicacion\": \"(-34.606232, -58.409714)\", \"Latitud\": \"-34.603738\", \"Longitud\": \"-58.411379\", \"Fuente\": \"Influencer_3\", \"Marca\": \"Brand3\", \"Categoria\": \"LAPTOPS\", \"Creado_en\": \"2023-05-14 01:07:13\"}'\n",
      "Producing record: Simulador_Compras\tb'{\"ID_compra\": \"0ccf84c4f9\", \"Nombre_producto\": \"Console_Switch\", \"Precio\": \"320000\", \"Comision\": \"0.2\", \"Ingresos\": \"64000.0\", \"Metodo_pago\": \"Mercado_Pago\", \"Estado\": \"COMPLETADO\", \"Tipo_orden\": \"EN L\\\\u00cdNEA\", \"Ciudad\": \"Resistencia\", \"Ubicacion\": \"(-27.446658, -58.985378)\", \"Latitud\": \"-27.446658\", \"Longitud\": \"-58.986389\", \"Fuente\": \"Instagram\", \"Marca\": \"Nintendo\", \"Categoria\": \"VIDEO GAMES\", \"Creado_en\": \"2023-05-14 01:07:15\"}'\n",
      "Producing record: Simulador_Compras\tb'{\"ID_compra\": \"ba350597f8\", \"Nombre_producto\": \"Laptop_Brand2_4GB\", \"Precio\": \"115000\", \"Comision\": \"0.15\", \"Ingresos\": \"17250.0\", \"Metodo_pago\": \"Tarjeta_de_credito\", \"Estado\": \"COMPLETADO\", \"Tipo_orden\": \"EN L\\\\u00cdNEA\", \"Ciudad\": \"Rosario\", \"Ubicacion\": \"(-32.956032, -60.646908)\", \"Latitud\": \"-32.956032\", \"Longitud\": \"-60.64178\", \"Fuente\": \"Organic\", \"Marca\": \"Brand2\", \"Categoria\": \"LAPTOPS\", \"Creado_en\": \"2023-05-14 01:07:16\"}'\n",
      "Producing record: Simulador_Compras\tb'{\"ID_compra\": \"61e8b5a62c\", \"Nombre_producto\": \"Console_PS5\", \"Precio\": \"400000\", \"Comision\": \"0.3\", \"Ingresos\": \"120000.0\", \"Metodo_pago\": \"Mercado_Pago\", \"Estado\": \"COMPLETADO\", \"Tipo_orden\": \"EN L\\\\u00cdNEA\", \"Ciudad\": \"Resistencia\", \"Ubicacion\": \"(-27.446658, -58.985378)\", \"Latitud\": \"-27.446658\", \"Longitud\": \"-58.978493\", \"Fuente\": \"Influencer_2\", \"Marca\": \"PS5\", \"Categoria\": \"VIDEO GAMES\", \"Creado_en\": \"2023-05-14 01:07:17\"}'\n",
      "Producing record: Simulador_Compras\tb'{\"ID_compra\": \"3485962727\", \"Nombre_producto\": \"Console_Xbox\", \"Precio\": \"314000\", \"Comision\": \"0.15\", \"Ingresos\": \"47100.0\", \"Metodo_pago\": \"Mercado_Pago\", \"Estado\": \"PAGO_FALLIDO\", \"Tipo_orden\": \"EN L\\\\u00cdNEA\", \"Ciudad\": \"Posadas\", \"Ubicacion\": \"(-27.366249, -55.906467)\", \"Latitud\": \"-27.362986\", \"Longitud\": \"-55.907959\", \"Fuente\": \"Influencer_4\", \"Marca\": \"X_Box\", \"Categoria\": \"VIDEO GAMES\", \"Creado_en\": \"2023-05-14 01:07:19\"}'\n",
      "Producing record: Simulador_Compras\tb'{\"ID_compra\": \"4f6b8cc1a7\", \"Nombre_producto\": \"Laptop_Brand1_32GB\", \"Precio\": \"480000\", \"Comision\": \"0.35\", \"Ingresos\": \"168000.0\", \"Metodo_pago\": \"Tarjeta_de_credito\", \"Estado\": \"ERROR_USUARIO\", \"Tipo_orden\": \"EN L\\\\u00cdNEA\", \"Ciudad\": \"Resistencia\", \"Ubicacion\": \"(-27.451214, -58.986389)\", \"Latitud\": \"-27.446658\", \"Longitud\": \"-58.986389\", \"Fuente\": \"Twitter\", \"Marca\": \"Brand1\", \"Categoria\": \"GAMING\", \"Creado_en\": \"2023-05-14 01:07:20\"}'\n",
      "Producing record: Simulador_Compras\tb'{\"ID_compra\": \"87a06a9827\", \"Nombre_producto\": \"Laptop_Brand2_8GB\", \"Precio\": \"185000\", \"Comision\": \"0.18\", \"Ingresos\": \"33300.0\", \"Metodo_pago\": \"Mercado_Pago\", \"Estado\": \"COMPLETADO\", \"Tipo_orden\": \"EN L\\\\u00cdNEA\", \"Ciudad\": \"Posadas\", \"Ubicacion\": \"(-27.362986, -55.907959)\", \"Latitud\": \"-27.366249\", \"Longitud\": \"-55.906467\", \"Fuente\": \"Influencer_1\", \"Marca\": \"Brand2\", \"Categoria\": \"LAPTOPS\", \"Creado_en\": \"2023-05-14 01:07:22\"}'\n",
      "Producing record: Simulador_Compras\tb'{\"ID_compra\": \"be31774293\", \"Nombre_producto\": \"Laptop_Brand1_4GB\", \"Precio\": \"135000\", \"Comision\": \"0.2\", \"Ingresos\": \"27000.0\", \"Metodo_pago\": \"Tarjeta_de_credito\", \"Estado\": \"COMPLETADO\", \"Tipo_orden\": \"EN L\\\\u00cdNEA\", \"Ciudad\": \"Rosario\", \"Ubicacion\": \"(-32.956032, -60.646908)\", \"Latitud\": \"-32.95775\", \"Longitud\": \"-60.64169\", \"Fuente\": \"Influencer_4\", \"Marca\": \"Brand1\", \"Categoria\": \"LAPTOPS\", \"Creado_en\": \"2023-05-14 01:07:23\"}'\n",
      "Producing record: Simulador_Compras\tb'{\"ID_compra\": \"bc150d8bd8\", \"Nombre_producto\": \"Laptop_Brand2_16GB\", \"Precio\": \"389000\", \"Comision\": \"0.2\", \"Ingresos\": \"77800.0\", \"Metodo_pago\": \"Mercado_Pago\", \"Estado\": \"FALLO_RESPUESTA_API\", \"Tipo_orden\": \"EN L\\\\u00cdNEA\", \"Ciudad\": \"Posadas\", \"Ubicacion\": \"(-27.36914, -55.907111)\", \"Latitud\": \"-27.366249\", \"Longitud\": \"-55.907959\", \"Fuente\": \"Influencer_3\", \"Marca\": \"Brand2\", \"Categoria\": \"LAPTOPS\", \"Creado_en\": \"2023-05-14 01:07:24\"}'\n",
      "Producing record: Simulador_Compras\tb'{\"ID_compra\": \"9783eae7e8\", \"Nombre_producto\": \"Laptop_Brand3_32GB\", \"Precio\": \"1899900\", \"Comision\": \"0.4\", \"Ingresos\": \"759960.0\", \"Metodo_pago\": \"Tarjeta_de_credito\", \"Estado\": \"COMPLETADO\", \"Tipo_orden\": \"EN L\\\\u00cdNEA\", \"Ciudad\": \"Posadas\", \"Ubicacion\": \"(-27.366249, -55.906467)\", \"Latitud\": \"-27.366249\", \"Longitud\": \"-55.906467\", \"Fuente\": \"Influencer_4\", \"Marca\": \"Brand3\", \"Categoria\": \"GAMING\", \"Creado_en\": \"2023-05-14 01:07:26\"}'\n",
      "Producing record: Simulador_Compras\tb'{\"ID_compra\": \"f7ae96ef6c\", \"Nombre_producto\": \"Console_PS5\", \"Precio\": \"400000\", \"Comision\": \"0.3\", \"Ingresos\": \"120000.0\", \"Metodo_pago\": \"Tarjeta_de_credito\", \"Estado\": \"COMPLETADO\", \"Tipo_orden\": \"EN L\\\\u00cdNEA\", \"Ciudad\": \"Rosario\", \"Ubicacion\": \"(-32.947581, -60.64169)\", \"Latitud\": \"-32.947581\", \"Longitud\": \"-60.646908\", \"Fuente\": \"Organic\", \"Marca\": \"PS5\", \"Categoria\": \"VIDEO GAMES\", \"Creado_en\": \"2023-05-14 01:07:27\"}'\n",
      "Producing record: Simulador_Compras\tb'{\"ID_compra\": \"32fd196b79\", \"Nombre_producto\": \"Laptop_Brand1_8GB\", \"Precio\": \"255000\", \"Comision\": \"0.25\", \"Ingresos\": \"63750.0\", \"Metodo_pago\": \"Tarjeta_de_credito\", \"Estado\": \"FALLO_RESPUESTA_API\", \"Tipo_orden\": \"EN L\\\\u00cdNEA\", \"Ciudad\": \"Capital_Federal\", \"Ubicacion\": \"(-34.603738, -58.375216)\", \"Latitud\": \"-34.603738\", \"Longitud\": \"-58.409714\", \"Fuente\": \"Instagram\", \"Marca\": \"Brand1\", \"Categoria\": \"LAPTOPS\", \"Creado_en\": \"2023-05-14 01:07:29\"}'\n",
      "Producing record: Simulador_Compras\tb'{\"ID_compra\": \"7e2148806d\", \"Nombre_producto\": \"Laptop_Brand1_32GB\", \"Precio\": \"480000\", \"Comision\": \"0.35\", \"Ingresos\": \"168000.0\", \"Metodo_pago\": \"Tarjeta_de_credito\", \"Estado\": \"FALLO_RESPUESTA_API\", \"Tipo_orden\": \"EN L\\\\u00cdNEA\", \"Ciudad\": \"Cordoba\", \"Ubicacion\": \"(-31.405747, -64.195188)\", \"Latitud\": \"-31.436559\", \"Longitud\": \"-64.195188\", \"Fuente\": \"Influencer_1\", \"Marca\": \"Brand1\", \"Categoria\": \"GAMING\", \"Creado_en\": \"2023-05-14 01:07:30\"}'\n",
      "Producing record: Simulador_Compras\tb'{\"ID_compra\": \"19ec5648b5\", \"Nombre_producto\": \"Laptop_Brand2_4GB\", \"Precio\": \"115000\", \"Comision\": \"0.15\", \"Ingresos\": \"17250.0\", \"Metodo_pago\": \"Mercado_Pago\", \"Estado\": \"COMPLETADO\", \"Tipo_orden\": \"EN L\\\\u00cdNEA\", \"Ciudad\": \"Posadas\", \"Ubicacion\": \"(-27.36914, -55.907111)\", \"Latitud\": \"-27.362986\", \"Longitud\": \"-55.907111\", \"Fuente\": \"Organic\", \"Marca\": \"Brand2\", \"Categoria\": \"LAPTOPS\", \"Creado_en\": \"2023-05-14 01:07:32\"}'\n",
      "Producing record: Simulador_Compras\tb'{\"ID_compra\": \"47401024aa\", \"Nombre_producto\": \"Laptop_Brand2_4GB\", \"Precio\": \"115000\", \"Comision\": \"0.15\", \"Ingresos\": \"17250.0\", \"Metodo_pago\": \"Tarjeta_de_credito\", \"Estado\": \"COMPLETADO\", \"Tipo_orden\": \"EN L\\\\u00cdNEA\", \"Ciudad\": \"Resistencia\", \"Ubicacion\": \"(-27.446658, -58.985378)\", \"Latitud\": \"-27.451214\", \"Longitud\": \"-58.986389\", \"Fuente\": \"Influencer_3\", \"Marca\": \"Brand2\", \"Categoria\": \"LAPTOPS\", \"Creado_en\": \"2023-05-14 01:07:33\"}'\n",
      "Producing record: Simulador_Compras\tb'{\"ID_compra\": \"5c0beca1cf\", \"Nombre_producto\": \"Laptop_Brand2_16GB\", \"Precio\": \"389000\", \"Comision\": \"0.2\", \"Ingresos\": \"77800.0\", \"Metodo_pago\": \"Tarjeta_de_credito\", \"Estado\": \"COMPLETADO\", \"Tipo_orden\": \"EN L\\\\u00cdNEA\", \"Ciudad\": \"Rosario\", \"Ubicacion\": \"(-32.95775, -60.64178)\", \"Latitud\": \"-32.947581\", \"Longitud\": \"-60.64178\", \"Fuente\": \"Twitter\", \"Marca\": \"Brand2\", \"Categoria\": \"LAPTOPS\", \"Creado_en\": \"2023-05-14 01:07:34\"}'\n",
      "Producing record: Simulador_Compras\tb'{\"ID_compra\": \"feaa792f3e\", \"Nombre_producto\": \"Laptop_Brand2_32GB\", \"Precio\": \"699000\", \"Comision\": \"0.25\", \"Ingresos\": \"174750.0\", \"Metodo_pago\": \"Tarjeta_de_credito\", \"Estado\": \"FONDOS_INSUFICIENTES\", \"Tipo_orden\": \"EN L\\\\u00cdNEA\", \"Ciudad\": \"Cordoba\", \"Ubicacion\": \"(-31.405747, -64.195188)\", \"Latitud\": \"-31.436559\", \"Longitud\": \"-64.190728\", \"Fuente\": \"Instagram\", \"Marca\": \"Brand2\", \"Categoria\": \"GAMING\", \"Creado_en\": \"2023-05-14 01:07:36\"}'\n",
      "Producing record: Simulador_Compras\tb'{\"ID_compra\": \"749cda35c7\", \"Nombre_producto\": \"Laptop_Brand1_8GB\", \"Precio\": \"255000\", \"Comision\": \"0.25\", \"Ingresos\": \"63750.0\", \"Metodo_pago\": \"Tarjeta_de_credito\", \"Estado\": \"COMPLETADO\", \"Tipo_orden\": \"EN L\\\\u00cdNEA\", \"Ciudad\": \"Cordoba\", \"Ubicacion\": \"(-31.418623, -64.190728)\", \"Latitud\": \"-31.418623\", \"Longitud\": \"-64.183577\", \"Fuente\": \"Organic\", \"Marca\": \"Brand1\", \"Categoria\": \"LAPTOPS\", \"Creado_en\": \"2023-05-14 01:07:37\"}'\n",
      "Producing record: Simulador_Compras\tb'{\"ID_compra\": \"e898d0061e\", \"Nombre_producto\": \"Laptop_Brand3_8GB\", \"Precio\": \"319900\", \"Comision\": \"0.28\", \"Ingresos\": \"89572.0\", \"Metodo_pago\": \"Mercado_Pago\", \"Estado\": \"FONDOS_INSUFICIENTES\", \"Tipo_orden\": \"EN L\\\\u00cdNEA\", \"Ciudad\": \"Posadas\", \"Ubicacion\": \"(-27.362986, -55.907959)\", \"Latitud\": \"-27.36914\", \"Longitud\": \"-55.907959\", \"Fuente\": \"Influencer_4\", \"Marca\": \"Brand3\", \"Categoria\": \"LAPTOPS\", \"Creado_en\": \"2023-05-14 01:07:38\"}'\n",
      "Producing record: Simulador_Compras\tb'{\"ID_compra\": \"9a96fc6282\", \"Nombre_producto\": \"Laptop_Brand1_32GB\", \"Precio\": \"480000\", \"Comision\": \"0.35\", \"Ingresos\": \"168000.0\", \"Metodo_pago\": \"Tarjeta_de_credito\", \"Estado\": \"PAGO_FALLIDO\", \"Tipo_orden\": \"EN L\\\\u00cdNEA\", \"Ciudad\": \"Rosario\", \"Ubicacion\": \"(-32.95775, -60.64178)\", \"Latitud\": \"-32.95775\", \"Longitud\": \"-60.646908\", \"Fuente\": \"Organic\", \"Marca\": \"Brand1\", \"Categoria\": \"GAMING\", \"Creado_en\": \"2023-05-14 01:07:40\"}'\n",
      "Producing record: Simulador_Compras\tb'{\"ID_compra\": \"bb27feb249\", \"Nombre_producto\": \"Laptop_Brand2_4GB\", \"Precio\": \"115000\", \"Comision\": \"0.15\", \"Ingresos\": \"17250.0\", \"Metodo_pago\": \"Tarjeta_de_credito\", \"Estado\": \"FONDOS_INSUFICIENTES\", \"Tipo_orden\": \"EN L\\\\u00cdNEA\", \"Ciudad\": \"Cordoba\", \"Ubicacion\": \"(-31.418623, -64.190728)\", \"Latitud\": \"-31.418623\", \"Longitud\": \"-64.195188\", \"Fuente\": \"Facebook\", \"Marca\": \"Brand2\", \"Categoria\": \"LAPTOPS\", \"Creado_en\": \"2023-05-14 01:07:41\"}'\n",
      "Producing record: Simulador_Compras\tb'{\"ID_compra\": \"dade43405c\", \"Nombre_producto\": \"Console_Xbox\", \"Precio\": \"314000\", \"Comision\": \"0.15\", \"Ingresos\": \"47100.0\", \"Metodo_pago\": \"Mercado_Pago\", \"Estado\": \"FONDOS_INSUFICIENTES\", \"Tipo_orden\": \"EN L\\\\u00cdNEA\", \"Ciudad\": \"Posadas\", \"Ubicacion\": \"(-27.366249, -55.906467)\", \"Latitud\": \"-27.366249\", \"Longitud\": \"-55.906467\", \"Fuente\": \"Influencer_3\", \"Marca\": \"X_Box\", \"Categoria\": \"VIDEO GAMES\", \"Creado_en\": \"2023-05-14 01:07:42\"}'\n",
      "Producing record: Simulador_Compras\tb'{\"ID_compra\": \"ec2a51da0a\", \"Nombre_producto\": \"Laptop_Brand2_4GB\", \"Precio\": \"115000\", \"Comision\": \"0.15\", \"Ingresos\": \"17250.0\", \"Metodo_pago\": \"Mercado_Pago\", \"Estado\": \"FONDOS_INSUFICIENTES\", \"Tipo_orden\": \"EN L\\\\u00cdNEA\", \"Ciudad\": \"Resistencia\", \"Ubicacion\": \"(-27.451214, -58.986389)\", \"Latitud\": \"-27.446658\", \"Longitud\": \"-58.978493\", \"Fuente\": \"Instagram\", \"Marca\": \"Brand2\", \"Categoria\": \"LAPTOPS\", \"Creado_en\": \"2023-05-14 01:07:44\"}'\n",
      "Producing record: Simulador_Compras\tb'{\"ID_compra\": \"457e67342f\", \"Nombre_producto\": \"Console_Switch\", \"Precio\": \"320000\", \"Comision\": \"0.2\", \"Ingresos\": \"64000.0\", \"Metodo_pago\": \"Mercado_Pago\", \"Estado\": \"COMPLETADO\", \"Tipo_orden\": \"EN L\\\\u00cdNEA\", \"Ciudad\": \"Resistencia\", \"Ubicacion\": \"(-27.445978, -58.978493)\", \"Latitud\": \"-27.451214\", \"Longitud\": \"-58.986389\", \"Fuente\": \"Organic\", \"Marca\": \"Nintendo\", \"Categoria\": \"VIDEO GAMES\", \"Creado_en\": \"2023-05-14 01:07:45\"}'\n",
      "Producing record: Simulador_Compras\tb'{\"ID_compra\": \"79343299df\", \"Nombre_producto\": \"Laptop_Brand1_16GB\", \"Precio\": \"350000\", \"Comision\": \"0.3\", \"Ingresos\": \"105000.0\", \"Metodo_pago\": \"Tarjeta_de_credito\", \"Estado\": \"FALLO_RESPUESTA_API\", \"Tipo_orden\": \"EN L\\\\u00cdNEA\", \"Ciudad\": \"Resistencia\", \"Ubicacion\": \"(-27.451214, -58.986389)\", \"Latitud\": \"-27.445978\", \"Longitud\": \"-58.986389\", \"Fuente\": \"Instagram\", \"Marca\": \"Brand1\", \"Categoria\": \"LAPTOPS\", \"Creado_en\": \"2023-05-14 01:07:46\"}'\n",
      "Producing record: Simulador_Compras\tb'{\"ID_compra\": \"46601193ca\", \"Nombre_producto\": \"Console_Xbox\", \"Precio\": \"314000\", \"Comision\": \"0.15\", \"Ingresos\": \"47100.0\", \"Metodo_pago\": \"Mercado_Pago\", \"Estado\": \"COMPLETADO\", \"Tipo_orden\": \"EN L\\\\u00cdNEA\", \"Ciudad\": \"Rosario\", \"Ubicacion\": \"(-32.956032, -60.646908)\", \"Latitud\": \"-32.956032\", \"Longitud\": \"-60.64178\", \"Fuente\": \"Influencer_2\", \"Marca\": \"X_Box\", \"Categoria\": \"VIDEO GAMES\", \"Creado_en\": \"2023-05-14 01:07:48\"}'\n",
      "Producing record: Simulador_Compras\tb'{\"ID_compra\": \"cab30952ce\", \"Nombre_producto\": \"Laptop_Brand3_32GB\", \"Precio\": \"1899900\", \"Comision\": \"0.4\", \"Ingresos\": \"759960.0\", \"Metodo_pago\": \"Tarjeta_de_credito\", \"Estado\": \"FONDOS_INSUFICIENTES\", \"Tipo_orden\": \"EN L\\\\u00cdNEA\", \"Ciudad\": \"Resistencia\", \"Ubicacion\": \"(-27.445978, -58.978493)\", \"Latitud\": \"-27.451214\", \"Longitud\": \"-58.978493\", \"Fuente\": \"Influencer_2\", \"Marca\": \"Brand3\", \"Categoria\": \"GAMING\", \"Creado_en\": \"2023-05-14 01:07:49\"}'\n",
      "Producing record: Simulador_Compras\tb'{\"ID_compra\": \"8a243f292d\", \"Nombre_producto\": \"Console_Xbox\", \"Precio\": \"314000\", \"Comision\": \"0.15\", \"Ingresos\": \"47100.0\", \"Metodo_pago\": \"Mercado_Pago\", \"Estado\": \"ERROR_USUARIO\", \"Tipo_orden\": \"EN L\\\\u00cdNEA\", \"Ciudad\": \"Posadas\", \"Ubicacion\": \"(-27.366249, -55.906467)\", \"Latitud\": \"-27.366249\", \"Longitud\": \"-55.907111\", \"Fuente\": \"Influencer_2\", \"Marca\": \"X_Box\", \"Categoria\": \"VIDEO GAMES\", \"Creado_en\": \"2023-05-14 01:07:50\"}'\n",
      "Producing record: Simulador_Compras\tb'{\"ID_compra\": \"4808018367\", \"Nombre_producto\": \"Console_PS5\", \"Precio\": \"400000\", \"Comision\": \"0.3\", \"Ingresos\": \"120000.0\", \"Metodo_pago\": \"Mercado_Pago\", \"Estado\": \"FONDOS_INSUFICIENTES\", \"Tipo_orden\": \"EN L\\\\u00cdNEA\", \"Ciudad\": \"Posadas\", \"Ubicacion\": \"(-27.36914, -55.907111)\", \"Latitud\": \"-27.366249\", \"Longitud\": \"-55.907959\", \"Fuente\": \"Influencer_2\", \"Marca\": \"PS5\", \"Categoria\": \"VIDEO GAMES\", \"Creado_en\": \"2023-05-14 01:07:51\"}'\n",
      "Producing record: Simulador_Compras\tb'{\"ID_compra\": \"8b4b1cea79\", \"Nombre_producto\": \"Console_Xbox\", \"Precio\": \"314000\", \"Comision\": \"0.15\", \"Ingresos\": \"47100.0\", \"Metodo_pago\": \"Mercado_Pago\", \"Estado\": \"COMPLETADO\", \"Tipo_orden\": \"EN L\\\\u00cdNEA\", \"Ciudad\": \"Rosario\", \"Ubicacion\": \"(-32.95775, -60.64178)\", \"Latitud\": \"-32.947581\", \"Longitud\": \"-60.64169\", \"Fuente\": \"Influencer_2\", \"Marca\": \"X_Box\", \"Categoria\": \"VIDEO GAMES\", \"Creado_en\": \"2023-05-14 01:07:53\"}'\n",
      "Producing record: Simulador_Compras\tb'{\"ID_compra\": \"8eead88f30\", \"Nombre_producto\": \"Laptop_Brand3_8GB\", \"Precio\": \"319900\", \"Comision\": \"0.28\", \"Ingresos\": \"89572.0\", \"Metodo_pago\": \"Mercado_Pago\", \"Estado\": \"PAGO_FALLIDO\", \"Tipo_orden\": \"EN L\\\\u00cdNEA\", \"Ciudad\": \"Capital_Federal\", \"Ubicacion\": \"(-34.603738, -58.375216)\", \"Latitud\": \"-34.606232\", \"Longitud\": \"-58.375216\", \"Fuente\": \"Twitter\", \"Marca\": \"Brand3\", \"Categoria\": \"LAPTOPS\", \"Creado_en\": \"2023-05-14 01:07:54\"}'\n",
      "Producing record: Simulador_Compras\tb'{\"ID_compra\": \"2f7cd58a38\", \"Nombre_producto\": \"Laptop_Brand3_8GB\", \"Precio\": \"319900\", \"Comision\": \"0.28\", \"Ingresos\": \"89572.0\", \"Metodo_pago\": \"Tarjeta_de_credito\", \"Estado\": \"PAGO_FALLIDO\", \"Tipo_orden\": \"EN L\\\\u00cdNEA\", \"Ciudad\": \"Capital_Federal\", \"Ubicacion\": \"(-34.603738, -58.375216)\", \"Latitud\": \"-34.588571\", \"Longitud\": \"-58.409714\", \"Fuente\": \"Influencer_2\", \"Marca\": \"Brand3\", \"Categoria\": \"LAPTOPS\", \"Creado_en\": \"2023-05-14 01:07:56\"}'\n",
      "Producing record: Simulador_Compras\tb'{\"ID_compra\": \"ca784d2f8a\", \"Nombre_producto\": \"Laptop_Brand1_4GB\", \"Precio\": \"135000\", \"Comision\": \"0.2\", \"Ingresos\": \"27000.0\", \"Metodo_pago\": \"Mercado_Pago\", \"Estado\": \"COMPLETADO\", \"Tipo_orden\": \"EN L\\\\u00cdNEA\", \"Ciudad\": \"Posadas\", \"Ubicacion\": \"(-27.36914, -55.907111)\", \"Latitud\": \"-27.36914\", \"Longitud\": \"-55.906467\", \"Fuente\": \"Influencer_3\", \"Marca\": \"Brand1\", \"Categoria\": \"LAPTOPS\", \"Creado_en\": \"2023-05-14 01:07:57\"}'\n",
      "Producing record: Simulador_Compras\tb'{\"ID_compra\": \"f6d71c61d6\", \"Nombre_producto\": \"Laptop_Brand3_8GB\", \"Precio\": \"319900\", \"Comision\": \"0.28\", \"Ingresos\": \"89572.0\", \"Metodo_pago\": \"Tarjeta_de_credito\", \"Estado\": \"COMPLETADO\", \"Tipo_orden\": \"EN L\\\\u00cdNEA\", \"Ciudad\": \"Posadas\", \"Ubicacion\": \"(-27.362986, -55.907959)\", \"Latitud\": \"-27.362986\", \"Longitud\": \"-55.906467\", \"Fuente\": \"Instagram\", \"Marca\": \"Brand3\", \"Categoria\": \"LAPTOPS\", \"Creado_en\": \"2023-05-14 01:07:58\"}'\n",
      "Producing record: Simulador_Compras\tb'{\"ID_compra\": \"ff6d61bdf9\", \"Nombre_producto\": \"Laptop_Brand1_4GB\", \"Precio\": \"135000\", \"Comision\": \"0.2\", \"Ingresos\": \"27000.0\", \"Metodo_pago\": \"Tarjeta_de_credito\", \"Estado\": \"PAGO_FALLIDO\", \"Tipo_orden\": \"EN L\\\\u00cdNEA\", \"Ciudad\": \"Resistencia\", \"Ubicacion\": \"(-27.446658, -58.985378)\", \"Latitud\": \"-27.446658\", \"Longitud\": \"-58.978493\", \"Fuente\": \"Facebook\", \"Marca\": \"Brand1\", \"Categoria\": \"LAPTOPS\", \"Creado_en\": \"2023-05-14 01:08:00\"}'\n",
      "Producing record: Simulador_Compras\tb'{\"ID_compra\": \"1bd007815d\", \"Nombre_producto\": \"Console_PS5\", \"Precio\": \"400000\", \"Comision\": \"0.3\", \"Ingresos\": \"120000.0\", \"Metodo_pago\": \"Tarjeta_de_credito\", \"Estado\": \"COMPLETADO\", \"Tipo_orden\": \"EN L\\\\u00cdNEA\", \"Ciudad\": \"Cordoba\", \"Ubicacion\": \"(-31.436559, -64.183577)\", \"Latitud\": \"-31.436559\", \"Longitud\": \"-64.183577\", \"Fuente\": \"Influencer_3\", \"Marca\": \"PS5\", \"Categoria\": \"VIDEO GAMES\", \"Creado_en\": \"2023-05-14 01:08:01\"}'\n",
      "Producing record: Simulador_Compras\tb'{\"ID_compra\": \"9612215e4e\", \"Nombre_producto\": \"Laptop_Brand2_4GB\", \"Precio\": \"115000\", \"Comision\": \"0.15\", \"Ingresos\": \"17250.0\", \"Metodo_pago\": \"Tarjeta_de_credito\", \"Estado\": \"COMPLETADO\", \"Tipo_orden\": \"EN L\\\\u00cdNEA\", \"Ciudad\": \"Rosario\", \"Ubicacion\": \"(-32.956032, -60.646908)\", \"Latitud\": \"-32.95775\", \"Longitud\": \"-60.646908\", \"Fuente\": \"Organic\", \"Marca\": \"Brand2\", \"Categoria\": \"LAPTOPS\", \"Creado_en\": \"2023-05-14 01:08:02\"}'\n",
      "Producing record: Simulador_Compras\tb'{\"ID_compra\": \"7cb66e4997\", \"Nombre_producto\": \"Laptop_Brand3_8GB\", \"Precio\": \"319900\", \"Comision\": \"0.28\", \"Ingresos\": \"89572.0\", \"Metodo_pago\": \"Tarjeta_de_credito\", \"Estado\": \"FRAUDE\", \"Tipo_orden\": \"EN L\\\\u00cdNEA\", \"Ciudad\": \"Cordoba\", \"Ubicacion\": \"(-31.436559, -64.183577)\", \"Latitud\": \"-31.418623\", \"Longitud\": \"-64.195188\", \"Fuente\": \"Influencer_3\", \"Marca\": \"Brand3\", \"Categoria\": \"LAPTOPS\", \"Creado_en\": \"2023-05-14 01:08:03\"}'\n",
      "Producing record: Simulador_Compras\tb'{\"ID_compra\": \"46fcbfbeb1\", \"Nombre_producto\": \"Laptop_Brand1_16GB\", \"Precio\": \"350000\", \"Comision\": \"0.3\", \"Ingresos\": \"105000.0\", \"Metodo_pago\": \"Mercado_Pago\", \"Estado\": \"ERROR_USUARIO\", \"Tipo_orden\": \"EN L\\\\u00cdNEA\", \"Ciudad\": \"Capital_Federal\", \"Ubicacion\": \"(-34.603738, -58.375216)\", \"Latitud\": \"-34.603738\", \"Longitud\": \"-58.409714\", \"Fuente\": \"Facebook\", \"Marca\": \"Brand1\", \"Categoria\": \"LAPTOPS\", \"Creado_en\": \"2023-05-14 01:08:05\"}'\n",
      "Producing record: Simulador_Compras\tb'{\"ID_compra\": \"e1ac99fefb\", \"Nombre_producto\": \"Laptop_Brand2_32GB\", \"Precio\": \"699000\", \"Comision\": \"0.25\", \"Ingresos\": \"174750.0\", \"Metodo_pago\": \"Mercado_Pago\", \"Estado\": \"COMPLETADO\", \"Tipo_orden\": \"EN L\\\\u00cdNEA\", \"Ciudad\": \"Posadas\", \"Ubicacion\": \"(-27.366249, -55.906467)\", \"Latitud\": \"-27.362986\", \"Longitud\": \"-55.906467\", \"Fuente\": \"Twitter\", \"Marca\": \"Brand2\", \"Categoria\": \"GAMING\", \"Creado_en\": \"2023-05-14 01:08:07\"}'\n",
      "Producing record: Simulador_Compras\tb'{\"ID_compra\": \"660d326dbf\", \"Nombre_producto\": \"Laptop_Brand2_8GB\", \"Precio\": \"185000\", \"Comision\": \"0.18\", \"Ingresos\": \"33300.0\", \"Metodo_pago\": \"Tarjeta_de_credito\", \"Estado\": \"FONDOS_INSUFICIENTES\", \"Tipo_orden\": \"EN L\\\\u00cdNEA\", \"Ciudad\": \"Posadas\", \"Ubicacion\": \"(-27.366249, -55.906467)\", \"Latitud\": \"-27.362986\", \"Longitud\": \"-55.907111\", \"Fuente\": \"Twitter\", \"Marca\": \"Brand2\", \"Categoria\": \"LAPTOPS\", \"Creado_en\": \"2023-05-14 01:08:08\"}'\n",
      "Producing record: Simulador_Compras\tb'{\"ID_compra\": \"c4e92e6874\", \"Nombre_producto\": \"Laptop_Brand1_32GB\", \"Precio\": \"480000\", \"Comision\": \"0.35\", \"Ingresos\": \"168000.0\", \"Metodo_pago\": \"Mercado_Pago\", \"Estado\": \"FALLO_RESPUESTA_API\", \"Tipo_orden\": \"EN L\\\\u00cdNEA\", \"Ciudad\": \"Resistencia\", \"Ubicacion\": \"(-27.446658, -58.985378)\", \"Latitud\": \"-27.445978\", \"Longitud\": \"-58.986389\", \"Fuente\": \"Influencer_1\", \"Marca\": \"Brand1\", \"Categoria\": \"GAMING\", \"Creado_en\": \"2023-05-14 01:08:10\"}'\n",
      "Producing record: Simulador_Compras\tb'{\"ID_compra\": \"92ea1b6bce\", \"Nombre_producto\": \"Laptop_Brand2_32GB\", \"Precio\": \"699000\", \"Comision\": \"0.25\", \"Ingresos\": \"174750.0\", \"Metodo_pago\": \"Tarjeta_de_credito\", \"Estado\": \"ERROR_USUARIO\", \"Tipo_orden\": \"EN L\\\\u00cdNEA\", \"Ciudad\": \"Posadas\", \"Ubicacion\": \"(-27.362986, -55.907959)\", \"Latitud\": \"-27.366249\", \"Longitud\": \"-55.907959\", \"Fuente\": \"Influencer_2\", \"Marca\": \"Brand2\", \"Categoria\": \"GAMING\", \"Creado_en\": \"2023-05-14 01:08:11\"}'\n",
      "Producing record: Simulador_Compras\tb'{\"ID_compra\": \"ab413284b3\", \"Nombre_producto\": \"Laptop_Brand1_8GB\", \"Precio\": \"255000\", \"Comision\": \"0.25\", \"Ingresos\": \"63750.0\", \"Metodo_pago\": \"Tarjeta_de_credito\", \"Estado\": \"COMPLETADO\", \"Tipo_orden\": \"EN L\\\\u00cdNEA\", \"Ciudad\": \"Posadas\", \"Ubicacion\": \"(-27.36914, -55.907111)\", \"Latitud\": \"-27.36914\", \"Longitud\": \"-55.906467\", \"Fuente\": \"Influencer_1\", \"Marca\": \"Brand1\", \"Categoria\": \"LAPTOPS\", \"Creado_en\": \"2023-05-14 01:08:12\"}'\n",
      "Producing record: Simulador_Compras\tb'{\"ID_compra\": \"2f1f73194c\", \"Nombre_producto\": \"Laptop_Brand2_4GB\", \"Precio\": \"115000\", \"Comision\": \"0.15\", \"Ingresos\": \"17250.0\", \"Metodo_pago\": \"Tarjeta_de_credito\", \"Estado\": \"FRAUDE\", \"Tipo_orden\": \"EN L\\\\u00cdNEA\", \"Ciudad\": \"Resistencia\", \"Ubicacion\": \"(-27.451214, -58.986389)\", \"Latitud\": \"-27.451214\", \"Longitud\": \"-58.986389\", \"Fuente\": \"Influencer_1\", \"Marca\": \"Brand2\", \"Categoria\": \"LAPTOPS\", \"Creado_en\": \"2023-05-14 01:08:13\"}'\n",
      "Producing record: Simulador_Compras\tb'{\"ID_compra\": \"432f8c2423\", \"Nombre_producto\": \"Console_PS5\", \"Precio\": \"400000\", \"Comision\": \"0.3\", \"Ingresos\": \"120000.0\", \"Metodo_pago\": \"Mercado_Pago\", \"Estado\": \"ERROR_USUARIO\", \"Tipo_orden\": \"EN L\\\\u00cdNEA\", \"Ciudad\": \"Posadas\", \"Ubicacion\": \"(-27.36914, -55.907111)\", \"Latitud\": \"-27.366249\", \"Longitud\": \"-55.907959\", \"Fuente\": \"Influencer_1\", \"Marca\": \"PS5\", \"Categoria\": \"VIDEO GAMES\", \"Creado_en\": \"2023-05-14 01:08:15\"}'\n",
      "Producing record: Simulador_Compras\tb'{\"ID_compra\": \"0c228431a9\", \"Nombre_producto\": \"Laptop_Brand3_4GB\", \"Precio\": \"185000\", \"Comision\": \"0.2\", \"Ingresos\": \"37000.0\", \"Metodo_pago\": \"Mercado_Pago\", \"Estado\": \"FALLO_RESPUESTA_API\", \"Tipo_orden\": \"EN L\\\\u00cdNEA\", \"Ciudad\": \"Capital_Federal\", \"Ubicacion\": \"(-34.603738, -58.375216)\", \"Latitud\": \"-34.603738\", \"Longitud\": \"-58.411379\", \"Fuente\": \"Influencer_3\", \"Marca\": \"Brand3\", \"Categoria\": \"LAPTOPS\", \"Creado_en\": \"2023-05-14 01:08:16\"}'\n",
      "Producing record: Simulador_Compras\tb'{\"ID_compra\": \"8f69c6b12b\", \"Nombre_producto\": \"Console_Xbox\", \"Precio\": \"314000\", \"Comision\": \"0.15\", \"Ingresos\": \"47100.0\", \"Metodo_pago\": \"Mercado_Pago\", \"Estado\": \"COMPLETADO\", \"Tipo_orden\": \"EN L\\\\u00cdNEA\", \"Ciudad\": \"Rosario\", \"Ubicacion\": \"(-32.956032, -60.646908)\", \"Latitud\": \"-32.947581\", \"Longitud\": \"-60.646908\", \"Fuente\": \"Influencer_2\", \"Marca\": \"X_Box\", \"Categoria\": \"VIDEO GAMES\", \"Creado_en\": \"2023-05-14 01:08:17\"}'\n",
      "Producing record: Simulador_Compras\tb'{\"ID_compra\": \"ff0ffa279e\", \"Nombre_producto\": \"Laptop_Brand3_32GB\", \"Precio\": \"1899900\", \"Comision\": \"0.4\", \"Ingresos\": \"759960.0\", \"Metodo_pago\": \"Mercado_Pago\", \"Estado\": \"COMPLETADO\", \"Tipo_orden\": \"EN L\\\\u00cdNEA\", \"Ciudad\": \"Capital_Federal\", \"Ubicacion\": \"(-34.603738, -58.375216)\", \"Latitud\": \"-34.588571\", \"Longitud\": \"-58.411379\", \"Fuente\": \"Influencer_1\", \"Marca\": \"Brand3\", \"Categoria\": \"GAMING\", \"Creado_en\": \"2023-05-14 01:08:19\"}'\n",
      "Producing record: Simulador_Compras\tb'{\"ID_compra\": \"6ca9c33301\", \"Nombre_producto\": \"Console_Xbox\", \"Precio\": \"314000\", \"Comision\": \"0.15\", \"Ingresos\": \"47100.0\", \"Metodo_pago\": \"Tarjeta_de_credito\", \"Estado\": \"COMPLETADO\", \"Tipo_orden\": \"EN L\\\\u00cdNEA\", \"Ciudad\": \"Capital_Federal\", \"Ubicacion\": \"(-34.606232, -58.409714)\", \"Latitud\": \"-34.606232\", \"Longitud\": \"-58.411379\", \"Fuente\": \"Influencer_1\", \"Marca\": \"X_Box\", \"Categoria\": \"VIDEO GAMES\", \"Creado_en\": \"2023-05-14 01:08:20\"}'\n",
      "Producing record: Simulador_Compras\tb'{\"ID_compra\": \"ca4bf08fdb\", \"Nombre_producto\": \"Laptop_Brand2_8GB\", \"Precio\": \"185000\", \"Comision\": \"0.18\", \"Ingresos\": \"33300.0\", \"Metodo_pago\": \"Tarjeta_de_credito\", \"Estado\": \"COMPLETADO\", \"Tipo_orden\": \"EN L\\\\u00cdNEA\", \"Ciudad\": \"Cordoba\", \"Ubicacion\": \"(-31.405747, -64.195188)\", \"Latitud\": \"-31.405747\", \"Longitud\": \"-64.183577\", \"Fuente\": \"Instagram\", \"Marca\": \"Brand2\", \"Categoria\": \"LAPTOPS\", \"Creado_en\": \"2023-05-14 01:08:21\"}'\n",
      "Producing record: Simulador_Compras\tb'{\"ID_compra\": \"29c8f98ea1\", \"Nombre_producto\": \"Laptop_Brand3_16GB\", \"Precio\": \"465900\", \"Comision\": \"0.3\", \"Ingresos\": \"139770.0\", \"Metodo_pago\": \"Mercado_Pago\", \"Estado\": \"FONDOS_INSUFICIENTES\", \"Tipo_orden\": \"EN L\\\\u00cdNEA\", \"Ciudad\": \"Posadas\", \"Ubicacion\": \"(-27.366249, -55.906467)\", \"Latitud\": \"-27.362986\", \"Longitud\": \"-55.906467\", \"Fuente\": \"Influencer_4\", \"Marca\": \"Brand3\", \"Categoria\": \"LAPTOPS\", \"Creado_en\": \"2023-05-14 01:08:22\"}'\n",
      "Producing record: Simulador_Compras\tb'{\"ID_compra\": \"e661c6c125\", \"Nombre_producto\": \"Laptop_Brand1_16GB\", \"Precio\": \"350000\", \"Comision\": \"0.3\", \"Ingresos\": \"105000.0\", \"Metodo_pago\": \"Tarjeta_de_credito\", \"Estado\": \"FALLO_RESPUESTA_API\", \"Tipo_orden\": \"EN L\\\\u00cdNEA\", \"Ciudad\": \"Capital_Federal\", \"Ubicacion\": \"(-34.606232, -58.409714)\", \"Latitud\": \"-34.603738\", \"Longitud\": \"-58.409714\", \"Fuente\": \"Influencer_4\", \"Marca\": \"Brand1\", \"Categoria\": \"LAPTOPS\", \"Creado_en\": \"2023-05-14 01:08:23\"}'\n",
      "Producing record: Simulador_Compras\tb'{\"ID_compra\": \"80c31d17e3\", \"Nombre_producto\": \"Laptop_Brand3_8GB\", \"Precio\": \"319900\", \"Comision\": \"0.28\", \"Ingresos\": \"89572.0\", \"Metodo_pago\": \"Mercado_Pago\", \"Estado\": \"COMPLETADO\", \"Tipo_orden\": \"EN L\\\\u00cdNEA\", \"Ciudad\": \"Capital_Federal\", \"Ubicacion\": \"(-34.606232, -58.409714)\", \"Latitud\": \"-34.606232\", \"Longitud\": \"-58.375216\", \"Fuente\": \"Influencer_4\", \"Marca\": \"Brand3\", \"Categoria\": \"LAPTOPS\", \"Creado_en\": \"2023-05-14 01:08:25\"}'\n",
      "Producing record: Simulador_Compras\tb'{\"ID_compra\": \"b6b298797d\", \"Nombre_producto\": \"Console_Switch\", \"Precio\": \"320000\", \"Comision\": \"0.2\", \"Ingresos\": \"64000.0\", \"Metodo_pago\": \"Tarjeta_de_credito\", \"Estado\": \"ERROR_USUARIO\", \"Tipo_orden\": \"EN L\\\\u00cdNEA\", \"Ciudad\": \"Resistencia\", \"Ubicacion\": \"(-27.446658, -58.985378)\", \"Latitud\": \"-27.446658\", \"Longitud\": \"-58.986389\", \"Fuente\": \"Influencer_1\", \"Marca\": \"Nintendo\", \"Categoria\": \"VIDEO GAMES\", \"Creado_en\": \"2023-05-14 01:08:26\"}'\n",
      "Producing record: Simulador_Compras\tb'{\"ID_compra\": \"dda4931870\", \"Nombre_producto\": \"Laptop_Brand2_4GB\", \"Precio\": \"115000\", \"Comision\": \"0.15\", \"Ingresos\": \"17250.0\", \"Metodo_pago\": \"Mercado_Pago\", \"Estado\": \"FALLO_RESPUESTA_API\", \"Tipo_orden\": \"EN L\\\\u00cdNEA\", \"Ciudad\": \"Capital_Federal\", \"Ubicacion\": \"(-34.603738, -58.375216)\", \"Latitud\": \"-34.603738\", \"Longitud\": \"-58.411379\", \"Fuente\": \"Organic\", \"Marca\": \"Brand2\", \"Categoria\": \"LAPTOPS\", \"Creado_en\": \"2023-05-14 01:08:28\"}'\n",
      "Producing record: Simulador_Compras\tb'{\"ID_compra\": \"ec79b88b25\", \"Nombre_producto\": \"Laptop_Brand3_8GB\", \"Precio\": \"319900\", \"Comision\": \"0.28\", \"Ingresos\": \"89572.0\", \"Metodo_pago\": \"Tarjeta_de_credito\", \"Estado\": \"COMPLETADO\", \"Tipo_orden\": \"EN L\\\\u00cdNEA\", \"Ciudad\": \"Rosario\", \"Ubicacion\": \"(-32.947581, -60.64169)\", \"Latitud\": \"-32.956032\", \"Longitud\": \"-60.646908\", \"Fuente\": \"Twitter\", \"Marca\": \"Brand3\", \"Categoria\": \"LAPTOPS\", \"Creado_en\": \"2023-05-14 01:08:29\"}'\n",
      "Producing record: Simulador_Compras\tb'{\"ID_compra\": \"69594f4d07\", \"Nombre_producto\": \"Laptop_Brand1_32GB\", \"Precio\": \"480000\", \"Comision\": \"0.35\", \"Ingresos\": \"168000.0\", \"Metodo_pago\": \"Mercado_Pago\", \"Estado\": \"PAGO_FALLIDO\", \"Tipo_orden\": \"EN L\\\\u00cdNEA\", \"Ciudad\": \"Rosario\", \"Ubicacion\": \"(-32.95775, -60.64178)\", \"Latitud\": \"-32.95775\", \"Longitud\": \"-60.646908\", \"Fuente\": \"Influencer_2\", \"Marca\": \"Brand1\", \"Categoria\": \"GAMING\", \"Creado_en\": \"2023-05-14 01:08:30\"}'\n",
      "Producing record: Simulador_Compras\tb'{\"ID_compra\": \"59cc958c89\", \"Nombre_producto\": \"Laptop_Brand2_8GB\", \"Precio\": \"185000\", \"Comision\": \"0.18\", \"Ingresos\": \"33300.0\", \"Metodo_pago\": \"Mercado_Pago\", \"Estado\": \"FALLO_RESPUESTA_API\", \"Tipo_orden\": \"EN L\\\\u00cdNEA\", \"Ciudad\": \"Posadas\", \"Ubicacion\": \"(-27.362986, -55.907959)\", \"Latitud\": \"-27.362986\", \"Longitud\": \"-55.907959\", \"Fuente\": \"Instagram\", \"Marca\": \"Brand2\", \"Categoria\": \"LAPTOPS\", \"Creado_en\": \"2023-05-14 01:08:31\"}'\n",
      "Producing record: Simulador_Compras\tb'{\"ID_compra\": \"d0e0f7ae22\", \"Nombre_producto\": \"Laptop_Brand1_16GB\", \"Precio\": \"350000\", \"Comision\": \"0.3\", \"Ingresos\": \"105000.0\", \"Metodo_pago\": \"Mercado_Pago\", \"Estado\": \"COMPLETADO\", \"Tipo_orden\": \"EN L\\\\u00cdNEA\", \"Ciudad\": \"Posadas\", \"Ubicacion\": \"(-27.36914, -55.907111)\", \"Latitud\": \"-27.366249\", \"Longitud\": \"-55.906467\", \"Fuente\": \"Facebook\", \"Marca\": \"Brand1\", \"Categoria\": \"LAPTOPS\", \"Creado_en\": \"2023-05-14 01:08:32\"}'\n",
      "Producing record: Simulador_Compras\tb'{\"ID_compra\": \"0527a3a2a1\", \"Nombre_producto\": \"Laptop_Brand3_16GB\", \"Precio\": \"465900\", \"Comision\": \"0.3\", \"Ingresos\": \"139770.0\", \"Metodo_pago\": \"Mercado_Pago\", \"Estado\": \"COMPLETADO\", \"Tipo_orden\": \"EN L\\\\u00cdNEA\", \"Ciudad\": \"Posadas\", \"Ubicacion\": \"(-27.366249, -55.906467)\", \"Latitud\": \"-27.36914\", \"Longitud\": \"-55.907959\", \"Fuente\": \"Influencer_3\", \"Marca\": \"Brand3\", \"Categoria\": \"LAPTOPS\", \"Creado_en\": \"2023-05-14 01:08:33\"}'\n",
      "Producing record: Simulador_Compras\tb'{\"ID_compra\": \"ed78764f57\", \"Nombre_producto\": \"Laptop_Brand3_32GB\", \"Precio\": \"1899900\", \"Comision\": \"0.4\", \"Ingresos\": \"759960.0\", \"Metodo_pago\": \"Tarjeta_de_credito\", \"Estado\": \"COMPLETADO\", \"Tipo_orden\": \"EN L\\\\u00cdNEA\", \"Ciudad\": \"Rosario\", \"Ubicacion\": \"(-32.947581, -60.64169)\", \"Latitud\": \"-32.95775\", \"Longitud\": \"-60.64178\", \"Fuente\": \"Influencer_2\", \"Marca\": \"Brand3\", \"Categoria\": \"GAMING\", \"Creado_en\": \"2023-05-14 01:08:35\"}'\n",
      "Producing record: Simulador_Compras\tb'{\"ID_compra\": \"a09a84296f\", \"Nombre_producto\": \"Laptop_Brand1_8GB\", \"Precio\": \"255000\", \"Comision\": \"0.25\", \"Ingresos\": \"63750.0\", \"Metodo_pago\": \"Mercado_Pago\", \"Estado\": \"COMPLETADO\", \"Tipo_orden\": \"EN L\\\\u00cdNEA\", \"Ciudad\": \"Capital_Federal\", \"Ubicacion\": \"(-34.603738, -58.375216)\", \"Latitud\": \"-34.588571\", \"Longitud\": \"-58.375216\", \"Fuente\": \"Organic\", \"Marca\": \"Brand1\", \"Categoria\": \"LAPTOPS\", \"Creado_en\": \"2023-05-14 01:08:36\"}'\n",
      "Producing record: Simulador_Compras\tb'{\"ID_compra\": \"a10ae5a471\", \"Nombre_producto\": \"Laptop_Brand1_4GB\", \"Precio\": \"135000\", \"Comision\": \"0.2\", \"Ingresos\": \"27000.0\", \"Metodo_pago\": \"Tarjeta_de_credito\", \"Estado\": \"FONDOS_INSUFICIENTES\", \"Tipo_orden\": \"EN L\\\\u00cdNEA\", \"Ciudad\": \"Cordoba\", \"Ubicacion\": \"(-31.436559, -64.183577)\", \"Latitud\": \"-31.418623\", \"Longitud\": \"-64.183577\", \"Fuente\": \"Influencer_2\", \"Marca\": \"Brand1\", \"Categoria\": \"LAPTOPS\", \"Creado_en\": \"2023-05-14 01:08:37\"}'\n",
      "Producing record: Simulador_Compras\tb'{\"ID_compra\": \"40cdd53ea2\", \"Nombre_producto\": \"Console_Xbox\", \"Precio\": \"314000\", \"Comision\": \"0.15\", \"Ingresos\": \"47100.0\", \"Metodo_pago\": \"Mercado_Pago\", \"Estado\": \"FONDOS_INSUFICIENTES\", \"Tipo_orden\": \"EN L\\\\u00cdNEA\", \"Ciudad\": \"Resistencia\", \"Ubicacion\": \"(-27.445978, -58.978493)\", \"Latitud\": \"-27.451214\", \"Longitud\": \"-58.985378\", \"Fuente\": \"Instagram\", \"Marca\": \"X_Box\", \"Categoria\": \"VIDEO GAMES\", \"Creado_en\": \"2023-05-14 01:08:39\"}'\n",
      "Producing record: Simulador_Compras\tb'{\"ID_compra\": \"f12115ec58\", \"Nombre_producto\": \"Laptop_Brand1_4GB\", \"Precio\": \"135000\", \"Comision\": \"0.2\", \"Ingresos\": \"27000.0\", \"Metodo_pago\": \"Tarjeta_de_credito\", \"Estado\": \"PAGO_FALLIDO\", \"Tipo_orden\": \"EN L\\\\u00cdNEA\", \"Ciudad\": \"Resistencia\", \"Ubicacion\": \"(-27.446658, -58.985378)\", \"Latitud\": \"-27.451214\", \"Longitud\": \"-58.978493\", \"Fuente\": \"Twitter\", \"Marca\": \"Brand1\", \"Categoria\": \"LAPTOPS\", \"Creado_en\": \"2023-05-14 01:08:40\"}'\n",
      "Producing record: Simulador_Compras\tb'{\"ID_compra\": \"f801fea28d\", \"Nombre_producto\": \"Laptop_Brand1_32GB\", \"Precio\": \"480000\", \"Comision\": \"0.35\", \"Ingresos\": \"168000.0\", \"Metodo_pago\": \"Tarjeta_de_credito\", \"Estado\": \"COMPLETADO\", \"Tipo_orden\": \"EN L\\\\u00cdNEA\", \"Ciudad\": \"Posadas\", \"Ubicacion\": \"(-27.362986, -55.907959)\", \"Latitud\": \"-27.36914\", \"Longitud\": \"-55.907111\", \"Fuente\": \"Influencer_2\", \"Marca\": \"Brand1\", \"Categoria\": \"GAMING\", \"Creado_en\": \"2023-05-14 01:08:41\"}'\n",
      "Producing record: Simulador_Compras\tb'{\"ID_compra\": \"f84e865ff3\", \"Nombre_producto\": \"Laptop_Brand1_32GB\", \"Precio\": \"480000\", \"Comision\": \"0.35\", \"Ingresos\": \"168000.0\", \"Metodo_pago\": \"Mercado_Pago\", \"Estado\": \"COMPLETADO\", \"Tipo_orden\": \"EN L\\\\u00cdNEA\", \"Ciudad\": \"Resistencia\", \"Ubicacion\": \"(-27.446658, -58.985378)\", \"Latitud\": \"-27.451214\", \"Longitud\": \"-58.978493\", \"Fuente\": \"Instagram\", \"Marca\": \"Brand1\", \"Categoria\": \"GAMING\", \"Creado_en\": \"2023-05-14 01:08:43\"}'\n",
      "Producing record: Simulador_Compras\tb'{\"ID_compra\": \"d13f09415c\", \"Nombre_producto\": \"Laptop_Brand1_32GB\", \"Precio\": \"480000\", \"Comision\": \"0.35\", \"Ingresos\": \"168000.0\", \"Metodo_pago\": \"Tarjeta_de_credito\", \"Estado\": \"FRAUDE\", \"Tipo_orden\": \"EN L\\\\u00cdNEA\", \"Ciudad\": \"Capital_Federal\", \"Ubicacion\": \"(-34.606232, -58.409714)\", \"Latitud\": \"-34.588571\", \"Longitud\": \"-58.411379\", \"Fuente\": \"Instagram\", \"Marca\": \"Brand1\", \"Categoria\": \"GAMING\", \"Creado_en\": \"2023-05-14 01:08:44\"}'\n",
      "Producing record: Simulador_Compras\tb'{\"ID_compra\": \"114179a5e2\", \"Nombre_producto\": \"Laptop_Brand2_8GB\", \"Precio\": \"185000\", \"Comision\": \"0.18\", \"Ingresos\": \"33300.0\", \"Metodo_pago\": \"Tarjeta_de_credito\", \"Estado\": \"PAGO_FALLIDO\", \"Tipo_orden\": \"EN L\\\\u00cdNEA\", \"Ciudad\": \"Posadas\", \"Ubicacion\": \"(-27.362986, -55.907959)\", \"Latitud\": \"-27.366249\", \"Longitud\": \"-55.907111\", \"Fuente\": \"Organic\", \"Marca\": \"Brand2\", \"Categoria\": \"LAPTOPS\", \"Creado_en\": \"2023-05-14 01:08:45\"}'\n",
      "Producing record: Simulador_Compras\tb'{\"ID_compra\": \"5f051be17c\", \"Nombre_producto\": \"Laptop_Brand3_32GB\", \"Precio\": \"1899900\", \"Comision\": \"0.4\", \"Ingresos\": \"759960.0\", \"Metodo_pago\": \"Mercado_Pago\", \"Estado\": \"COMPLETADO\", \"Tipo_orden\": \"EN L\\\\u00cdNEA\", \"Ciudad\": \"Capital_Federal\", \"Ubicacion\": \"(-34.603738, -58.375216)\", \"Latitud\": \"-34.603738\", \"Longitud\": \"-58.375216\", \"Fuente\": \"Influencer_4\", \"Marca\": \"Brand3\", \"Categoria\": \"GAMING\", \"Creado_en\": \"2023-05-14 01:08:46\"}'\n",
      "Producing record: Simulador_Compras\tb'{\"ID_compra\": \"0bf53c4172\", \"Nombre_producto\": \"Laptop_Brand2_4GB\", \"Precio\": \"115000\", \"Comision\": \"0.15\", \"Ingresos\": \"17250.0\", \"Metodo_pago\": \"Mercado_Pago\", \"Estado\": \"ERROR_USUARIO\", \"Tipo_orden\": \"EN L\\\\u00cdNEA\", \"Ciudad\": \"Resistencia\", \"Ubicacion\": \"(-27.451214, -58.986389)\", \"Latitud\": \"-27.445978\", \"Longitud\": \"-58.985378\", \"Fuente\": \"Influencer_4\", \"Marca\": \"Brand2\", \"Categoria\": \"LAPTOPS\", \"Creado_en\": \"2023-05-14 01:08:48\"}'\n",
      "Producing record: Simulador_Compras\tb'{\"ID_compra\": \"d28e17b25e\", \"Nombre_producto\": \"Laptop_Brand1_4GB\", \"Precio\": \"135000\", \"Comision\": \"0.2\", \"Ingresos\": \"27000.0\", \"Metodo_pago\": \"Tarjeta_de_credito\", \"Estado\": \"FALLO_RESPUESTA_API\", \"Tipo_orden\": \"EN L\\\\u00cdNEA\", \"Ciudad\": \"Resistencia\", \"Ubicacion\": \"(-27.446658, -58.985378)\", \"Latitud\": \"-27.446658\", \"Longitud\": \"-58.986389\", \"Fuente\": \"Influencer_3\", \"Marca\": \"Brand1\", \"Categoria\": \"LAPTOPS\", \"Creado_en\": \"2023-05-14 01:08:49\"}'\n",
      "Producing record: Simulador_Compras\tb'{\"ID_compra\": \"ebc800215c\", \"Nombre_producto\": \"Laptop_Brand1_8GB\", \"Precio\": \"255000\", \"Comision\": \"0.25\", \"Ingresos\": \"63750.0\", \"Metodo_pago\": \"Tarjeta_de_credito\", \"Estado\": \"COMPLETADO\", \"Tipo_orden\": \"EN L\\\\u00cdNEA\", \"Ciudad\": \"Resistencia\", \"Ubicacion\": \"(-27.451214, -58.986389)\", \"Latitud\": \"-27.446658\", \"Longitud\": \"-58.978493\", \"Fuente\": \"Facebook\", \"Marca\": \"Brand1\", \"Categoria\": \"LAPTOPS\", \"Creado_en\": \"2023-05-14 01:08:50\"}'\n",
      "Producing record: Simulador_Compras\tb'{\"ID_compra\": \"8cd95e2260\", \"Nombre_producto\": \"Laptop_Brand2_8GB\", \"Precio\": \"185000\", \"Comision\": \"0.18\", \"Ingresos\": \"33300.0\", \"Metodo_pago\": \"Tarjeta_de_credito\", \"Estado\": \"FRAUDE\", \"Tipo_orden\": \"EN L\\\\u00cdNEA\", \"Ciudad\": \"Rosario\", \"Ubicacion\": \"(-32.947581, -60.64169)\", \"Latitud\": \"-32.956032\", \"Longitud\": \"-60.646908\", \"Fuente\": \"Influencer_2\", \"Marca\": \"Brand2\", \"Categoria\": \"LAPTOPS\", \"Creado_en\": \"2023-05-14 01:08:51\"}'\n",
      "Producing record: Simulador_Compras\tb'{\"ID_compra\": \"3cfdfdb288\", \"Nombre_producto\": \"Laptop_Brand3_8GB\", \"Precio\": \"319900\", \"Comision\": \"0.28\", \"Ingresos\": \"89572.0\", \"Metodo_pago\": \"Tarjeta_de_credito\", \"Estado\": \"COMPLETADO\", \"Tipo_orden\": \"EN L\\\\u00cdNEA\", \"Ciudad\": \"Capital_Federal\", \"Ubicacion\": \"(-34.606232, -58.409714)\", \"Latitud\": \"-34.588571\", \"Longitud\": \"-58.375216\", \"Fuente\": \"Influencer_4\", \"Marca\": \"Brand3\", \"Categoria\": \"LAPTOPS\", \"Creado_en\": \"2023-05-14 01:08:53\"}'\n",
      "Producing record: Simulador_Compras\tb'{\"ID_compra\": \"96d013ce63\", \"Nombre_producto\": \"Laptop_Brand3_16GB\", \"Precio\": \"465900\", \"Comision\": \"0.3\", \"Ingresos\": \"139770.0\", \"Metodo_pago\": \"Mercado_Pago\", \"Estado\": \"ERROR_USUARIO\", \"Tipo_orden\": \"EN L\\\\u00cdNEA\", \"Ciudad\": \"Resistencia\", \"Ubicacion\": \"(-27.445978, -58.978493)\", \"Latitud\": \"-27.445978\", \"Longitud\": \"-58.985378\", \"Fuente\": \"Influencer_2\", \"Marca\": \"Brand3\", \"Categoria\": \"LAPTOPS\", \"Creado_en\": \"2023-05-14 01:08:54\"}'\n",
      "Producing record: Simulador_Compras\tb'{\"ID_compra\": \"ac2ddf1a13\", \"Nombre_producto\": \"Laptop_Brand1_8GB\", \"Precio\": \"255000\", \"Comision\": \"0.25\", \"Ingresos\": \"63750.0\", \"Metodo_pago\": \"Tarjeta_de_credito\", \"Estado\": \"FONDOS_INSUFICIENTES\", \"Tipo_orden\": \"EN L\\\\u00cdNEA\", \"Ciudad\": \"Resistencia\", \"Ubicacion\": \"(-27.446658, -58.985378)\", \"Latitud\": \"-27.451214\", \"Longitud\": \"-58.985378\", \"Fuente\": \"Influencer_3\", \"Marca\": \"Brand1\", \"Categoria\": \"LAPTOPS\", \"Creado_en\": \"2023-05-14 01:08:55\"}'\n",
      "Producing record: Simulador_Compras\tb'{\"ID_compra\": \"c4f2eac8c2\", \"Nombre_producto\": \"Laptop_Brand1_32GB\", \"Precio\": \"480000\", \"Comision\": \"0.35\", \"Ingresos\": \"168000.0\", \"Metodo_pago\": \"Mercado_Pago\", \"Estado\": \"COMPLETADO\", \"Tipo_orden\": \"EN L\\\\u00cdNEA\", \"Ciudad\": \"Cordoba\", \"Ubicacion\": \"(-31.418623, -64.190728)\", \"Latitud\": \"-31.436559\", \"Longitud\": \"-64.190728\", \"Fuente\": \"Twitter\", \"Marca\": \"Brand1\", \"Categoria\": \"GAMING\", \"Creado_en\": \"2023-05-14 01:08:57\"}'\n",
      "Producing record: Simulador_Compras\tb'{\"ID_compra\": \"dcbc77d87d\", \"Nombre_producto\": \"Laptop_Brand3_16GB\", \"Precio\": \"465900\", \"Comision\": \"0.3\", \"Ingresos\": \"139770.0\", \"Metodo_pago\": \"Mercado_Pago\", \"Estado\": \"FONDOS_INSUFICIENTES\", \"Tipo_orden\": \"EN L\\\\u00cdNEA\", \"Ciudad\": \"Posadas\", \"Ubicacion\": \"(-27.36914, -55.907111)\", \"Latitud\": \"-27.362986\", \"Longitud\": \"-55.907959\", \"Fuente\": \"Influencer_3\", \"Marca\": \"Brand3\", \"Categoria\": \"LAPTOPS\", \"Creado_en\": \"2023-05-14 01:08:58\"}'\n",
      "Producing record: Simulador_Compras\tb'{\"ID_compra\": \"26c2c7ce00\", \"Nombre_producto\": \"Laptop_Brand1_16GB\", \"Precio\": \"350000\", \"Comision\": \"0.3\", \"Ingresos\": \"105000.0\", \"Metodo_pago\": \"Mercado_Pago\", \"Estado\": \"FONDOS_INSUFICIENTES\", \"Tipo_orden\": \"EN L\\\\u00cdNEA\", \"Ciudad\": \"Posadas\", \"Ubicacion\": \"(-27.366249, -55.906467)\", \"Latitud\": \"-27.36914\", \"Longitud\": \"-55.907959\", \"Fuente\": \"Influencer_1\", \"Marca\": \"Brand1\", \"Categoria\": \"LAPTOPS\", \"Creado_en\": \"2023-05-14 01:08:59\"}'\n",
      "Producing record: Simulador_Compras\tb'{\"ID_compra\": \"19bde833d3\", \"Nombre_producto\": \"Laptop_Brand3_8GB\", \"Precio\": \"319900\", \"Comision\": \"0.28\", \"Ingresos\": \"89572.0\", \"Metodo_pago\": \"Tarjeta_de_credito\", \"Estado\": \"COMPLETADO\", \"Tipo_orden\": \"EN L\\\\u00cdNEA\", \"Ciudad\": \"Cordoba\", \"Ubicacion\": \"(-31.418623, -64.190728)\", \"Latitud\": \"-31.405747\", \"Longitud\": \"-64.195188\", \"Fuente\": \"Influencer_4\", \"Marca\": \"Brand3\", \"Categoria\": \"LAPTOPS\", \"Creado_en\": \"2023-05-14 01:09:00\"}'\n",
      "Producing record: Simulador_Compras\tb'{\"ID_compra\": \"162fd9aacf\", \"Nombre_producto\": \"Laptop_Brand1_32GB\", \"Precio\": \"480000\", \"Comision\": \"0.35\", \"Ingresos\": \"168000.0\", \"Metodo_pago\": \"Mercado_Pago\", \"Estado\": \"COMPLETADO\", \"Tipo_orden\": \"EN L\\\\u00cdNEA\", \"Ciudad\": \"Cordoba\", \"Ubicacion\": \"(-31.436559, -64.183577)\", \"Latitud\": \"-31.405747\", \"Longitud\": \"-64.183577\", \"Fuente\": \"Organic\", \"Marca\": \"Brand1\", \"Categoria\": \"GAMING\", \"Creado_en\": \"2023-05-14 01:09:01\"}'\n",
      "Producing record: Simulador_Compras\tb'{\"ID_compra\": \"cdd0068a72\", \"Nombre_producto\": \"Console_PS5\", \"Precio\": \"400000\", \"Comision\": \"0.3\", \"Ingresos\": \"120000.0\", \"Metodo_pago\": \"Tarjeta_de_credito\", \"Estado\": \"COMPLETADO\", \"Tipo_orden\": \"EN L\\\\u00cdNEA\", \"Ciudad\": \"Rosario\", \"Ubicacion\": \"(-32.947581, -60.64169)\", \"Latitud\": \"-32.956032\", \"Longitud\": \"-60.64169\", \"Fuente\": \"Instagram\", \"Marca\": \"PS5\", \"Categoria\": \"VIDEO GAMES\", \"Creado_en\": \"2023-05-14 01:09:03\"}'\n",
      "Producing record: Simulador_Compras\tb'{\"ID_compra\": \"cf255881c2\", \"Nombre_producto\": \"Console_Switch\", \"Precio\": \"320000\", \"Comision\": \"0.2\", \"Ingresos\": \"64000.0\", \"Metodo_pago\": \"Tarjeta_de_credito\", \"Estado\": \"COMPLETADO\", \"Tipo_orden\": \"EN L\\\\u00cdNEA\", \"Ciudad\": \"Capital_Federal\", \"Ubicacion\": \"(-34.606232, -58.409714)\", \"Latitud\": \"-34.606232\", \"Longitud\": \"-58.411379\", \"Fuente\": \"Facebook\", \"Marca\": \"Nintendo\", \"Categoria\": \"VIDEO GAMES\", \"Creado_en\": \"2023-05-14 01:09:04\"}'\n",
      "Producing record: Simulador_Compras\tb'{\"ID_compra\": \"5b912ae1d0\", \"Nombre_producto\": \"Laptop_Brand1_16GB\", \"Precio\": \"350000\", \"Comision\": \"0.3\", \"Ingresos\": \"105000.0\", \"Metodo_pago\": \"Mercado_Pago\", \"Estado\": \"COMPLETADO\", \"Tipo_orden\": \"EN L\\\\u00cdNEA\", \"Ciudad\": \"Posadas\", \"Ubicacion\": \"(-27.362986, -55.907959)\", \"Latitud\": \"-27.366249\", \"Longitud\": \"-55.906467\", \"Fuente\": \"Influencer_1\", \"Marca\": \"Brand1\", \"Categoria\": \"LAPTOPS\", \"Creado_en\": \"2023-05-14 01:09:06\"}'\n",
      "Producing record: Simulador_Compras\tb'{\"ID_compra\": \"188ac1fa0e\", \"Nombre_producto\": \"Console_Switch\", \"Precio\": \"320000\", \"Comision\": \"0.2\", \"Ingresos\": \"64000.0\", \"Metodo_pago\": \"Mercado_Pago\", \"Estado\": \"COMPLETADO\", \"Tipo_orden\": \"EN L\\\\u00cdNEA\", \"Ciudad\": \"Rosario\", \"Ubicacion\": \"(-32.947581, -60.64169)\", \"Latitud\": \"-32.95775\", \"Longitud\": \"-60.646908\", \"Fuente\": \"Twitter\", \"Marca\": \"Nintendo\", \"Categoria\": \"VIDEO GAMES\", \"Creado_en\": \"2023-05-14 01:09:07\"}'\n",
      "Producing record: Simulador_Compras\tb'{\"ID_compra\": \"7616bafbc2\", \"Nombre_producto\": \"Laptop_Brand1_4GB\", \"Precio\": \"135000\", \"Comision\": \"0.2\", \"Ingresos\": \"27000.0\", \"Metodo_pago\": \"Mercado_Pago\", \"Estado\": \"FALLO_RESPUESTA_API\", \"Tipo_orden\": \"EN L\\\\u00cdNEA\", \"Ciudad\": \"Capital_Federal\", \"Ubicacion\": \"(-34.606232, -58.409714)\", \"Latitud\": \"-34.588571\", \"Longitud\": \"-58.375216\", \"Fuente\": \"Facebook\", \"Marca\": \"Brand1\", \"Categoria\": \"LAPTOPS\", \"Creado_en\": \"2023-05-14 01:09:09\"}'\n",
      "Producing record: Simulador_Compras\tb'{\"ID_compra\": \"5aa61bd414\", \"Nombre_producto\": \"Console_Switch\", \"Precio\": \"320000\", \"Comision\": \"0.2\", \"Ingresos\": \"64000.0\", \"Metodo_pago\": \"Mercado_Pago\", \"Estado\": \"COMPLETADO\", \"Tipo_orden\": \"EN L\\\\u00cdNEA\", \"Ciudad\": \"Rosario\", \"Ubicacion\": \"(-32.95775, -60.64178)\", \"Latitud\": \"-32.956032\", \"Longitud\": \"-60.64169\", \"Fuente\": \"Facebook\", \"Marca\": \"Nintendo\", \"Categoria\": \"VIDEO GAMES\", \"Creado_en\": \"2023-05-14 01:09:10\"}'\n",
      "Producing record: Simulador_Compras\tb'{\"ID_compra\": \"bf29bd2ec5\", \"Nombre_producto\": \"Console_Xbox\", \"Precio\": \"314000\", \"Comision\": \"0.15\", \"Ingresos\": \"47100.0\", \"Metodo_pago\": \"Tarjeta_de_credito\", \"Estado\": \"COMPLETADO\", \"Tipo_orden\": \"EN L\\\\u00cdNEA\", \"Ciudad\": \"Cordoba\", \"Ubicacion\": \"(-31.405747, -64.195188)\", \"Latitud\": \"-31.405747\", \"Longitud\": \"-64.195188\", \"Fuente\": \"Influencer_3\", \"Marca\": \"X_Box\", \"Categoria\": \"VIDEO GAMES\", \"Creado_en\": \"2023-05-14 01:09:11\"}'\n",
      "Producing record: Simulador_Compras\tb'{\"ID_compra\": \"e932d3512c\", \"Nombre_producto\": \"Console_PS5\", \"Precio\": \"400000\", \"Comision\": \"0.3\", \"Ingresos\": \"120000.0\", \"Metodo_pago\": \"Mercado_Pago\", \"Estado\": \"FONDOS_INSUFICIENTES\", \"Tipo_orden\": \"EN L\\\\u00cdNEA\", \"Ciudad\": \"Capital_Federal\", \"Ubicacion\": \"(-34.603738, -58.375216)\", \"Latitud\": \"-34.603738\", \"Longitud\": \"-58.409714\", \"Fuente\": \"Instagram\", \"Marca\": \"PS5\", \"Categoria\": \"VIDEO GAMES\", \"Creado_en\": \"2023-05-14 01:09:13\"}'\n",
      "Producing record: Simulador_Compras\tb'{\"ID_compra\": \"03dcd0cec4\", \"Nombre_producto\": \"Laptop_Brand1_4GB\", \"Precio\": \"135000\", \"Comision\": \"0.2\", \"Ingresos\": \"27000.0\", \"Metodo_pago\": \"Mercado_Pago\", \"Estado\": \"PAGO_FALLIDO\", \"Tipo_orden\": \"EN L\\\\u00cdNEA\", \"Ciudad\": \"Resistencia\", \"Ubicacion\": \"(-27.446658, -58.985378)\", \"Latitud\": \"-27.446658\", \"Longitud\": \"-58.985378\", \"Fuente\": \"Influencer_2\", \"Marca\": \"Brand1\", \"Categoria\": \"LAPTOPS\", \"Creado_en\": \"2023-05-14 01:09:14\"}'\n",
      "Producing record: Simulador_Compras\tb'{\"ID_compra\": \"5ffeb08c61\", \"Nombre_producto\": \"Laptop_Brand1_4GB\", \"Precio\": \"135000\", \"Comision\": \"0.2\", \"Ingresos\": \"27000.0\", \"Metodo_pago\": \"Mercado_Pago\", \"Estado\": \"COMPLETADO\", \"Tipo_orden\": \"EN L\\\\u00cdNEA\", \"Ciudad\": \"Cordoba\", \"Ubicacion\": \"(-31.405747, -64.195188)\", \"Latitud\": \"-31.418623\", \"Longitud\": \"-64.183577\", \"Fuente\": \"Instagram\", \"Marca\": \"Brand1\", \"Categoria\": \"LAPTOPS\", \"Creado_en\": \"2023-05-14 01:09:16\"}'\n",
      "Producing record: Simulador_Compras\tb'{\"ID_compra\": \"3c5dd45c79\", \"Nombre_producto\": \"Laptop_Brand3_4GB\", \"Precio\": \"185000\", \"Comision\": \"0.2\", \"Ingresos\": \"37000.0\", \"Metodo_pago\": \"Tarjeta_de_credito\", \"Estado\": \"FALLO_RESPUESTA_API\", \"Tipo_orden\": \"EN L\\\\u00cdNEA\", \"Ciudad\": \"Rosario\", \"Ubicacion\": \"(-32.95775, -60.64178)\", \"Latitud\": \"-32.956032\", \"Longitud\": \"-60.646908\", \"Fuente\": \"Influencer_3\", \"Marca\": \"Brand3\", \"Categoria\": \"LAPTOPS\", \"Creado_en\": \"2023-05-14 01:09:17\"}'\n",
      "Producing record: Simulador_Compras\tb'{\"ID_compra\": \"f89d2630de\", \"Nombre_producto\": \"Laptop_Brand2_4GB\", \"Precio\": \"115000\", \"Comision\": \"0.15\", \"Ingresos\": \"17250.0\", \"Metodo_pago\": \"Mercado_Pago\", \"Estado\": \"COMPLETADO\", \"Tipo_orden\": \"EN L\\\\u00cdNEA\", \"Ciudad\": \"Resistencia\", \"Ubicacion\": \"(-27.445978, -58.978493)\", \"Latitud\": \"-27.446658\", \"Longitud\": \"-58.985378\", \"Fuente\": \"Influencer_1\", \"Marca\": \"Brand2\", \"Categoria\": \"LAPTOPS\", \"Creado_en\": \"2023-05-14 01:09:18\"}'\n",
      "Producing record: Simulador_Compras\tb'{\"ID_compra\": \"379a6d615b\", \"Nombre_producto\": \"Laptop_Brand2_32GB\", \"Precio\": \"699000\", \"Comision\": \"0.25\", \"Ingresos\": \"174750.0\", \"Metodo_pago\": \"Mercado_Pago\", \"Estado\": \"FONDOS_INSUFICIENTES\", \"Tipo_orden\": \"EN L\\\\u00cdNEA\", \"Ciudad\": \"Cordoba\", \"Ubicacion\": \"(-31.436559, -64.183577)\", \"Latitud\": \"-31.405747\", \"Longitud\": \"-64.195188\", \"Fuente\": \"Organic\", \"Marca\": \"Brand2\", \"Categoria\": \"GAMING\", \"Creado_en\": \"2023-05-14 01:09:20\"}'\n",
      "Producing record: Simulador_Compras\tb'{\"ID_compra\": \"808979851a\", \"Nombre_producto\": \"Laptop_Brand3_16GB\", \"Precio\": \"465900\", \"Comision\": \"0.3\", \"Ingresos\": \"139770.0\", \"Metodo_pago\": \"Tarjeta_de_credito\", \"Estado\": \"COMPLETADO\", \"Tipo_orden\": \"EN L\\\\u00cdNEA\", \"Ciudad\": \"Capital_Federal\", \"Ubicacion\": \"(-34.588571, -58.411379)\", \"Latitud\": \"-34.603738\", \"Longitud\": \"-58.411379\", \"Fuente\": \"Influencer_4\", \"Marca\": \"Brand3\", \"Categoria\": \"LAPTOPS\", \"Creado_en\": \"2023-05-14 01:09:21\"}'\n",
      "Producing record: Simulador_Compras\tb'{\"ID_compra\": \"a411a41aed\", \"Nombre_producto\": \"Laptop_Brand1_4GB\", \"Precio\": \"135000\", \"Comision\": \"0.2\", \"Ingresos\": \"27000.0\", \"Metodo_pago\": \"Tarjeta_de_credito\", \"Estado\": \"COMPLETADO\", \"Tipo_orden\": \"EN L\\\\u00cdNEA\", \"Ciudad\": \"Rosario\", \"Ubicacion\": \"(-32.956032, -60.646908)\", \"Latitud\": \"-32.947581\", \"Longitud\": \"-60.646908\", \"Fuente\": \"Instagram\", \"Marca\": \"Brand1\", \"Categoria\": \"LAPTOPS\", \"Creado_en\": \"2023-05-14 01:09:22\"}'\n",
      "Producing record: Simulador_Compras\tb'{\"ID_compra\": \"19ccfe81f4\", \"Nombre_producto\": \"Console_Xbox\", \"Precio\": \"314000\", \"Comision\": \"0.15\", \"Ingresos\": \"47100.0\", \"Metodo_pago\": \"Mercado_Pago\", \"Estado\": \"COMPLETADO\", \"Tipo_orden\": \"EN L\\\\u00cdNEA\", \"Ciudad\": \"Cordoba\", \"Ubicacion\": \"(-31.418623, -64.190728)\", \"Latitud\": \"-31.436559\", \"Longitud\": \"-64.183577\", \"Fuente\": \"Instagram\", \"Marca\": \"X_Box\", \"Categoria\": \"VIDEO GAMES\", \"Creado_en\": \"2023-05-14 01:09:23\"}'\n",
      "Producing record: Simulador_Compras\tb'{\"ID_compra\": \"c2a42dd094\", \"Nombre_producto\": \"Laptop_Brand1_32GB\", \"Precio\": \"480000\", \"Comision\": \"0.35\", \"Ingresos\": \"168000.0\", \"Metodo_pago\": \"Mercado_Pago\", \"Estado\": \"FONDOS_INSUFICIENTES\", \"Tipo_orden\": \"EN L\\\\u00cdNEA\", \"Ciudad\": \"Posadas\", \"Ubicacion\": \"(-27.366249, -55.906467)\", \"Latitud\": \"-27.366249\", \"Longitud\": \"-55.907111\", \"Fuente\": \"Influencer_1\", \"Marca\": \"Brand1\", \"Categoria\": \"GAMING\", \"Creado_en\": \"2023-05-14 01:09:25\"}'\n",
      "Producing record: Simulador_Compras\tb'{\"ID_compra\": \"1c95fc2642\", \"Nombre_producto\": \"Console_Switch\", \"Precio\": \"320000\", \"Comision\": \"0.2\", \"Ingresos\": \"64000.0\", \"Metodo_pago\": \"Mercado_Pago\", \"Estado\": \"COMPLETADO\", \"Tipo_orden\": \"EN L\\\\u00cdNEA\", \"Ciudad\": \"Resistencia\", \"Ubicacion\": \"(-27.446658, -58.985378)\", \"Latitud\": \"-27.446658\", \"Longitud\": \"-58.986389\", \"Fuente\": \"Facebook\", \"Marca\": \"Nintendo\", \"Categoria\": \"VIDEO GAMES\", \"Creado_en\": \"2023-05-14 01:09:26\"}'\n",
      "Producing record: Simulador_Compras\tb'{\"ID_compra\": \"975cd61db6\", \"Nombre_producto\": \"Laptop_Brand3_32GB\", \"Precio\": \"1899900\", \"Comision\": \"0.4\", \"Ingresos\": \"759960.0\", \"Metodo_pago\": \"Mercado_Pago\", \"Estado\": \"FONDOS_INSUFICIENTES\", \"Tipo_orden\": \"EN L\\\\u00cdNEA\", \"Ciudad\": \"Posadas\", \"Ubicacion\": \"(-27.366249, -55.906467)\", \"Latitud\": \"-27.366249\", \"Longitud\": \"-55.907111\", \"Fuente\": \"Facebook\", \"Marca\": \"Brand3\", \"Categoria\": \"GAMING\", \"Creado_en\": \"2023-05-14 01:09:27\"}'\n",
      "Producing record: Simulador_Compras\tb'{\"ID_compra\": \"c317cb5c91\", \"Nombre_producto\": \"Laptop_Brand3_8GB\", \"Precio\": \"319900\", \"Comision\": \"0.28\", \"Ingresos\": \"89572.0\", \"Metodo_pago\": \"Mercado_Pago\", \"Estado\": \"COMPLETADO\", \"Tipo_orden\": \"EN L\\\\u00cdNEA\", \"Ciudad\": \"Posadas\", \"Ubicacion\": \"(-27.366249, -55.906467)\", \"Latitud\": \"-27.362986\", \"Longitud\": \"-55.907959\", \"Fuente\": \"Twitter\", \"Marca\": \"Brand3\", \"Categoria\": \"LAPTOPS\", \"Creado_en\": \"2023-05-14 01:09:28\"}'\n",
      "Producing record: Simulador_Compras\tb'{\"ID_compra\": \"2df6961ebe\", \"Nombre_producto\": \"Laptop_Brand1_16GB\", \"Precio\": \"350000\", \"Comision\": \"0.3\", \"Ingresos\": \"105000.0\", \"Metodo_pago\": \"Tarjeta_de_credito\", \"Estado\": \"COMPLETADO\", \"Tipo_orden\": \"EN L\\\\u00cdNEA\", \"Ciudad\": \"Cordoba\", \"Ubicacion\": \"(-31.436559, -64.183577)\", \"Latitud\": \"-31.436559\", \"Longitud\": \"-64.190728\", \"Fuente\": \"Instagram\", \"Marca\": \"Brand1\", \"Categoria\": \"LAPTOPS\", \"Creado_en\": \"2023-05-14 01:09:29\"}'\n",
      "Producing record: Simulador_Compras\tb'{\"ID_compra\": \"a05169863c\", \"Nombre_producto\": \"Laptop_Brand2_32GB\", \"Precio\": \"699000\", \"Comision\": \"0.25\", \"Ingresos\": \"174750.0\", \"Metodo_pago\": \"Mercado_Pago\", \"Estado\": \"COMPLETADO\", \"Tipo_orden\": \"EN L\\\\u00cdNEA\", \"Ciudad\": \"Cordoba\", \"Ubicacion\": \"(-31.418623, -64.190728)\", \"Latitud\": \"-31.418623\", \"Longitud\": \"-64.190728\", \"Fuente\": \"Organic\", \"Marca\": \"Brand2\", \"Categoria\": \"GAMING\", \"Creado_en\": \"2023-05-14 01:09:30\"}'\n",
      "Producing record: Simulador_Compras\tb'{\"ID_compra\": \"e7f72dce91\", \"Nombre_producto\": \"Laptop_Brand1_16GB\", \"Precio\": \"350000\", \"Comision\": \"0.3\", \"Ingresos\": \"105000.0\", \"Metodo_pago\": \"Tarjeta_de_credito\", \"Estado\": \"COMPLETADO\", \"Tipo_orden\": \"EN L\\\\u00cdNEA\", \"Ciudad\": \"Capital_Federal\", \"Ubicacion\": \"(-34.588571, -58.411379)\", \"Latitud\": \"-34.606232\", \"Longitud\": \"-58.375216\", \"Fuente\": \"Influencer_3\", \"Marca\": \"Brand1\", \"Categoria\": \"LAPTOPS\", \"Creado_en\": \"2023-05-14 01:09:32\"}'\n",
      "Producing record: Simulador_Compras\tb'{\"ID_compra\": \"91fde1563c\", \"Nombre_producto\": \"Laptop_Brand3_4GB\", \"Precio\": \"185000\", \"Comision\": \"0.2\", \"Ingresos\": \"37000.0\", \"Metodo_pago\": \"Mercado_Pago\", \"Estado\": \"COMPLETADO\", \"Tipo_orden\": \"EN L\\\\u00cdNEA\", \"Ciudad\": \"Rosario\", \"Ubicacion\": \"(-32.95775, -60.64178)\", \"Latitud\": \"-32.956032\", \"Longitud\": \"-60.64169\", \"Fuente\": \"Facebook\", \"Marca\": \"Brand3\", \"Categoria\": \"LAPTOPS\", \"Creado_en\": \"2023-05-14 01:09:33\"}'\n",
      "Producing record: Simulador_Compras\tb'{\"ID_compra\": \"a916c44773\", \"Nombre_producto\": \"Laptop_Brand1_32GB\", \"Precio\": \"480000\", \"Comision\": \"0.35\", \"Ingresos\": \"168000.0\", \"Metodo_pago\": \"Tarjeta_de_credito\", \"Estado\": \"COMPLETADO\", \"Tipo_orden\": \"EN L\\\\u00cdNEA\", \"Ciudad\": \"Cordoba\", \"Ubicacion\": \"(-31.418623, -64.190728)\", \"Latitud\": \"-31.436559\", \"Longitud\": \"-64.190728\", \"Fuente\": \"Influencer_3\", \"Marca\": \"Brand1\", \"Categoria\": \"GAMING\", \"Creado_en\": \"2023-05-14 01:09:35\"}'\n",
      "Producing record: Simulador_Compras\tb'{\"ID_compra\": \"2238362e2f\", \"Nombre_producto\": \"Laptop_Brand3_32GB\", \"Precio\": \"1899900\", \"Comision\": \"0.4\", \"Ingresos\": \"759960.0\", \"Metodo_pago\": \"Mercado_Pago\", \"Estado\": \"ERROR_USUARIO\", \"Tipo_orden\": \"EN L\\\\u00cdNEA\", \"Ciudad\": \"Rosario\", \"Ubicacion\": \"(-32.956032, -60.646908)\", \"Latitud\": \"-32.95775\", \"Longitud\": \"-60.64178\", \"Fuente\": \"Facebook\", \"Marca\": \"Brand3\", \"Categoria\": \"GAMING\", \"Creado_en\": \"2023-05-14 01:09:36\"}'\n",
      "Producing record: Simulador_Compras\tb'{\"ID_compra\": \"314e6ef0b0\", \"Nombre_producto\": \"Laptop_Brand1_8GB\", \"Precio\": \"255000\", \"Comision\": \"0.25\", \"Ingresos\": \"63750.0\", \"Metodo_pago\": \"Mercado_Pago\", \"Estado\": \"COMPLETADO\", \"Tipo_orden\": \"EN L\\\\u00cdNEA\", \"Ciudad\": \"Capital_Federal\", \"Ubicacion\": \"(-34.588571, -58.411379)\", \"Latitud\": \"-34.603738\", \"Longitud\": \"-58.411379\", \"Fuente\": \"Influencer_4\", \"Marca\": \"Brand1\", \"Categoria\": \"LAPTOPS\", \"Creado_en\": \"2023-05-14 01:09:38\"}'\n",
      "Producing record: Simulador_Compras\tb'{\"ID_compra\": \"0b28e33c0e\", \"Nombre_producto\": \"Laptop_Brand3_8GB\", \"Precio\": \"319900\", \"Comision\": \"0.28\", \"Ingresos\": \"89572.0\", \"Metodo_pago\": \"Tarjeta_de_credito\", \"Estado\": \"COMPLETADO\", \"Tipo_orden\": \"EN L\\\\u00cdNEA\", \"Ciudad\": \"Posadas\", \"Ubicacion\": \"(-27.362986, -55.907959)\", \"Latitud\": \"-27.362986\", \"Longitud\": \"-55.906467\", \"Fuente\": \"Influencer_2\", \"Marca\": \"Brand3\", \"Categoria\": \"LAPTOPS\", \"Creado_en\": \"2023-05-14 01:09:39\"}'\n",
      "Producing record: Simulador_Compras\tb'{\"ID_compra\": \"d63f1efe6a\", \"Nombre_producto\": \"Console_PS5\", \"Precio\": \"400000\", \"Comision\": \"0.3\", \"Ingresos\": \"120000.0\", \"Metodo_pago\": \"Mercado_Pago\", \"Estado\": \"COMPLETADO\", \"Tipo_orden\": \"EN L\\\\u00cdNEA\", \"Ciudad\": \"Posadas\", \"Ubicacion\": \"(-27.36914, -55.907111)\", \"Latitud\": \"-27.36914\", \"Longitud\": \"-55.907111\", \"Fuente\": \"Influencer_1\", \"Marca\": \"PS5\", \"Categoria\": \"VIDEO GAMES\", \"Creado_en\": \"2023-05-14 01:09:40\"}'\n",
      "Producing record: Simulador_Compras\tb'{\"ID_compra\": \"0eb0c9d0b1\", \"Nombre_producto\": \"Laptop_Brand2_4GB\", \"Precio\": \"115000\", \"Comision\": \"0.15\", \"Ingresos\": \"17250.0\", \"Metodo_pago\": \"Tarjeta_de_credito\", \"Estado\": \"COMPLETADO\", \"Tipo_orden\": \"EN L\\\\u00cdNEA\", \"Ciudad\": \"Posadas\", \"Ubicacion\": \"(-27.36914, -55.907111)\", \"Latitud\": \"-27.362986\", \"Longitud\": \"-55.907111\", \"Fuente\": \"Organic\", \"Marca\": \"Brand2\", \"Categoria\": \"LAPTOPS\", \"Creado_en\": \"2023-05-14 01:09:41\"}'\n",
      "Producing record: Simulador_Compras\tb'{\"ID_compra\": \"c62f3b7db0\", \"Nombre_producto\": \"Console_Switch\", \"Precio\": \"320000\", \"Comision\": \"0.2\", \"Ingresos\": \"64000.0\", \"Metodo_pago\": \"Tarjeta_de_credito\", \"Estado\": \"COMPLETADO\", \"Tipo_orden\": \"EN L\\\\u00cdNEA\", \"Ciudad\": \"Posadas\", \"Ubicacion\": \"(-27.366249, -55.906467)\", \"Latitud\": \"-27.36914\", \"Longitud\": \"-55.906467\", \"Fuente\": \"Influencer_2\", \"Marca\": \"Nintendo\", \"Categoria\": \"VIDEO GAMES\", \"Creado_en\": \"2023-05-14 01:09:42\"}'\n",
      "Producing record: Simulador_Compras\tb'{\"ID_compra\": \"3b5fe7a624\", \"Nombre_producto\": \"Laptop_Brand2_8GB\", \"Precio\": \"185000\", \"Comision\": \"0.18\", \"Ingresos\": \"33300.0\", \"Metodo_pago\": \"Mercado_Pago\", \"Estado\": \"ERROR_USUARIO\", \"Tipo_orden\": \"EN L\\\\u00cdNEA\", \"Ciudad\": \"Rosario\", \"Ubicacion\": \"(-32.947581, -60.64169)\", \"Latitud\": \"-32.956032\", \"Longitud\": \"-60.64178\", \"Fuente\": \"Twitter\", \"Marca\": \"Brand2\", \"Categoria\": \"LAPTOPS\", \"Creado_en\": \"2023-05-14 01:09:44\"}'\n",
      "Producing record: Simulador_Compras\tb'{\"ID_compra\": \"305a32f375\", \"Nombre_producto\": \"Laptop_Brand2_8GB\", \"Precio\": \"185000\", \"Comision\": \"0.18\", \"Ingresos\": \"33300.0\", \"Metodo_pago\": \"Tarjeta_de_credito\", \"Estado\": \"COMPLETADO\", \"Tipo_orden\": \"EN L\\\\u00cdNEA\", \"Ciudad\": \"Rosario\", \"Ubicacion\": \"(-32.956032, -60.646908)\", \"Latitud\": \"-32.95775\", \"Longitud\": \"-60.646908\", \"Fuente\": \"Influencer_2\", \"Marca\": \"Brand2\", \"Categoria\": \"LAPTOPS\", \"Creado_en\": \"2023-05-14 01:09:45\"}'\n",
      "Producing record: Simulador_Compras\tb'{\"ID_compra\": \"97cab1102d\", \"Nombre_producto\": \"Laptop_Brand3_8GB\", \"Precio\": \"319900\", \"Comision\": \"0.28\", \"Ingresos\": \"89572.0\", \"Metodo_pago\": \"Tarjeta_de_credito\", \"Estado\": \"FALLO_RESPUESTA_API\", \"Tipo_orden\": \"EN L\\\\u00cdNEA\", \"Ciudad\": \"Posadas\", \"Ubicacion\": \"(-27.36914, -55.907111)\", \"Latitud\": \"-27.366249\", \"Longitud\": \"-55.907959\", \"Fuente\": \"Instagram\", \"Marca\": \"Brand3\", \"Categoria\": \"LAPTOPS\", \"Creado_en\": \"2023-05-14 01:09:47\"}'\n",
      "Producing record: Simulador_Compras\tb'{\"ID_compra\": \"0e74604252\", \"Nombre_producto\": \"Laptop_Brand3_8GB\", \"Precio\": \"319900\", \"Comision\": \"0.28\", \"Ingresos\": \"89572.0\", \"Metodo_pago\": \"Mercado_Pago\", \"Estado\": \"COMPLETADO\", \"Tipo_orden\": \"EN L\\\\u00cdNEA\", \"Ciudad\": \"Capital_Federal\", \"Ubicacion\": \"(-34.588571, -58.411379)\", \"Latitud\": \"-34.603738\", \"Longitud\": \"-58.375216\", \"Fuente\": \"Organic\", \"Marca\": \"Brand3\", \"Categoria\": \"LAPTOPS\", \"Creado_en\": \"2023-05-14 01:09:48\"}'\n",
      "Producing record: Simulador_Compras\tb'{\"ID_compra\": \"acb6b5764c\", \"Nombre_producto\": \"Laptop_Brand2_8GB\", \"Precio\": \"185000\", \"Comision\": \"0.18\", \"Ingresos\": \"33300.0\", \"Metodo_pago\": \"Tarjeta_de_credito\", \"Estado\": \"FALLO_RESPUESTA_API\", \"Tipo_orden\": \"EN L\\\\u00cdNEA\", \"Ciudad\": \"Capital_Federal\", \"Ubicacion\": \"(-34.588571, -58.411379)\", \"Latitud\": \"-34.606232\", \"Longitud\": \"-58.375216\", \"Fuente\": \"Influencer_4\", \"Marca\": \"Brand2\", \"Categoria\": \"LAPTOPS\", \"Creado_en\": \"2023-05-14 01:09:49\"}'\n",
      "Producing record: Simulador_Compras\tb'{\"ID_compra\": \"c9a5f4bc18\", \"Nombre_producto\": \"Laptop_Brand2_32GB\", \"Precio\": \"699000\", \"Comision\": \"0.25\", \"Ingresos\": \"174750.0\", \"Metodo_pago\": \"Tarjeta_de_credito\", \"Estado\": \"COMPLETADO\", \"Tipo_orden\": \"EN L\\\\u00cdNEA\", \"Ciudad\": \"Resistencia\", \"Ubicacion\": \"(-27.446658, -58.985378)\", \"Latitud\": \"-27.446658\", \"Longitud\": \"-58.985378\", \"Fuente\": \"Instagram\", \"Marca\": \"Brand2\", \"Categoria\": \"GAMING\", \"Creado_en\": \"2023-05-14 01:09:50\"}'\n",
      "Producing record: Simulador_Compras\tb'{\"ID_compra\": \"0d0f70999f\", \"Nombre_producto\": \"Console_Xbox\", \"Precio\": \"314000\", \"Comision\": \"0.15\", \"Ingresos\": \"47100.0\", \"Metodo_pago\": \"Mercado_Pago\", \"Estado\": \"COMPLETADO\", \"Tipo_orden\": \"EN L\\\\u00cdNEA\", \"Ciudad\": \"Posadas\", \"Ubicacion\": \"(-27.36914, -55.907111)\", \"Latitud\": \"-27.36914\", \"Longitud\": \"-55.907111\", \"Fuente\": \"Instagram\", \"Marca\": \"X_Box\", \"Categoria\": \"VIDEO GAMES\", \"Creado_en\": \"2023-05-14 01:09:51\"}'\n",
      "Producing record: Simulador_Compras\tb'{\"ID_compra\": \"981fb98c1e\", \"Nombre_producto\": \"Console_Switch\", \"Precio\": \"320000\", \"Comision\": \"0.2\", \"Ingresos\": \"64000.0\", \"Metodo_pago\": \"Mercado_Pago\", \"Estado\": \"PAGO_FALLIDO\", \"Tipo_orden\": \"EN L\\\\u00cdNEA\", \"Ciudad\": \"Cordoba\", \"Ubicacion\": \"(-31.405747, -64.195188)\", \"Latitud\": \"-31.418623\", \"Longitud\": \"-64.190728\", \"Fuente\": \"Influencer_4\", \"Marca\": \"Nintendo\", \"Categoria\": \"VIDEO GAMES\", \"Creado_en\": \"2023-05-14 01:09:52\"}'\n",
      "Producing record: Simulador_Compras\tb'{\"ID_compra\": \"401c447812\", \"Nombre_producto\": \"Laptop_Brand2_4GB\", \"Precio\": \"115000\", \"Comision\": \"0.15\", \"Ingresos\": \"17250.0\", \"Metodo_pago\": \"Tarjeta_de_credito\", \"Estado\": \"ERROR_USUARIO\", \"Tipo_orden\": \"EN L\\\\u00cdNEA\", \"Ciudad\": \"Cordoba\", \"Ubicacion\": \"(-31.405747, -64.195188)\", \"Latitud\": \"-31.436559\", \"Longitud\": \"-64.190728\", \"Fuente\": \"Twitter\", \"Marca\": \"Brand2\", \"Categoria\": \"LAPTOPS\", \"Creado_en\": \"2023-05-14 01:09:54\"}'\n",
      "Producing record: Simulador_Compras\tb'{\"ID_compra\": \"514fca1012\", \"Nombre_producto\": \"Laptop_Brand1_4GB\", \"Precio\": \"135000\", \"Comision\": \"0.2\", \"Ingresos\": \"27000.0\", \"Metodo_pago\": \"Mercado_Pago\", \"Estado\": \"COMPLETADO\", \"Tipo_orden\": \"EN L\\\\u00cdNEA\", \"Ciudad\": \"Posadas\", \"Ubicacion\": \"(-27.366249, -55.906467)\", \"Latitud\": \"-27.366249\", \"Longitud\": \"-55.907959\", \"Fuente\": \"Influencer_4\", \"Marca\": \"Brand1\", \"Categoria\": \"LAPTOPS\", \"Creado_en\": \"2023-05-14 01:09:55\"}'\n",
      "Producing record: Simulador_Compras\tb'{\"ID_compra\": \"2bc5f25337\", \"Nombre_producto\": \"Laptop_Brand1_32GB\", \"Precio\": \"480000\", \"Comision\": \"0.35\", \"Ingresos\": \"168000.0\", \"Metodo_pago\": \"Mercado_Pago\", \"Estado\": \"COMPLETADO\", \"Tipo_orden\": \"EN L\\\\u00cdNEA\", \"Ciudad\": \"Capital_Federal\", \"Ubicacion\": \"(-34.588571, -58.411379)\", \"Latitud\": \"-34.603738\", \"Longitud\": \"-58.375216\", \"Fuente\": \"Influencer_1\", \"Marca\": \"Brand1\", \"Categoria\": \"GAMING\", \"Creado_en\": \"2023-05-14 01:09:56\"}'\n",
      "Producing record: Simulador_Compras\tb'{\"ID_compra\": \"2c29359aac\", \"Nombre_producto\": \"Laptop_Brand1_16GB\", \"Precio\": \"350000\", \"Comision\": \"0.3\", \"Ingresos\": \"105000.0\", \"Metodo_pago\": \"Tarjeta_de_credito\", \"Estado\": \"COMPLETADO\", \"Tipo_orden\": \"EN L\\\\u00cdNEA\", \"Ciudad\": \"Rosario\", \"Ubicacion\": \"(-32.95775, -60.64178)\", \"Latitud\": \"-32.956032\", \"Longitud\": \"-60.646908\", \"Fuente\": \"Influencer_1\", \"Marca\": \"Brand1\", \"Categoria\": \"LAPTOPS\", \"Creado_en\": \"2023-05-14 01:09:58\"}'\n",
      "Producing record: Simulador_Compras\tb'{\"ID_compra\": \"9f01f31fb5\", \"Nombre_producto\": \"Laptop_Brand3_8GB\", \"Precio\": \"319900\", \"Comision\": \"0.28\", \"Ingresos\": \"89572.0\", \"Metodo_pago\": \"Tarjeta_de_credito\", \"Estado\": \"COMPLETADO\", \"Tipo_orden\": \"EN L\\\\u00cdNEA\", \"Ciudad\": \"Cordoba\", \"Ubicacion\": \"(-31.418623, -64.190728)\", \"Latitud\": \"-31.436559\", \"Longitud\": \"-64.195188\", \"Fuente\": \"Influencer_2\", \"Marca\": \"Brand3\", \"Categoria\": \"LAPTOPS\", \"Creado_en\": \"2023-05-14 01:09:59\"}'\n",
      "Producing record: Simulador_Compras\tb'{\"ID_compra\": \"c8d49f2355\", \"Nombre_producto\": \"Laptop_Brand1_16GB\", \"Precio\": \"350000\", \"Comision\": \"0.3\", \"Ingresos\": \"105000.0\", \"Metodo_pago\": \"Mercado_Pago\", \"Estado\": \"FONDOS_INSUFICIENTES\", \"Tipo_orden\": \"EN L\\\\u00cdNEA\", \"Ciudad\": \"Resistencia\", \"Ubicacion\": \"(-27.451214, -58.986389)\", \"Latitud\": \"-27.446658\", \"Longitud\": \"-58.978493\", \"Fuente\": \"Facebook\", \"Marca\": \"Brand1\", \"Categoria\": \"LAPTOPS\", \"Creado_en\": \"2023-05-14 01:10:00\"}'\n",
      "Producing record: Simulador_Compras\tb'{\"ID_compra\": \"4f10d44cf7\", \"Nombre_producto\": \"Laptop_Brand1_4GB\", \"Precio\": \"135000\", \"Comision\": \"0.2\", \"Ingresos\": \"27000.0\", \"Metodo_pago\": \"Tarjeta_de_credito\", \"Estado\": \"COMPLETADO\", \"Tipo_orden\": \"EN L\\\\u00cdNEA\", \"Ciudad\": \"Cordoba\", \"Ubicacion\": \"(-31.436559, -64.183577)\", \"Latitud\": \"-31.405747\", \"Longitud\": \"-64.190728\", \"Fuente\": \"Twitter\", \"Marca\": \"Brand1\", \"Categoria\": \"LAPTOPS\", \"Creado_en\": \"2023-05-14 01:10:01\"}'\n",
      "Producing record: Simulador_Compras\tb'{\"ID_compra\": \"e6cdb28595\", \"Nombre_producto\": \"Console_PS5\", \"Precio\": \"400000\", \"Comision\": \"0.3\", \"Ingresos\": \"120000.0\", \"Metodo_pago\": \"Tarjeta_de_credito\", \"Estado\": \"COMPLETADO\", \"Tipo_orden\": \"EN L\\\\u00cdNEA\", \"Ciudad\": \"Resistencia\", \"Ubicacion\": \"(-27.445978, -58.978493)\", \"Latitud\": \"-27.446658\", \"Longitud\": \"-58.978493\", \"Fuente\": \"Influencer_2\", \"Marca\": \"PS5\", \"Categoria\": \"VIDEO GAMES\", \"Creado_en\": \"2023-05-14 01:10:03\"}'\n",
      "Producing record: Simulador_Compras\tb'{\"ID_compra\": \"4090de5180\", \"Nombre_producto\": \"Laptop_Brand3_16GB\", \"Precio\": \"465900\", \"Comision\": \"0.3\", \"Ingresos\": \"139770.0\", \"Metodo_pago\": \"Mercado_Pago\", \"Estado\": \"COMPLETADO\", \"Tipo_orden\": \"EN L\\\\u00cdNEA\", \"Ciudad\": \"Posadas\", \"Ubicacion\": \"(-27.366249, -55.906467)\", \"Latitud\": \"-27.362986\", \"Longitud\": \"-55.907959\", \"Fuente\": \"Influencer_3\", \"Marca\": \"Brand3\", \"Categoria\": \"LAPTOPS\", \"Creado_en\": \"2023-05-14 01:10:04\"}'\n",
      "Producing record: Simulador_Compras\tb'{\"ID_compra\": \"0d5335e042\", \"Nombre_producto\": \"Laptop_Brand2_32GB\", \"Precio\": \"699000\", \"Comision\": \"0.25\", \"Ingresos\": \"174750.0\", \"Metodo_pago\": \"Tarjeta_de_credito\", \"Estado\": \"FONDOS_INSUFICIENTES\", \"Tipo_orden\": \"EN L\\\\u00cdNEA\", \"Ciudad\": \"Cordoba\", \"Ubicacion\": \"(-31.405747, -64.195188)\", \"Latitud\": \"-31.405747\", \"Longitud\": \"-64.190728\", \"Fuente\": \"Instagram\", \"Marca\": \"Brand2\", \"Categoria\": \"GAMING\", \"Creado_en\": \"2023-05-14 01:10:05\"}'\n",
      "Producing record: Simulador_Compras\tb'{\"ID_compra\": \"22de448cc1\", \"Nombre_producto\": \"Console_Xbox\", \"Precio\": \"314000\", \"Comision\": \"0.15\", \"Ingresos\": \"47100.0\", \"Metodo_pago\": \"Tarjeta_de_credito\", \"Estado\": \"COMPLETADO\", \"Tipo_orden\": \"EN L\\\\u00cdNEA\", \"Ciudad\": \"Rosario\", \"Ubicacion\": \"(-32.956032, -60.646908)\", \"Latitud\": \"-32.947581\", \"Longitud\": \"-60.64178\", \"Fuente\": \"Influencer_1\", \"Marca\": \"X_Box\", \"Categoria\": \"VIDEO GAMES\", \"Creado_en\": \"2023-05-14 01:10:06\"}'\n",
      "Producing record: Simulador_Compras\tb'{\"ID_compra\": \"c2cfd64500\", \"Nombre_producto\": \"Laptop_Brand1_8GB\", \"Precio\": \"255000\", \"Comision\": \"0.25\", \"Ingresos\": \"63750.0\", \"Metodo_pago\": \"Tarjeta_de_credito\", \"Estado\": \"FALLO_RESPUESTA_API\", \"Tipo_orden\": \"EN L\\\\u00cdNEA\", \"Ciudad\": \"Capital_Federal\", \"Ubicacion\": \"(-34.606232, -58.409714)\", \"Latitud\": \"-34.588571\", \"Longitud\": \"-58.375216\", \"Fuente\": \"Influencer_3\", \"Marca\": \"Brand1\", \"Categoria\": \"LAPTOPS\", \"Creado_en\": \"2023-05-14 01:10:07\"}'\n",
      "Producing record: Simulador_Compras\tb'{\"ID_compra\": \"095445f515\", \"Nombre_producto\": \"Laptop_Brand2_4GB\", \"Precio\": \"115000\", \"Comision\": \"0.15\", \"Ingresos\": \"17250.0\", \"Metodo_pago\": \"Mercado_Pago\", \"Estado\": \"COMPLETADO\", \"Tipo_orden\": \"EN L\\\\u00cdNEA\", \"Ciudad\": \"Rosario\", \"Ubicacion\": \"(-32.95775, -60.64178)\", \"Latitud\": \"-32.95775\", \"Longitud\": \"-60.64178\", \"Fuente\": \"Organic\", \"Marca\": \"Brand2\", \"Categoria\": \"LAPTOPS\", \"Creado_en\": \"2023-05-14 01:10:08\"}'\n",
      "Producing record: Simulador_Compras\tb'{\"ID_compra\": \"9efa94228b\", \"Nombre_producto\": \"Laptop_Brand3_8GB\", \"Precio\": \"319900\", \"Comision\": \"0.28\", \"Ingresos\": \"89572.0\", \"Metodo_pago\": \"Mercado_Pago\", \"Estado\": \"FALLO_RESPUESTA_API\", \"Tipo_orden\": \"EN L\\\\u00cdNEA\", \"Ciudad\": \"Rosario\", \"Ubicacion\": \"(-32.95775, -60.64178)\", \"Latitud\": \"-32.956032\", \"Longitud\": \"-60.64169\", \"Fuente\": \"Influencer_2\", \"Marca\": \"Brand3\", \"Categoria\": \"LAPTOPS\", \"Creado_en\": \"2023-05-14 01:10:09\"}'\n",
      "Producing record: Simulador_Compras\tb'{\"ID_compra\": \"2b3b9dad09\", \"Nombre_producto\": \"Laptop_Brand1_4GB\", \"Precio\": \"135000\", \"Comision\": \"0.2\", \"Ingresos\": \"27000.0\", \"Metodo_pago\": \"Tarjeta_de_credito\", \"Estado\": \"COMPLETADO\", \"Tipo_orden\": \"EN L\\\\u00cdNEA\", \"Ciudad\": \"Cordoba\", \"Ubicacion\": \"(-31.405747, -64.195188)\", \"Latitud\": \"-31.418623\", \"Longitud\": \"-64.195188\", \"Fuente\": \"Twitter\", \"Marca\": \"Brand1\", \"Categoria\": \"LAPTOPS\", \"Creado_en\": \"2023-05-14 01:10:10\"}'\n",
      "Producing record: Simulador_Compras\tb'{\"ID_compra\": \"002b23aa64\", \"Nombre_producto\": \"Laptop_Brand1_16GB\", \"Precio\": \"350000\", \"Comision\": \"0.3\", \"Ingresos\": \"105000.0\", \"Metodo_pago\": \"Tarjeta_de_credito\", \"Estado\": \"FONDOS_INSUFICIENTES\", \"Tipo_orden\": \"EN L\\\\u00cdNEA\", \"Ciudad\": \"Resistencia\", \"Ubicacion\": \"(-27.446658, -58.985378)\", \"Latitud\": \"-27.445978\", \"Longitud\": \"-58.978493\", \"Fuente\": \"Influencer_2\", \"Marca\": \"Brand1\", \"Categoria\": \"LAPTOPS\", \"Creado_en\": \"2023-05-14 01:10:12\"}'\n",
      "Producing record: Simulador_Compras\tb'{\"ID_compra\": \"a6e949bfe8\", \"Nombre_producto\": \"Laptop_Brand1_8GB\", \"Precio\": \"255000\", \"Comision\": \"0.25\", \"Ingresos\": \"63750.0\", \"Metodo_pago\": \"Tarjeta_de_credito\", \"Estado\": \"COMPLETADO\", \"Tipo_orden\": \"EN L\\\\u00cdNEA\", \"Ciudad\": \"Resistencia\", \"Ubicacion\": \"(-27.451214, -58.986389)\", \"Latitud\": \"-27.451214\", \"Longitud\": \"-58.985378\", \"Fuente\": \"Influencer_4\", \"Marca\": \"Brand1\", \"Categoria\": \"LAPTOPS\", \"Creado_en\": \"2023-05-14 01:10:13\"}'\n",
      "Producing record: Simulador_Compras\tb'{\"ID_compra\": \"9298ef6c46\", \"Nombre_producto\": \"Laptop_Brand1_16GB\", \"Precio\": \"350000\", \"Comision\": \"0.3\", \"Ingresos\": \"105000.0\", \"Metodo_pago\": \"Mercado_Pago\", \"Estado\": \"FRAUDE\", \"Tipo_orden\": \"EN L\\\\u00cdNEA\", \"Ciudad\": \"Rosario\", \"Ubicacion\": \"(-32.95775, -60.64178)\", \"Latitud\": \"-32.956032\", \"Longitud\": \"-60.64178\", \"Fuente\": \"Influencer_4\", \"Marca\": \"Brand1\", \"Categoria\": \"LAPTOPS\", \"Creado_en\": \"2023-05-14 01:10:15\"}'\n",
      "Producing record: Simulador_Compras\tb'{\"ID_compra\": \"f7c6844333\", \"Nombre_producto\": \"Laptop_Brand1_8GB\", \"Precio\": \"255000\", \"Comision\": \"0.25\", \"Ingresos\": \"63750.0\", \"Metodo_pago\": \"Mercado_Pago\", \"Estado\": \"PAGO_FALLIDO\", \"Tipo_orden\": \"EN L\\\\u00cdNEA\", \"Ciudad\": \"Posadas\", \"Ubicacion\": \"(-27.362986, -55.907959)\", \"Latitud\": \"-27.366249\", \"Longitud\": \"-55.907959\", \"Fuente\": \"Twitter\", \"Marca\": \"Brand1\", \"Categoria\": \"LAPTOPS\", \"Creado_en\": \"2023-05-14 01:10:16\"}'\n"
     ]
    },
    {
     "ename": "KeyboardInterrupt",
     "evalue": "",
     "output_type": "error",
     "traceback": [
      "\u001b[0;31m---------------------------------------------------------------------------\u001b[0m",
      "\u001b[0;31mKeyboardInterrupt\u001b[0m                         Traceback (most recent call last)",
      "Cell \u001b[0;32mIn[14], line 50\u001b[0m\n\u001b[1;32m     47\u001b[0m     registros_entregados \u001b[38;5;241m+\u001b[39m\u001b[38;5;241m=\u001b[39m \u001b[38;5;241m1\u001b[39m\n\u001b[1;32m     48\u001b[0m     x \u001b[38;5;241m+\u001b[39m\u001b[38;5;241m=\u001b[39m \u001b[38;5;241m1\u001b[39m\n\u001b[0;32m---> 50\u001b[0m     \u001b[43mtime\u001b[49m\u001b[38;5;241;43m.\u001b[39;49m\u001b[43msleep\u001b[49m\u001b[43m(\u001b[49m\u001b[43mrandom\u001b[49m\u001b[38;5;241;43m.\u001b[39;49m\u001b[43mchoice\u001b[49m\u001b[43m(\u001b[49m\u001b[43m[\u001b[49m\u001b[38;5;241;43m1\u001b[39;49m\u001b[43m,\u001b[49m\u001b[38;5;241;43m1.5\u001b[39;49m\u001b[43m]\u001b[49m\u001b[43m)\u001b[49m\u001b[43m)\u001b[49m\n\u001b[1;32m     52\u001b[0m productor\u001b[38;5;241m.\u001b[39mflush()\n\u001b[1;32m     54\u001b[0m \u001b[38;5;28mprint\u001b[39m(\u001b[38;5;124m'\u001b[39m\u001b[38;5;130;01m\\n\u001b[39;00m\u001b[38;5;124m'\u001b[39m)\n",
      "\u001b[0;31mKeyboardInterrupt\u001b[0m: "
     ]
    }
   ],
   "source": [
    "registros_entregados = 0\n",
    "topic = 'topic_Druid'\n",
    "\n",
    "x = 1\n",
    "\n",
    "data_purchase = []\n",
    "\n",
    "while(x > 0):\n",
    "    \n",
    "    fecha = pd.to_datetime('today').strftime(\"%Y-%m-%d %H:%M:%S\")\n",
    "    \n",
    "    producto = df['NOMBRE_PRODUCTO'][random.randint(0, 14)]\n",
    "    precio = df[df['NOMBRE_PRODUCTO'] == producto]['PRECIO'].values[0]\n",
    "    comision = df[df['NOMBRE_PRODUCTO'] == producto]['COMISION'].values[0]\n",
    "    marca = df[df['NOMBRE_PRODUCTO'] == producto]['MARCA'].values[0]\n",
    "    categoria = df[df['NOMBRE_PRODUCTO'] == producto]['CATEGORIA'].values[0]\n",
    "    fuente_temp = random.choice(origen)\n",
    "    pago = obtener_metodo_pago(fuente_temp, estado_compra, pago_en_linea, pago_en_tienda)\n",
    "    ciudad = random.choice(ciudades)\n",
    "    \n",
    "    compra = {\n",
    "        'ID_compra': str(hashlib.sha256(f\"{x} {producto} {precio} {comision} {fecha} {fuente_temp} {pago[1]}\".encode('utf-8')).hexdigest())[:10],\n",
    "        'Nombre_producto': producto,\n",
    "        'Precio': str(precio),\n",
    "        'Comision': str(comision),\n",
    "        'Ingresos': str(round(precio * comision, 2)),\n",
    "        'Metodo_pago': pago[0],\n",
    "        'Estado': pago[1],\n",
    "        'Tipo_orden': pago[2],\n",
    "        'Ciudad': ciudad,\n",
    "        'Ubicacion': str(obtener_coordenadas(ciudad)),\n",
    "        'Latitud': str(obtener_coordenadas(ciudad)[0]),\n",
    "        'Longitud': str(obtener_coordenadas(ciudad)[1]),\n",
    "        'Fuente': fuente_temp,\n",
    "        'Marca': marca,\n",
    "        'Categoria': categoria,\n",
    "        'Creado_en': fecha\n",
    "    }\n",
    "    \n",
    "    # data_purchase.append(pd.DataFrame(compra))\n",
    "\n",
    "    record_key = \"Simulador_Compras\"\n",
    "    record_value =  json.dumps(compra).encode('utf-8')\n",
    "    print(\"Producing record: {}\\t{}\".format(record_key, record_value))\n",
    "    producer.produce(topic, key=record_key, value=record_value)\n",
    "    producer.poll(0)\n",
    "    registros_entregados += 1\n",
    "    x += 1\n",
    "    \n",
    "    time.sleep(random.choice([1,1.5]))\n",
    "\n",
    "productor.flush()\n",
    "\n",
    "print('\\n')\n",
    "print('\\n')\n",
    "print(\"¡Se produjeron {} mensajes en el tema {}!\".format(registros_entregados, topic))\n",
    "print('\\n')\n",
    "print('\\n')"
   ]
  }
 ],
 "metadata": {
  "kernelspec": {
   "display_name": "Python 3 (ipykernel)",
   "language": "python",
   "name": "python3"
  },
  "language_info": {
   "codemirror_mode": {
    "name": "ipython",
    "version": 3
   },
   "file_extension": ".py",
   "mimetype": "text/x-python",
   "name": "python",
   "nbconvert_exporter": "python",
   "pygments_lexer": "ipython3",
   "version": "3.10.10"
  },
  "vscode": {
   "interpreter": {
    "hash": "ad2bdc8ecc057115af97d19610ffacc2b4e99fae6737bb82f5d7fb13d2f2c186"
   }
  }
 },
 "nbformat": 4,
 "nbformat_minor": 5
}
